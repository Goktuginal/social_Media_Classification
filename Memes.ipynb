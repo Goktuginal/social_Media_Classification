{
 "cells": [
  {
   "cell_type": "code",
   "execution_count": 1,
   "id": "34d6f2b1-bf58-4a39-b1b6-8b51eb111757",
   "metadata": {},
   "outputs": [],
   "source": [
    "import json\n",
    "\n",
    "# Open and read the JSON file\n",
    "with open('/Users/naranja/Downloads/EXIST 2025 Dataset V0.3/EXIST 2025 Memes Dataset/training/EXIST2025_training.json', 'r') as file:\n",
    "    train_data = json.load(file)\n",
    "with open('/Users/naranja/Downloads/EXIST 2025 Dataset V0.3/EXIST 2025 Memes Dataset/test/EXIST2025_test_clean.json', 'r') as file:\n",
    "    test_data = json.load(file)"
   ]
  },
  {
   "cell_type": "code",
   "execution_count": 2,
   "id": "d2441066-1079-487e-a1af-88d190215abc",
   "metadata": {},
   "outputs": [],
   "source": [
    "import pandas as pd\n",
    "import numpy as np\n",
    "\n",
    "train_df = pd.DataFrame(train_data)\n",
    "test_df = pd.DataFrame(test_data)\n",
    "train_df = train_df.transpose()\n",
    "test_df = test_df.transpose()\n",
    "\n",
    "train_df = train_df[train_df['lang'] == 'en']\n",
    "test_df = test_df[test_df['lang'] == 'en']"
   ]
  },
  {
   "cell_type": "code",
   "execution_count": 3,
   "id": "654f0b80-95e6-4785-96a9-cb1fda0d9a82",
   "metadata": {
    "jupyter": {
     "source_hidden": true
    },
    "scrolled": true
   },
   "outputs": [
    {
     "name": "stderr",
     "output_type": "stream",
     "text": [
      "2025-05-19 11:23:29.111856: I tensorflow/core/platform/cpu_feature_guard.cc:210] This TensorFlow binary is optimized to use available CPU instructions in performance-critical operations.\n",
      "To enable the following instructions: AVX2 FMA, in other operations, rebuild TensorFlow with the appropriate compiler flags.\n",
      "[nltk_data] Downloading package stopwords to\n",
      "[nltk_data]     /Users/naranja/nltk_data...\n",
      "[nltk_data]   Package stopwords is already up-to-date!\n"
     ]
    }
   ],
   "source": [
    "import re\n",
    "import string\n",
    "import nltk\n",
    "import tensorflow as tf\n",
    "\n",
    "nltk.download('stopwords')\n",
    "from nltk.corpus import stopwords\n",
    "\n",
    "stop = set(stopwords.words(fileids=('english')))\n",
    "def remove_stopwords(text):\n",
    "    filtered_words = [word.lower() for word in text.split() if word.lower() not in stop]\n",
    "    return \" \".join(filtered_words)\n",
    "\n",
    "def normalize_whitespace(text_tensor):\n",
    "    # Replace tabs and newlines with space\n",
    "    text_tensor = tf.strings.regex_replace(text_tensor, r\"[\\t\\n\\r]+\", \" \")\n",
    "\n",
    "    # Replace multiple spaces with single space\n",
    "    text_tensor = tf.strings.regex_replace(text_tensor, r\"\\s{2,}\", \" \")\n",
    "\n",
    "    # Strip leading/trailing whitespace\n",
    "    text_tensor = tf.strings.strip(text_tensor)\n",
    "    return text_tensor\n",
    "\n",
    "def remove_username(text):\n",
    "    user = re.compile(r\"@[^\\s]+\")\n",
    "    return user.sub(r\"\", text)\n",
    "\n",
    "def remove_URL(text):\n",
    "    url = re.compile(r\"https?://\\S+|www\\.\\S+\")\n",
    "    return url.sub(r\"\", text)\n",
    "\n",
    "def remove_punct(text):\n",
    "    translator = str.maketrans(\"\", \"\", string.punctuation)\n",
    "    return text.translate(translator)\n",
    "\n",
    "def remove_emails(text):\n",
    "    # Define email pattern using re\n",
    "    email_pattern = re.compile(\n",
    "        r\"\\b[\\w\\.-]+@[\\w\\.-]+\\.\\w{2,4}\\b\",  # Basic email pattern\n",
    "        flags=re.UNICODE\n",
    "    )\n",
    "    email_regex_str = email_pattern.pattern\n",
    "    cleaned_text = tf.strings.regex_replace(text, email_regex_str, \"\")\n",
    "    return cleaned_text\n",
    "\n",
    "def remove_emoji(text):\n",
    "    emoji_pattern = re.compile(\n",
    "        \"[\"\n",
    "        u\"\\U0001F600-\\U0001F64F\"  # Emoticons\n",
    "        u\"\\U0001F300-\\U0001F5FF\"  # Symbols & Pictographs\n",
    "        u\"\\U0001F680-\\U0001F6FF\"  # Transport & Map Symbols\n",
    "        u\"\\U0001F1E0-\\U0001F1FF\"  # Flags\n",
    "        u\"\\U00002700-\\U000027BF\"  # Dingbats\n",
    "        u\"\\U0001F900-\\U0001F9FF\"  # Supplemental Symbols and Pictographs\n",
    "        u\"\\U00002600-\\U000026FF\"  # Misc symbols\n",
    "        \"]+\", \n",
    "        flags=re.UNICODE\n",
    "    )\n",
    "    return emoji_pattern.sub(r'', text)"
   ]
  },
  {
   "cell_type": "code",
   "execution_count": 4,
   "id": "bc59fc37-207d-4b81-baf2-e834b0f7dfea",
   "metadata": {
    "jupyter": {
     "source_hidden": true
    }
   },
   "outputs": [],
   "source": [
    "train_df['text'] = train_df['text'].apply(\n",
    "    lambda x: remove_emails(tf.constant(x)).numpy().decode('utf-8')\n",
    ")\n",
    "train_df['text'] = train_df.text.map(remove_username)\n",
    "train_df['text'] = train_df.text.map(remove_URL)\n",
    "train_df['text'] = train_df.text.map(remove_punct)\n",
    "train_df['text'] = train_df.text.map(remove_emoji)\n",
    "train_df['text'] = train_df['text'].apply(\n",
    "    lambda x: normalize_whitespace(tf.constant(x)).numpy().decode('utf-8')\n",
    ")\n",
    "test_df['text'] = test_df['text'].apply(\n",
    "    lambda x: remove_emails(tf.constant(x)).numpy().decode('utf-8')\n",
    ")\n",
    "test_df['text'] = test_df.text.map(remove_username)\n",
    "test_df['text'] = test_df.text.map(remove_URL)\n",
    "test_df['text'] = test_df.text.map(remove_punct)\n",
    "test_df['text'] = test_df.text.map(remove_emoji)\n",
    "test_df['text'] = test_df['text'].apply(\n",
    "    lambda x: normalize_whitespace(tf.constant(x)).numpy().decode('utf-8')\n",
    ")"
   ]
  },
  {
   "cell_type": "code",
   "execution_count": 5,
   "id": "1af359d6-8fcb-4a15-a787-c0bb319b1189",
   "metadata": {
    "jupyter": {
     "source_hidden": true
    }
   },
   "outputs": [],
   "source": [
    "def compute_soft_and_hard_label(votes, positive_token=\"YES\", negative_token=\"NO\"):\n",
    "    \"\"\"\n",
    "    Converts annotator votes into soft and hard labels.\n",
    "\n",
    "    Args:\n",
    "        votes (list of str): Annotator votes, e.g., ['NO', 'YES', 'NO', 'YES']\n",
    "        positive_token (str): The string representing a positive label (default: 'YES')\n",
    "        negative_token (str): The string representing a negative label (default: 'NO')\n",
    "\n",
    "    Returns:\n",
    "        soft_label (list of float): [prob_yes, prob_no]\n",
    "        hard_label (int): 1 if YES wins, 0 otherwise\n",
    "    \"\"\"\n",
    "    total = len(votes)\n",
    "    yes_count = sum(1 for v in votes if v == positive_token)\n",
    "    no_count = total - yes_count\n",
    "\n",
    "    prob_yes = yes_count / total\n",
    "    prob_no = no_count / total\n",
    "\n",
    "    hard_label = 1 if prob_yes >= 0.5 else 0\n",
    "\n",
    "    return [prob_yes, prob_no], hard_label"
   ]
  },
  {
   "cell_type": "code",
   "execution_count": 6,
   "id": "c4e424e6-e43c-4c61-9f54-528b0c5cb68c",
   "metadata": {
    "jupyter": {
     "source_hidden": true
    }
   },
   "outputs": [],
   "source": [
    "train_df['labels_task2_1_hard'] = None\n",
    "train_df['labels_task2_1_soft'] = None\n",
    "\n",
    "for index, row in train_df.iterrows():\n",
    "    soft, hard = compute_soft_and_hard_label(row['labels_task2_1'])\n",
    "    if hasattr(hard, '__iter__') and not isinstance(hard, (str, bytes)):\n",
    "        hard = hard[0]  # Take first value or use another approach\n",
    "    \n",
    "    if isinstance(soft, np.ndarray):\n",
    "        soft = soft.tolist()\n",
    "    train_df.at[index, 'labels_task2_1_hard'] = hard\n",
    "    train_df.at[index, 'labels_task2_1_soft'] = soft"
   ]
  },
  {
   "cell_type": "code",
   "execution_count": 7,
   "id": "27594020-a4b7-4d04-9382-bf220089195e",
   "metadata": {},
   "outputs": [],
   "source": [
    "csv_file_train = '/Users/naranja/Desktop/EXIST/task_2_1/training.csv'\n",
    "csv_file_test = '/Users/naranja/Desktop/EXIST/task_2_1/test.csv'\n",
    "train_df.to_csv(csv_file_train, index=False)\n",
    "test_df.to_csv(csv_file_test, index=False)"
   ]
  },
  {
   "cell_type": "code",
   "execution_count": 8,
   "id": "bb04654f-1c13-4bd3-9c80-8bf01508011f",
   "metadata": {},
   "outputs": [],
   "source": [
    "train_text = train_df['text'].astype(str).to_numpy()\n",
    "hard_labels = train_df['labels_task2_1_hard'].astype('int32').to_numpy()\n",
    "train_soft_labels = np.stack(train_df['labels_task2_1_soft'].to_numpy()).astype(np.float32)"
   ]
  },
  {
   "cell_type": "code",
   "execution_count": 9,
   "id": "059f9b8e-698d-46c4-9142-9c4b9f549c0a",
   "metadata": {},
   "outputs": [],
   "source": [
    "import keras\n",
    "from tensorflow.keras.layers import TextVectorization\n",
    "from tensorflow.keras import layers, models\n",
    "from tensorflow.keras.preprocessing.text import Tokenizer\n",
    "from tensorflow.keras.preprocessing.sequence import pad_sequences\n",
    "from sklearn.model_selection import train_test_split\n",
    "from sklearn.metrics import classification_report, roc_auc_score\n",
    "\n",
    "# Define vectorizer (adjust max_tokens and sequence_length as needed)\n",
    "vectorizer = TextVectorization(\n",
    "    max_tokens=10000,\n",
    "    output_sequence_length=100,\n",
    "    standardize='lower_and_strip_punctuation'\n",
    ")\n",
    "\n",
    "# Fit it on your training text\n",
    "vectorizer.adapt(train_text)"
   ]
  },
  {
   "cell_type": "code",
   "execution_count": 10,
   "id": "d4a4c29f-e53e-4d69-8e56-1529330e622f",
   "metadata": {
    "jupyter": {
     "source_hidden": true
    }
   },
   "outputs": [],
   "source": [
    "def create_model(use_soft_labels=False):\n",
    "    \"\"\"\n",
    "    Create a simple text classification model\n",
    "    \"\"\"\n",
    "    inputs = keras.Input(shape=(), dtype=tf.string, name=\"text_input\")\n",
    "    x = vectorizer(inputs)  # Now outputs shape (None, 100) of int32                    \n",
    "    x = layers.Embedding(input_dim=10000, output_dim=16)(x)\n",
    "    x = layers.Conv1D(128, 5, activation='relu')(x)\n",
    "    x = layers.GlobalMaxPooling1D()(x)\n",
    "    x = layers.Dense(64, activation='relu')(x)\n",
    "    x = layers.Dropout(0.5)(x)\n",
    "\n",
    "    if use_soft_labels:\n",
    "        outputs = tf.keras.layers.Dense(2, activation='softmax')(x)\n",
    "        loss = 'categorical_crossentropy'\n",
    "    else:\n",
    "        outputs = tf.keras.layers.Dense(1, activation='sigmoid')(x)\n",
    "        loss = 'binary_crossentropy'\n",
    "\n",
    "    model = tf.keras.Model(inputs=inputs, outputs=outputs)\n",
    "    model.compile(optimizer='adam', loss=loss, metrics=['accuracy'])\n",
    "    \n",
    "    return model"
   ]
  },
  {
   "cell_type": "code",
   "execution_count": 11,
   "id": "67d34f8e-49bb-4bc4-a2e4-8a876e8cb1d0",
   "metadata": {
    "jupyter": {
     "source_hidden": true
    }
   },
   "outputs": [],
   "source": [
    "def predict_text(model, test_df, threshold=0.5, label_mode='soft'):\n",
    "    \"\"\"\n",
    "    Predicts on test text using a trained model.\n",
    "\n",
    "    \"\"\"\n",
    "    test_text = test_df['text'].astype(str).to_numpy()\n",
    "\n",
    "    # Get raw predictions from model\n",
    "    preds = model.predict(test_text)\n",
    "\n",
    "    if len(preds.shape) > 1 and preds.shape[1] == 2:\n",
    "        if label_mode == 'soft':\n",
    "            test_df['soft_pred'] = preds.tolist()  # Store the entire 2D array as lists in the column\n",
    "        elif label_mode == 'hard':\n",
    "            test_df['hard_pred'] = np.argmax(preds, axis=1)  # 0 = NO, 1 = YES\n",
    "    else:\n",
    "        if label_mode == 'soft':\n",
    "            # For sigmoid output, create the complementary probability\n",
    "            probs = preds.flatten()  # Ensure it's 1D\n",
    "            test_df['soft_pred'] = [[p, 1-p] for p in probs]  # Store as list of pairs [p, 1-p]\n",
    "        elif label_mode == 'hard':\n",
    "            test_df['hard_pred'] = (preds.flatten() > threshold).astype(int)\n",
    "            \n",
    "    return test_df"
   ]
  },
  {
   "cell_type": "code",
   "execution_count": 12,
   "id": "913c2ec5-dd4f-4164-899b-f15d7b92b1e8",
   "metadata": {
    "jupyter": {
     "source_hidden": true
    }
   },
   "outputs": [],
   "source": [
    "def save_predictions_to_csv(df, output_file='predictions.csv', threshold=0.5):\n",
    "    \"\"\"\n",
    "    Saves meme texts and their predictions to a CSV file.\n",
    "    \"\"\"\n",
    "    \n",
    "    # Create a copy of the DataFrame to avoid modifying the original\n",
    "    result_df = pd.DataFrame()\n",
    "    result_df['id'] = df['id_EXIST']\n",
    "    result_df['text'] = df['text']\n",
    "    \n",
    "    # Process soft predictions if available\n",
    "    if 'soft_pred' in df.columns:\n",
    "        # Check if soft_pred contains lists (for 2-class output)\n",
    "        if isinstance(df['soft_pred'].iloc[0], list):\n",
    "            # For 2D predictions: index 1 is the probability for YES (class 1)\n",
    "            result_df['Probability_YES'] = df['soft_pred'].apply(lambda x: x[1])\n",
    "        else:\n",
    "            # For 1D predictions: the value is directly the probability for YES\n",
    "            result_df['Probability_YES'] = df['soft_pred']\n",
    "            \n",
    "        # Convert probabilities to YES/NO\n",
    "        result_df['Prediction'] = result_df['Probability_YES'].apply(\n",
    "            lambda x: 'YES' if x > threshold else 'NO'\n",
    "        )\n",
    "    \n",
    "    # Use hard predictions if available and soft predictions aren't\n",
    "    elif 'hard_pred' in df.columns:\n",
    "        result_df['Prediction'] = df['hard_pred'].apply(\n",
    "            lambda x: 'YES' if x == 1 else 'NO'\n",
    "        )\n",
    "    \n",
    "    # Save the results to CSV\n",
    "    result_df.to_csv(output_file, index=False)\n",
    "    print(f\"Predictions saved to {output_file}\")\n",
    "    \n",
    "    return result_df"
   ]
  },
  {
   "cell_type": "code",
   "execution_count": 13,
   "id": "8200f9e3-353f-4348-937a-bbd5fc2ac782",
   "metadata": {},
   "outputs": [
    {
     "data": {
      "text/html": [
       "<pre style=\"white-space:pre;overflow-x:auto;line-height:normal;font-family:Menlo,'DejaVu Sans Mono',consolas,'Courier New',monospace\"><span style=\"font-weight: bold\">Model: \"functional\"</span>\n",
       "</pre>\n"
      ],
      "text/plain": [
       "\u001b[1mModel: \"functional\"\u001b[0m\n"
      ]
     },
     "metadata": {},
     "output_type": "display_data"
    },
    {
     "data": {
      "text/html": [
       "<pre style=\"white-space:pre;overflow-x:auto;line-height:normal;font-family:Menlo,'DejaVu Sans Mono',consolas,'Courier New',monospace\">┏━━━━━━━━━━━━━━━━━━━━━━━━━━━━━━━━━┳━━━━━━━━━━━━━━━━━━━━━━━━┳━━━━━━━━━━━━━━━┓\n",
       "┃<span style=\"font-weight: bold\"> Layer (type)                    </span>┃<span style=\"font-weight: bold\"> Output Shape           </span>┃<span style=\"font-weight: bold\">       Param # </span>┃\n",
       "┡━━━━━━━━━━━━━━━━━━━━━━━━━━━━━━━━━╇━━━━━━━━━━━━━━━━━━━━━━━━╇━━━━━━━━━━━━━━━┩\n",
       "│ text_input (<span style=\"color: #0087ff; text-decoration-color: #0087ff\">InputLayer</span>)         │ (<span style=\"color: #00d7ff; text-decoration-color: #00d7ff\">None</span>)                 │             <span style=\"color: #00af00; text-decoration-color: #00af00\">0</span> │\n",
       "├─────────────────────────────────┼────────────────────────┼───────────────┤\n",
       "│ text_vectorization              │ (<span style=\"color: #00d7ff; text-decoration-color: #00d7ff\">None</span>, <span style=\"color: #00af00; text-decoration-color: #00af00\">100</span>)            │             <span style=\"color: #00af00; text-decoration-color: #00af00\">0</span> │\n",
       "│ (<span style=\"color: #0087ff; text-decoration-color: #0087ff\">TextVectorization</span>)             │                        │               │\n",
       "├─────────────────────────────────┼────────────────────────┼───────────────┤\n",
       "│ embedding (<span style=\"color: #0087ff; text-decoration-color: #0087ff\">Embedding</span>)           │ (<span style=\"color: #00d7ff; text-decoration-color: #00d7ff\">None</span>, <span style=\"color: #00af00; text-decoration-color: #00af00\">100</span>, <span style=\"color: #00af00; text-decoration-color: #00af00\">16</span>)        │       <span style=\"color: #00af00; text-decoration-color: #00af00\">160,000</span> │\n",
       "├─────────────────────────────────┼────────────────────────┼───────────────┤\n",
       "│ conv1d (<span style=\"color: #0087ff; text-decoration-color: #0087ff\">Conv1D</span>)                 │ (<span style=\"color: #00d7ff; text-decoration-color: #00d7ff\">None</span>, <span style=\"color: #00af00; text-decoration-color: #00af00\">96</span>, <span style=\"color: #00af00; text-decoration-color: #00af00\">128</span>)        │        <span style=\"color: #00af00; text-decoration-color: #00af00\">10,368</span> │\n",
       "├─────────────────────────────────┼────────────────────────┼───────────────┤\n",
       "│ global_max_pooling1d            │ (<span style=\"color: #00d7ff; text-decoration-color: #00d7ff\">None</span>, <span style=\"color: #00af00; text-decoration-color: #00af00\">128</span>)            │             <span style=\"color: #00af00; text-decoration-color: #00af00\">0</span> │\n",
       "│ (<span style=\"color: #0087ff; text-decoration-color: #0087ff\">GlobalMaxPooling1D</span>)            │                        │               │\n",
       "├─────────────────────────────────┼────────────────────────┼───────────────┤\n",
       "│ dense (<span style=\"color: #0087ff; text-decoration-color: #0087ff\">Dense</span>)                   │ (<span style=\"color: #00d7ff; text-decoration-color: #00d7ff\">None</span>, <span style=\"color: #00af00; text-decoration-color: #00af00\">64</span>)             │         <span style=\"color: #00af00; text-decoration-color: #00af00\">8,256</span> │\n",
       "├─────────────────────────────────┼────────────────────────┼───────────────┤\n",
       "│ dropout (<span style=\"color: #0087ff; text-decoration-color: #0087ff\">Dropout</span>)               │ (<span style=\"color: #00d7ff; text-decoration-color: #00d7ff\">None</span>, <span style=\"color: #00af00; text-decoration-color: #00af00\">64</span>)             │             <span style=\"color: #00af00; text-decoration-color: #00af00\">0</span> │\n",
       "├─────────────────────────────────┼────────────────────────┼───────────────┤\n",
       "│ dense_1 (<span style=\"color: #0087ff; text-decoration-color: #0087ff\">Dense</span>)                 │ (<span style=\"color: #00d7ff; text-decoration-color: #00d7ff\">None</span>, <span style=\"color: #00af00; text-decoration-color: #00af00\">1</span>)              │            <span style=\"color: #00af00; text-decoration-color: #00af00\">65</span> │\n",
       "└─────────────────────────────────┴────────────────────────┴───────────────┘\n",
       "</pre>\n"
      ],
      "text/plain": [
       "┏━━━━━━━━━━━━━━━━━━━━━━━━━━━━━━━━━┳━━━━━━━━━━━━━━━━━━━━━━━━┳━━━━━━━━━━━━━━━┓\n",
       "┃\u001b[1m \u001b[0m\u001b[1mLayer (type)                   \u001b[0m\u001b[1m \u001b[0m┃\u001b[1m \u001b[0m\u001b[1mOutput Shape          \u001b[0m\u001b[1m \u001b[0m┃\u001b[1m \u001b[0m\u001b[1m      Param #\u001b[0m\u001b[1m \u001b[0m┃\n",
       "┡━━━━━━━━━━━━━━━━━━━━━━━━━━━━━━━━━╇━━━━━━━━━━━━━━━━━━━━━━━━╇━━━━━━━━━━━━━━━┩\n",
       "│ text_input (\u001b[38;5;33mInputLayer\u001b[0m)         │ (\u001b[38;5;45mNone\u001b[0m)                 │             \u001b[38;5;34m0\u001b[0m │\n",
       "├─────────────────────────────────┼────────────────────────┼───────────────┤\n",
       "│ text_vectorization              │ (\u001b[38;5;45mNone\u001b[0m, \u001b[38;5;34m100\u001b[0m)            │             \u001b[38;5;34m0\u001b[0m │\n",
       "│ (\u001b[38;5;33mTextVectorization\u001b[0m)             │                        │               │\n",
       "├─────────────────────────────────┼────────────────────────┼───────────────┤\n",
       "│ embedding (\u001b[38;5;33mEmbedding\u001b[0m)           │ (\u001b[38;5;45mNone\u001b[0m, \u001b[38;5;34m100\u001b[0m, \u001b[38;5;34m16\u001b[0m)        │       \u001b[38;5;34m160,000\u001b[0m │\n",
       "├─────────────────────────────────┼────────────────────────┼───────────────┤\n",
       "│ conv1d (\u001b[38;5;33mConv1D\u001b[0m)                 │ (\u001b[38;5;45mNone\u001b[0m, \u001b[38;5;34m96\u001b[0m, \u001b[38;5;34m128\u001b[0m)        │        \u001b[38;5;34m10,368\u001b[0m │\n",
       "├─────────────────────────────────┼────────────────────────┼───────────────┤\n",
       "│ global_max_pooling1d            │ (\u001b[38;5;45mNone\u001b[0m, \u001b[38;5;34m128\u001b[0m)            │             \u001b[38;5;34m0\u001b[0m │\n",
       "│ (\u001b[38;5;33mGlobalMaxPooling1D\u001b[0m)            │                        │               │\n",
       "├─────────────────────────────────┼────────────────────────┼───────────────┤\n",
       "│ dense (\u001b[38;5;33mDense\u001b[0m)                   │ (\u001b[38;5;45mNone\u001b[0m, \u001b[38;5;34m64\u001b[0m)             │         \u001b[38;5;34m8,256\u001b[0m │\n",
       "├─────────────────────────────────┼────────────────────────┼───────────────┤\n",
       "│ dropout (\u001b[38;5;33mDropout\u001b[0m)               │ (\u001b[38;5;45mNone\u001b[0m, \u001b[38;5;34m64\u001b[0m)             │             \u001b[38;5;34m0\u001b[0m │\n",
       "├─────────────────────────────────┼────────────────────────┼───────────────┤\n",
       "│ dense_1 (\u001b[38;5;33mDense\u001b[0m)                 │ (\u001b[38;5;45mNone\u001b[0m, \u001b[38;5;34m1\u001b[0m)              │            \u001b[38;5;34m65\u001b[0m │\n",
       "└─────────────────────────────────┴────────────────────────┴───────────────┘\n"
      ]
     },
     "metadata": {},
     "output_type": "display_data"
    },
    {
     "data": {
      "text/html": [
       "<pre style=\"white-space:pre;overflow-x:auto;line-height:normal;font-family:Menlo,'DejaVu Sans Mono',consolas,'Courier New',monospace\"><span style=\"font-weight: bold\"> Total params: </span><span style=\"color: #00af00; text-decoration-color: #00af00\">178,689</span> (698.00 KB)\n",
       "</pre>\n"
      ],
      "text/plain": [
       "\u001b[1m Total params: \u001b[0m\u001b[38;5;34m178,689\u001b[0m (698.00 KB)\n"
      ]
     },
     "metadata": {},
     "output_type": "display_data"
    },
    {
     "data": {
      "text/html": [
       "<pre style=\"white-space:pre;overflow-x:auto;line-height:normal;font-family:Menlo,'DejaVu Sans Mono',consolas,'Courier New',monospace\"><span style=\"font-weight: bold\"> Trainable params: </span><span style=\"color: #00af00; text-decoration-color: #00af00\">178,689</span> (698.00 KB)\n",
       "</pre>\n"
      ],
      "text/plain": [
       "\u001b[1m Trainable params: \u001b[0m\u001b[38;5;34m178,689\u001b[0m (698.00 KB)\n"
      ]
     },
     "metadata": {},
     "output_type": "display_data"
    },
    {
     "data": {
      "text/html": [
       "<pre style=\"white-space:pre;overflow-x:auto;line-height:normal;font-family:Menlo,'DejaVu Sans Mono',consolas,'Courier New',monospace\"><span style=\"font-weight: bold\"> Non-trainable params: </span><span style=\"color: #00af00; text-decoration-color: #00af00\">0</span> (0.00 B)\n",
       "</pre>\n"
      ],
      "text/plain": [
       "\u001b[1m Non-trainable params: \u001b[0m\u001b[38;5;34m0\u001b[0m (0.00 B)\n"
      ]
     },
     "metadata": {},
     "output_type": "display_data"
    }
   ],
   "source": [
    "model = create_model(use_soft_labels=False)\n",
    "model.summary()"
   ]
  },
  {
   "cell_type": "code",
   "execution_count": 14,
   "id": "362fa729-0f07-4a38-9057-9102dc08b3a3",
   "metadata": {},
   "outputs": [
    {
     "name": "stdout",
     "output_type": "stream",
     "text": [
      "Epoch 1/10\n",
      "63/63 - 3s - 51ms/step - accuracy: 0.6299 - loss: 0.6638\n",
      "Epoch 2/10\n",
      "63/63 - 1s - 8ms/step - accuracy: 0.6303 - loss: 0.6306\n",
      "Epoch 3/10\n",
      "63/63 - 1s - 9ms/step - accuracy: 0.7095 - loss: 0.5446\n",
      "Epoch 4/10\n",
      "63/63 - 1s - 8ms/step - accuracy: 0.8761 - loss: 0.3755\n",
      "Epoch 5/10\n",
      "63/63 - 1s - 8ms/step - accuracy: 0.9428 - loss: 0.1832\n",
      "Epoch 6/10\n",
      "63/63 - 1s - 8ms/step - accuracy: 0.9806 - loss: 0.0888\n",
      "Epoch 7/10\n",
      "63/63 - 1s - 9ms/step - accuracy: 0.9866 - loss: 0.0530\n",
      "Epoch 8/10\n",
      "63/63 - 1s - 8ms/step - accuracy: 0.9950 - loss: 0.0294\n",
      "Epoch 9/10\n",
      "63/63 - 1s - 9ms/step - accuracy: 0.9950 - loss: 0.0169\n",
      "Epoch 10/10\n",
      "63/63 - 1s - 10ms/step - accuracy: 0.9990 - loss: 0.0094\n"
     ]
    },
    {
     "data": {
      "text/plain": [
       "<keras.src.callbacks.history.History at 0x16bb6d790>"
      ]
     },
     "execution_count": 14,
     "metadata": {},
     "output_type": "execute_result"
    }
   ],
   "source": [
    "model.fit(train_text, hard_labels, epochs=10, verbose=2)"
   ]
  },
  {
   "cell_type": "code",
   "execution_count": 15,
   "id": "e6ba80ff-c809-43d4-961f-b7e33cf6ddae",
   "metadata": {},
   "outputs": [
    {
     "name": "stdout",
     "output_type": "stream",
     "text": [
      "\u001b[1m17/17\u001b[0m \u001b[32m━━━━━━━━━━━━━━━━━━━━\u001b[0m\u001b[37m\u001b[0m \u001b[1m0s\u001b[0m 11ms/step\n",
      "                                                     text  hard_pred\n",
      "410001  Mgtow Do Not Feed The THOTS WARNING Feeding Th...          1\n",
      "410002  Metoo Movement Aftermath I have a great secret...          1\n",
      "410003  HYBRISTOPHILIAC HUMAN FEMALÉ CUCKS TOP HUMAN F...          1\n",
      "410004  PROTESTS ABOUT WOMENS RIGHTS IS ACTUALLY DANIE...          1\n",
      "410005  Dems the past few years Birthing people Dems d...          1\n",
      "...                                                   ...        ...\n",
      "410509  WOMEN SHOULDNT WORK OUTSIDE THE HOME YEAH RIGH...          0\n",
      "410510  Sathousandapologies ACTUALLY WOMEN SHOULDNT HA...          1\n",
      "410511  Bitches only think you good for sex like bitch...          1\n",
      "410512         BITCHES BE LOOKING LIKE THIS THINK WE HATE          1\n",
      "410513                          DOES HE LOOK LIKE A BITCH          1\n",
      "\n",
      "[513 rows x 2 columns]\n"
     ]
    }
   ],
   "source": [
    "test_df = predict_text(model, test_df, label_mode='hard')\n",
    "print(test_df[['text', 'hard_pred']])"
   ]
  },
  {
   "cell_type": "code",
   "execution_count": 16,
   "id": "9c4194ed-b8a2-48c7-8c0c-7e2f8eb304df",
   "metadata": {},
   "outputs": [
    {
     "name": "stdout",
     "output_type": "stream",
     "text": [
      "Predictions saved to /Users/naranja/Desktop/EXIST/task_2_1/tweet_hard_predictions.csv\n"
     ]
    }
   ],
   "source": [
    "results = save_predictions_to_csv(test_df, output_file='/Users/naranja/Desktop/EXIST/task_2_1/tweet_hard_predictions.csv')"
   ]
  },
  {
   "cell_type": "code",
   "execution_count": 17,
   "id": "98fc745b-87e8-4f21-879e-75cd4a76e3b8",
   "metadata": {},
   "outputs": [
    {
     "data": {
      "text/html": [
       "<pre style=\"white-space:pre;overflow-x:auto;line-height:normal;font-family:Menlo,'DejaVu Sans Mono',consolas,'Courier New',monospace\"><span style=\"font-weight: bold\">Model: \"functional_1\"</span>\n",
       "</pre>\n"
      ],
      "text/plain": [
       "\u001b[1mModel: \"functional_1\"\u001b[0m\n"
      ]
     },
     "metadata": {},
     "output_type": "display_data"
    },
    {
     "data": {
      "text/html": [
       "<pre style=\"white-space:pre;overflow-x:auto;line-height:normal;font-family:Menlo,'DejaVu Sans Mono',consolas,'Courier New',monospace\">┏━━━━━━━━━━━━━━━━━━━━━━━━━━━━━━━━━┳━━━━━━━━━━━━━━━━━━━━━━━━┳━━━━━━━━━━━━━━━┓\n",
       "┃<span style=\"font-weight: bold\"> Layer (type)                    </span>┃<span style=\"font-weight: bold\"> Output Shape           </span>┃<span style=\"font-weight: bold\">       Param # </span>┃\n",
       "┡━━━━━━━━━━━━━━━━━━━━━━━━━━━━━━━━━╇━━━━━━━━━━━━━━━━━━━━━━━━╇━━━━━━━━━━━━━━━┩\n",
       "│ text_input (<span style=\"color: #0087ff; text-decoration-color: #0087ff\">InputLayer</span>)         │ (<span style=\"color: #00d7ff; text-decoration-color: #00d7ff\">None</span>)                 │             <span style=\"color: #00af00; text-decoration-color: #00af00\">0</span> │\n",
       "├─────────────────────────────────┼────────────────────────┼───────────────┤\n",
       "│ text_vectorization              │ (<span style=\"color: #00d7ff; text-decoration-color: #00d7ff\">None</span>, <span style=\"color: #00af00; text-decoration-color: #00af00\">100</span>)            │             <span style=\"color: #00af00; text-decoration-color: #00af00\">0</span> │\n",
       "│ (<span style=\"color: #0087ff; text-decoration-color: #0087ff\">TextVectorization</span>)             │                        │               │\n",
       "├─────────────────────────────────┼────────────────────────┼───────────────┤\n",
       "│ embedding_1 (<span style=\"color: #0087ff; text-decoration-color: #0087ff\">Embedding</span>)         │ (<span style=\"color: #00d7ff; text-decoration-color: #00d7ff\">None</span>, <span style=\"color: #00af00; text-decoration-color: #00af00\">100</span>, <span style=\"color: #00af00; text-decoration-color: #00af00\">16</span>)        │       <span style=\"color: #00af00; text-decoration-color: #00af00\">160,000</span> │\n",
       "├─────────────────────────────────┼────────────────────────┼───────────────┤\n",
       "│ conv1d_1 (<span style=\"color: #0087ff; text-decoration-color: #0087ff\">Conv1D</span>)               │ (<span style=\"color: #00d7ff; text-decoration-color: #00d7ff\">None</span>, <span style=\"color: #00af00; text-decoration-color: #00af00\">96</span>, <span style=\"color: #00af00; text-decoration-color: #00af00\">128</span>)        │        <span style=\"color: #00af00; text-decoration-color: #00af00\">10,368</span> │\n",
       "├─────────────────────────────────┼────────────────────────┼───────────────┤\n",
       "│ global_max_pooling1d_1          │ (<span style=\"color: #00d7ff; text-decoration-color: #00d7ff\">None</span>, <span style=\"color: #00af00; text-decoration-color: #00af00\">128</span>)            │             <span style=\"color: #00af00; text-decoration-color: #00af00\">0</span> │\n",
       "│ (<span style=\"color: #0087ff; text-decoration-color: #0087ff\">GlobalMaxPooling1D</span>)            │                        │               │\n",
       "├─────────────────────────────────┼────────────────────────┼───────────────┤\n",
       "│ dense_2 (<span style=\"color: #0087ff; text-decoration-color: #0087ff\">Dense</span>)                 │ (<span style=\"color: #00d7ff; text-decoration-color: #00d7ff\">None</span>, <span style=\"color: #00af00; text-decoration-color: #00af00\">64</span>)             │         <span style=\"color: #00af00; text-decoration-color: #00af00\">8,256</span> │\n",
       "├─────────────────────────────────┼────────────────────────┼───────────────┤\n",
       "│ dropout_1 (<span style=\"color: #0087ff; text-decoration-color: #0087ff\">Dropout</span>)             │ (<span style=\"color: #00d7ff; text-decoration-color: #00d7ff\">None</span>, <span style=\"color: #00af00; text-decoration-color: #00af00\">64</span>)             │             <span style=\"color: #00af00; text-decoration-color: #00af00\">0</span> │\n",
       "├─────────────────────────────────┼────────────────────────┼───────────────┤\n",
       "│ dense_3 (<span style=\"color: #0087ff; text-decoration-color: #0087ff\">Dense</span>)                 │ (<span style=\"color: #00d7ff; text-decoration-color: #00d7ff\">None</span>, <span style=\"color: #00af00; text-decoration-color: #00af00\">2</span>)              │           <span style=\"color: #00af00; text-decoration-color: #00af00\">130</span> │\n",
       "└─────────────────────────────────┴────────────────────────┴───────────────┘\n",
       "</pre>\n"
      ],
      "text/plain": [
       "┏━━━━━━━━━━━━━━━━━━━━━━━━━━━━━━━━━┳━━━━━━━━━━━━━━━━━━━━━━━━┳━━━━━━━━━━━━━━━┓\n",
       "┃\u001b[1m \u001b[0m\u001b[1mLayer (type)                   \u001b[0m\u001b[1m \u001b[0m┃\u001b[1m \u001b[0m\u001b[1mOutput Shape          \u001b[0m\u001b[1m \u001b[0m┃\u001b[1m \u001b[0m\u001b[1m      Param #\u001b[0m\u001b[1m \u001b[0m┃\n",
       "┡━━━━━━━━━━━━━━━━━━━━━━━━━━━━━━━━━╇━━━━━━━━━━━━━━━━━━━━━━━━╇━━━━━━━━━━━━━━━┩\n",
       "│ text_input (\u001b[38;5;33mInputLayer\u001b[0m)         │ (\u001b[38;5;45mNone\u001b[0m)                 │             \u001b[38;5;34m0\u001b[0m │\n",
       "├─────────────────────────────────┼────────────────────────┼───────────────┤\n",
       "│ text_vectorization              │ (\u001b[38;5;45mNone\u001b[0m, \u001b[38;5;34m100\u001b[0m)            │             \u001b[38;5;34m0\u001b[0m │\n",
       "│ (\u001b[38;5;33mTextVectorization\u001b[0m)             │                        │               │\n",
       "├─────────────────────────────────┼────────────────────────┼───────────────┤\n",
       "│ embedding_1 (\u001b[38;5;33mEmbedding\u001b[0m)         │ (\u001b[38;5;45mNone\u001b[0m, \u001b[38;5;34m100\u001b[0m, \u001b[38;5;34m16\u001b[0m)        │       \u001b[38;5;34m160,000\u001b[0m │\n",
       "├─────────────────────────────────┼────────────────────────┼───────────────┤\n",
       "│ conv1d_1 (\u001b[38;5;33mConv1D\u001b[0m)               │ (\u001b[38;5;45mNone\u001b[0m, \u001b[38;5;34m96\u001b[0m, \u001b[38;5;34m128\u001b[0m)        │        \u001b[38;5;34m10,368\u001b[0m │\n",
       "├─────────────────────────────────┼────────────────────────┼───────────────┤\n",
       "│ global_max_pooling1d_1          │ (\u001b[38;5;45mNone\u001b[0m, \u001b[38;5;34m128\u001b[0m)            │             \u001b[38;5;34m0\u001b[0m │\n",
       "│ (\u001b[38;5;33mGlobalMaxPooling1D\u001b[0m)            │                        │               │\n",
       "├─────────────────────────────────┼────────────────────────┼───────────────┤\n",
       "│ dense_2 (\u001b[38;5;33mDense\u001b[0m)                 │ (\u001b[38;5;45mNone\u001b[0m, \u001b[38;5;34m64\u001b[0m)             │         \u001b[38;5;34m8,256\u001b[0m │\n",
       "├─────────────────────────────────┼────────────────────────┼───────────────┤\n",
       "│ dropout_1 (\u001b[38;5;33mDropout\u001b[0m)             │ (\u001b[38;5;45mNone\u001b[0m, \u001b[38;5;34m64\u001b[0m)             │             \u001b[38;5;34m0\u001b[0m │\n",
       "├─────────────────────────────────┼────────────────────────┼───────────────┤\n",
       "│ dense_3 (\u001b[38;5;33mDense\u001b[0m)                 │ (\u001b[38;5;45mNone\u001b[0m, \u001b[38;5;34m2\u001b[0m)              │           \u001b[38;5;34m130\u001b[0m │\n",
       "└─────────────────────────────────┴────────────────────────┴───────────────┘\n"
      ]
     },
     "metadata": {},
     "output_type": "display_data"
    },
    {
     "data": {
      "text/html": [
       "<pre style=\"white-space:pre;overflow-x:auto;line-height:normal;font-family:Menlo,'DejaVu Sans Mono',consolas,'Courier New',monospace\"><span style=\"font-weight: bold\"> Total params: </span><span style=\"color: #00af00; text-decoration-color: #00af00\">178,754</span> (698.26 KB)\n",
       "</pre>\n"
      ],
      "text/plain": [
       "\u001b[1m Total params: \u001b[0m\u001b[38;5;34m178,754\u001b[0m (698.26 KB)\n"
      ]
     },
     "metadata": {},
     "output_type": "display_data"
    },
    {
     "data": {
      "text/html": [
       "<pre style=\"white-space:pre;overflow-x:auto;line-height:normal;font-family:Menlo,'DejaVu Sans Mono',consolas,'Courier New',monospace\"><span style=\"font-weight: bold\"> Trainable params: </span><span style=\"color: #00af00; text-decoration-color: #00af00\">178,754</span> (698.26 KB)\n",
       "</pre>\n"
      ],
      "text/plain": [
       "\u001b[1m Trainable params: \u001b[0m\u001b[38;5;34m178,754\u001b[0m (698.26 KB)\n"
      ]
     },
     "metadata": {},
     "output_type": "display_data"
    },
    {
     "data": {
      "text/html": [
       "<pre style=\"white-space:pre;overflow-x:auto;line-height:normal;font-family:Menlo,'DejaVu Sans Mono',consolas,'Courier New',monospace\"><span style=\"font-weight: bold\"> Non-trainable params: </span><span style=\"color: #00af00; text-decoration-color: #00af00\">0</span> (0.00 B)\n",
       "</pre>\n"
      ],
      "text/plain": [
       "\u001b[1m Non-trainable params: \u001b[0m\u001b[38;5;34m0\u001b[0m (0.00 B)\n"
      ]
     },
     "metadata": {},
     "output_type": "display_data"
    }
   ],
   "source": [
    "model_soft = create_model(use_soft_labels=True)\n",
    "model_soft.summary()"
   ]
  },
  {
   "cell_type": "code",
   "execution_count": 18,
   "id": "e6be3143-be3b-418e-b659-101ba66df747",
   "metadata": {},
   "outputs": [
    {
     "name": "stdout",
     "output_type": "stream",
     "text": [
      "Epoch 1/10\n",
      "63/63 - 3s - 53ms/step - accuracy: 0.5876 - loss: 0.6913\n",
      "Epoch 2/10\n",
      "63/63 - 1s - 8ms/step - accuracy: 0.6428 - loss: 0.6813\n",
      "Epoch 3/10\n",
      "63/63 - 1s - 8ms/step - accuracy: 0.7468 - loss: 0.6489\n",
      "Epoch 4/10\n",
      "63/63 - 1s - 9ms/step - accuracy: 0.8249 - loss: 0.5786\n",
      "Epoch 5/10\n",
      "63/63 - 1s - 9ms/step - accuracy: 0.8731 - loss: 0.5279\n",
      "Epoch 6/10\n",
      "63/63 - 1s - 9ms/step - accuracy: 0.8975 - loss: 0.5027\n",
      "Epoch 7/10\n",
      "63/63 - 1s - 9ms/step - accuracy: 0.9030 - loss: 0.4942\n",
      "Epoch 8/10\n",
      "63/63 - 1s - 8ms/step - accuracy: 0.8935 - loss: 0.4892\n",
      "Epoch 9/10\n",
      "63/63 - 1s - 9ms/step - accuracy: 0.9060 - loss: 0.4760\n",
      "Epoch 10/10\n",
      "63/63 - 1s - 8ms/step - accuracy: 0.9119 - loss: 0.4721\n"
     ]
    },
    {
     "data": {
      "text/plain": [
       "<keras.src.callbacks.history.History at 0x16bf71010>"
      ]
     },
     "execution_count": 18,
     "metadata": {},
     "output_type": "execute_result"
    }
   ],
   "source": [
    "model_soft.fit(train_text, train_soft_labels, epochs=10, verbose=2)"
   ]
  },
  {
   "cell_type": "code",
   "execution_count": 19,
   "id": "9bc36802-f382-47f5-a125-f413d30922a9",
   "metadata": {},
   "outputs": [
    {
     "name": "stdout",
     "output_type": "stream",
     "text": [
      "\u001b[1m17/17\u001b[0m \u001b[32m━━━━━━━━━━━━━━━━━━━━\u001b[0m\u001b[37m\u001b[0m \u001b[1m0s\u001b[0m 11ms/step\n",
      "                                                     text  \\\n",
      "410001  Mgtow Do Not Feed The THOTS WARNING Feeding Th...   \n",
      "410002  Metoo Movement Aftermath I have a great secret...   \n",
      "410003  HYBRISTOPHILIAC HUMAN FEMALÉ CUCKS TOP HUMAN F...   \n",
      "410004  PROTESTS ABOUT WOMENS RIGHTS IS ACTUALLY DANIE...   \n",
      "410005  Dems the past few years Birthing people Dems d...   \n",
      "...                                                   ...   \n",
      "410509  WOMEN SHOULDNT WORK OUTSIDE THE HOME YEAH RIGH...   \n",
      "410510  Sathousandapologies ACTUALLY WOMEN SHOULDNT HA...   \n",
      "410511  Bitches only think you good for sex like bitch...   \n",
      "410512         BITCHES BE LOOKING LIKE THIS THINK WE HATE   \n",
      "410513                          DOES HE LOOK LIKE A BITCH   \n",
      "\n",
      "                                        soft_pred  \n",
      "410001  [0.7312983870506287, 0.26870155334472656]  \n",
      "410002   [0.8275303840637207, 0.1724696308374405]  \n",
      "410003  [0.7641605734825134, 0.23583941161632538]  \n",
      "410004  [0.5905137658119202, 0.40948614478111267]  \n",
      "410005  [0.5721269249916077, 0.42787307500839233]  \n",
      "...                                           ...  \n",
      "410509    [0.5834970474243164, 0.416502982378006]  \n",
      "410510  [0.9280152916908264, 0.07198472321033478]  \n",
      "410511   [0.656825602054596, 0.34317439794540405]  \n",
      "410512   [0.6724032759666443, 0.3275967538356781]  \n",
      "410513  [0.7535486817359924, 0.24645128846168518]  \n",
      "\n",
      "[513 rows x 2 columns]\n"
     ]
    }
   ],
   "source": [
    "test_df = predict_text(model_soft, test_df, label_mode='soft')\n",
    "print(test_df[['text', 'soft_pred']])"
   ]
  },
  {
   "cell_type": "code",
   "execution_count": 20,
   "id": "30fe97db-740f-4553-ab0b-d9bb683b276e",
   "metadata": {},
   "outputs": [
    {
     "name": "stdout",
     "output_type": "stream",
     "text": [
      "Predictions saved to /Users/naranja/Desktop/EXIST/task_2_1/tweet_soft_predictions.csv\n"
     ]
    }
   ],
   "source": [
    "results = save_predictions_to_csv(test_df, output_file='/Users/naranja/Desktop/EXIST/task_2_1/tweet_soft_predictions.csv')"
   ]
  },
  {
   "cell_type": "code",
   "execution_count": 21,
   "id": "9ff1aa2d-a86c-47d3-a40c-9afc98ffe7c8",
   "metadata": {},
   "outputs": [],
   "source": [
    "####################################################################################################################################"
   ]
  },
  {
   "cell_type": "code",
   "execution_count": 22,
   "id": "5ce12da6-8c86-4dce-a72b-24a5bac8c2ff",
   "metadata": {},
   "outputs": [],
   "source": [
    "#####################################        MULTI_CLASS TEXT CLASSIFICATION          ##############################################"
   ]
  },
  {
   "cell_type": "code",
   "execution_count": 23,
   "id": "95dcbe7f-8725-45ad-ba39-1a1421ecbaa2",
   "metadata": {},
   "outputs": [],
   "source": [
    "####################################################################################################################################"
   ]
  },
  {
   "cell_type": "code",
   "execution_count": 24,
   "id": "d6a79581-b953-476f-b41d-6222fa08ca4a",
   "metadata": {},
   "outputs": [
    {
     "data": {
      "text/plain": [
       "4"
      ]
     },
     "execution_count": 24,
     "metadata": {},
     "output_type": "execute_result"
    }
   ],
   "source": [
    "from sklearn.preprocessing import LabelEncoder\n",
    "\n",
    "all_labels = ['-', 'DIRECT', 'JUDGEMENTAL', 'UNKNOWN']\n",
    "label_encoder = LabelEncoder()\n",
    "label_encoder.fit(all_labels)\n",
    "num_classes = len(all_labels)\n",
    "num_classes"
   ]
  },
  {
   "cell_type": "code",
   "execution_count": 25,
   "id": "d132a14e-1352-4af9-858d-2a48505f957f",
   "metadata": {},
   "outputs": [],
   "source": [
    "def get_majority_label(label_list):\n",
    "    return max(set(label_list), key=label_list.count)\n",
    "\n",
    "train_df['labels_task2_2_hard'] = train_df['labels_task2_2'].apply(get_majority_label)\n",
    "train_df['hard_label_encoded'] = label_encoder.transform(train_df['labels_task2_2_hard'])"
   ]
  },
  {
   "cell_type": "code",
   "execution_count": 26,
   "id": "ffd5846f-9937-4c13-8c3b-5ae59999ee90",
   "metadata": {},
   "outputs": [],
   "source": [
    "def get_soft_label(label_list):\n",
    "    counts = np.zeros(num_classes)\n",
    "    valid_labels = [label for label in label_list if label in all_labels]  # exclude 'UNKNOWN' or others\n",
    "    if not valid_labels:\n",
    "        return counts  # or you can return uniform distribution if preferred\n",
    "    for label in valid_labels:\n",
    "        idx = label_encoder.transform([label])[0]\n",
    "        counts[idx] += 1\n",
    "    return counts / len(valid_labels)\n",
    "\n",
    "train_df['soft_label'] = train_df['labels_task2_2'].apply(get_soft_label)"
   ]
  },
  {
   "cell_type": "code",
   "execution_count": 27,
   "id": "6674b811-3467-4c10-8762-43d630e858d3",
   "metadata": {},
   "outputs": [],
   "source": [
    "import pandas as pd\n",
    "\n",
    "def get_yes_predictions_df(csv_path):\n",
    "    # Load CSV\n",
    "    df = pd.read_csv(csv_path)\n",
    "    filtered_df = df['id']\n",
    "    # Normalize 'Prediction' column (strip spaces and lowercase)\n",
    "    df['Prediction'] = df['Prediction'].astype(str).str.strip().str.lower()\n",
    "    \n",
    "    # Filter for rows where prediction is 'yes'\n",
    "    filtered_df = df[df['Prediction'] == 'yes']\n",
    "    \n",
    "    # Optional: restore original case in 'Prediction' if needed\n",
    "    filtered_df['Prediction'] = 'Yes'\n",
    "    \n",
    "    return filtered_df[['id', 'text', 'Prediction']]"
   ]
  },
  {
   "cell_type": "code",
   "execution_count": 28,
   "id": "34973ee3-00c2-40a7-8976-443b331f1dcc",
   "metadata": {},
   "outputs": [],
   "source": [
    "csv_file_train = '/Users/naranja/Desktop/EXIST/task_2_2/training.csv'\n",
    "csv_file_test = '/Users/naranja/Desktop/EXIST/task_2_2/test.csv'\n",
    "train_df.to_csv(csv_file_train, index=False)\n",
    "test_df.to_csv(csv_file_test, index=False)"
   ]
  },
  {
   "cell_type": "code",
   "execution_count": 29,
   "id": "2772c846-ffb8-4499-8767-5b6457bed686",
   "metadata": {},
   "outputs": [],
   "source": [
    "train_text = train_df['text'].astype(str).to_numpy()\n",
    "hard_labels = train_df['hard_label_encoded'].astype('int32').to_numpy()\n",
    "soft_labels = np.stack(train_df['soft_label'].to_numpy()).astype(np.float32)"
   ]
  },
  {
   "cell_type": "code",
   "execution_count": 30,
   "id": "baeaf1df-1cd8-4abd-b8a2-628d2e5cf1b0",
   "metadata": {},
   "outputs": [],
   "source": [
    "tokenizer = Tokenizer(num_words=1000, oov_token=\"<OOV>\")\n",
    "tokenizer.fit_on_texts(train_df['text'])"
   ]
  },
  {
   "cell_type": "code",
   "execution_count": 31,
   "id": "2e9d1bd2-81a6-4371-ac13-8fc467b4473e",
   "metadata": {},
   "outputs": [
    {
     "name": "stderr",
     "output_type": "stream",
     "text": [
      "/var/folders/_h/hm7x1kqd4955mvw_gq9y710r0000gn/T/ipykernel_24706/1196900292.py:14: SettingWithCopyWarning: \n",
      "A value is trying to be set on a copy of a slice from a DataFrame.\n",
      "Try using .loc[row_indexer,col_indexer] = value instead\n",
      "\n",
      "See the caveats in the documentation: https://pandas.pydata.org/pandas-docs/stable/user_guide/indexing.html#returning-a-view-versus-a-copy\n",
      "  filtered_df['Prediction'] = 'Yes'\n",
      "/var/folders/_h/hm7x1kqd4955mvw_gq9y710r0000gn/T/ipykernel_24706/1196900292.py:14: SettingWithCopyWarning: \n",
      "A value is trying to be set on a copy of a slice from a DataFrame.\n",
      "Try using .loc[row_indexer,col_indexer] = value instead\n",
      "\n",
      "See the caveats in the documentation: https://pandas.pydata.org/pandas-docs/stable/user_guide/indexing.html#returning-a-view-versus-a-copy\n",
      "  filtered_df['Prediction'] = 'Yes'\n"
     ]
    }
   ],
   "source": [
    "yes_hard_df = get_yes_predictions_df('/Users/naranja/Desktop/EXIST/task_2_1/tweet_hard_predictions.csv')\n",
    "yes_soft_df = get_yes_predictions_df('/Users/naranja/Desktop/EXIST/task_2_1/tweet_soft_predictions.csv')"
   ]
  },
  {
   "cell_type": "code",
   "execution_count": 32,
   "id": "3cc6359b-f0f1-4068-853b-bd4ce8228704",
   "metadata": {},
   "outputs": [],
   "source": [
    "train_sequences = tokenizer.texts_to_sequences(train_df['text'])\n",
    "test_hard_sequences = tokenizer.texts_to_sequences(yes_hard_df['text'])\n",
    "test_soft_sequences = tokenizer.texts_to_sequences(yes_soft_df['text'])"
   ]
  },
  {
   "cell_type": "code",
   "execution_count": 33,
   "id": "f60a924e-cce8-4cf5-8d0f-1724253def60",
   "metadata": {},
   "outputs": [],
   "source": [
    "maxlen = max(len(seq) for seq in train_sequences)\n",
    "train_padded = pad_sequences(train_sequences, padding='post', maxlen=maxlen)\n",
    "test_hard_padded = pad_sequences(test_hard_sequences, padding='post', maxlen=maxlen)\n",
    "test_soft_padded = pad_sequences(test_soft_sequences, padding='post', maxlen=maxlen)"
   ]
  },
  {
   "cell_type": "code",
   "execution_count": 34,
   "id": "00ff159e-a60c-474f-be48-eec438175fff",
   "metadata": {},
   "outputs": [],
   "source": [
    "y_train_hard = tf.keras.utils.to_categorical(train_df['hard_label_encoded'], num_classes=num_classes)\n",
    "y_train_soft = np.stack(train_df['soft_label'].values)"
   ]
  },
  {
   "cell_type": "code",
   "execution_count": 35,
   "id": "2abd67e7-089d-4d82-a2a5-ad7f2e8b0525",
   "metadata": {},
   "outputs": [],
   "source": [
    "def create_model():\n",
    "    model = tf.keras.Sequential([\n",
    "        tf.keras.layers.Embedding(input_dim=1000, output_dim=16, input_length=maxlen),\n",
    "        tf.keras.layers.GlobalAveragePooling1D(),\n",
    "        tf.keras.layers.Dense(24, activation='relu'),\n",
    "        tf.keras.layers.Dense(num_classes, activation='softmax')\n",
    "    ])\n",
    "    model.compile(loss='categorical_crossentropy', optimizer='adam', metrics=['accuracy'])\n",
    "    \n",
    "    return model"
   ]
  },
  {
   "cell_type": "code",
   "execution_count": 36,
   "id": "2114ec02-ae14-4d7d-bba0-105d58d78cac",
   "metadata": {},
   "outputs": [
    {
     "name": "stderr",
     "output_type": "stream",
     "text": [
      "/Users/naranja/opt/anaconda3/lib/python3.12/site-packages/keras/src/layers/core/embedding.py:90: UserWarning: Argument `input_length` is deprecated. Just remove it.\n",
      "  warnings.warn(\n"
     ]
    },
    {
     "name": "stdout",
     "output_type": "stream",
     "text": [
      "Training model with hard label supervision...\n",
      "Epoch 1/20\n",
      "\u001b[1m63/63\u001b[0m \u001b[32m━━━━━━━━━━━━━━━━━━━━\u001b[0m\u001b[37m\u001b[0m \u001b[1m2s\u001b[0m 3ms/step - accuracy: 0.4141 - loss: 1.1643\n",
      "Epoch 2/20\n",
      "\u001b[1m63/63\u001b[0m \u001b[32m━━━━━━━━━━━━━━━━━━━━\u001b[0m\u001b[37m\u001b[0m \u001b[1m0s\u001b[0m 3ms/step - accuracy: 0.4632 - loss: 0.9847\n",
      "Epoch 3/20\n",
      "\u001b[1m63/63\u001b[0m \u001b[32m━━━━━━━━━━━━━━━━━━━━\u001b[0m\u001b[37m\u001b[0m \u001b[1m0s\u001b[0m 4ms/step - accuracy: 0.4821 - loss: 0.9756\n",
      "Epoch 4/20\n",
      "\u001b[1m63/63\u001b[0m \u001b[32m━━━━━━━━━━━━━━━━━━━━\u001b[0m\u001b[37m\u001b[0m \u001b[1m1s\u001b[0m 8ms/step - accuracy: 0.4793 - loss: 0.9856\n",
      "Epoch 5/20\n",
      "\u001b[1m63/63\u001b[0m \u001b[32m━━━━━━━━━━━━━━━━━━━━\u001b[0m\u001b[37m\u001b[0m \u001b[1m0s\u001b[0m 4ms/step - accuracy: 0.4623 - loss: 0.9759\n",
      "Epoch 6/20\n",
      "\u001b[1m63/63\u001b[0m \u001b[32m━━━━━━━━━━━━━━━━━━━━\u001b[0m\u001b[37m\u001b[0m \u001b[1m0s\u001b[0m 4ms/step - accuracy: 0.4508 - loss: 0.9916\n",
      "Epoch 7/20\n",
      "\u001b[1m63/63\u001b[0m \u001b[32m━━━━━━━━━━━━━━━━━━━━\u001b[0m\u001b[37m\u001b[0m \u001b[1m0s\u001b[0m 4ms/step - accuracy: 0.4893 - loss: 0.9809\n",
      "Epoch 8/20\n",
      "\u001b[1m63/63\u001b[0m \u001b[32m━━━━━━━━━━━━━━━━━━━━\u001b[0m\u001b[37m\u001b[0m \u001b[1m0s\u001b[0m 4ms/step - accuracy: 0.4845 - loss: 0.9690\n",
      "Epoch 9/20\n",
      "\u001b[1m63/63\u001b[0m \u001b[32m━━━━━━━━━━━━━━━━━━━━\u001b[0m\u001b[37m\u001b[0m \u001b[1m0s\u001b[0m 4ms/step - accuracy: 0.5041 - loss: 0.9698\n",
      "Epoch 10/20\n",
      "\u001b[1m63/63\u001b[0m \u001b[32m━━━━━━━━━━━━━━━━━━━━\u001b[0m\u001b[37m\u001b[0m \u001b[1m0s\u001b[0m 4ms/step - accuracy: 0.4940 - loss: 0.9583\n",
      "Epoch 11/20\n",
      "\u001b[1m63/63\u001b[0m \u001b[32m━━━━━━━━━━━━━━━━━━━━\u001b[0m\u001b[37m\u001b[0m \u001b[1m0s\u001b[0m 6ms/step - accuracy: 0.4814 - loss: 0.9702\n",
      "Epoch 12/20\n",
      "\u001b[1m63/63\u001b[0m \u001b[32m━━━━━━━━━━━━━━━━━━━━\u001b[0m\u001b[37m\u001b[0m \u001b[1m0s\u001b[0m 3ms/step - accuracy: 0.5035 - loss: 0.9608\n",
      "Epoch 13/20\n",
      "\u001b[1m63/63\u001b[0m \u001b[32m━━━━━━━━━━━━━━━━━━━━\u001b[0m\u001b[37m\u001b[0m \u001b[1m0s\u001b[0m 3ms/step - accuracy: 0.4819 - loss: 0.9795\n",
      "Epoch 14/20\n",
      "\u001b[1m63/63\u001b[0m \u001b[32m━━━━━━━━━━━━━━━━━━━━\u001b[0m\u001b[37m\u001b[0m \u001b[1m0s\u001b[0m 3ms/step - accuracy: 0.4630 - loss: 0.9965\n",
      "Epoch 15/20\n",
      "\u001b[1m63/63\u001b[0m \u001b[32m━━━━━━━━━━━━━━━━━━━━\u001b[0m\u001b[37m\u001b[0m \u001b[1m0s\u001b[0m 3ms/step - accuracy: 0.4866 - loss: 0.9746\n",
      "Epoch 16/20\n",
      "\u001b[1m63/63\u001b[0m \u001b[32m━━━━━━━━━━━━━━━━━━━━\u001b[0m\u001b[37m\u001b[0m \u001b[1m0s\u001b[0m 3ms/step - accuracy: 0.5068 - loss: 0.9605\n",
      "Epoch 17/20\n",
      "\u001b[1m63/63\u001b[0m \u001b[32m━━━━━━━━━━━━━━━━━━━━\u001b[0m\u001b[37m\u001b[0m \u001b[1m0s\u001b[0m 3ms/step - accuracy: 0.4892 - loss: 0.9698\n",
      "Epoch 18/20\n",
      "\u001b[1m63/63\u001b[0m \u001b[32m━━━━━━━━━━━━━━━━━━━━\u001b[0m\u001b[37m\u001b[0m \u001b[1m0s\u001b[0m 4ms/step - accuracy: 0.4968 - loss: 0.9689\n",
      "Epoch 19/20\n",
      "\u001b[1m63/63\u001b[0m \u001b[32m━━━━━━━━━━━━━━━━━━━━\u001b[0m\u001b[37m\u001b[0m \u001b[1m0s\u001b[0m 3ms/step - accuracy: 0.5017 - loss: 0.9593\n",
      "Epoch 20/20\n",
      "\u001b[1m63/63\u001b[0m \u001b[32m━━━━━━━━━━━━━━━━━━━━\u001b[0m\u001b[37m\u001b[0m \u001b[1m0s\u001b[0m 4ms/step - accuracy: 0.4568 - loss: 0.9670\n"
     ]
    },
    {
     "data": {
      "text/plain": [
       "<keras.src.callbacks.history.History at 0x16c5cfe30>"
      ]
     },
     "execution_count": 36,
     "metadata": {},
     "output_type": "execute_result"
    }
   ],
   "source": [
    "model = create_model()\n",
    "print(\"Training model with hard label supervision...\")\n",
    "model.fit(train_padded, y_train_hard, epochs=20)"
   ]
  },
  {
   "cell_type": "code",
   "execution_count": 37,
   "id": "2b418566-75f7-4f45-86c5-07aa23709508",
   "metadata": {},
   "outputs": [
    {
     "name": "stdout",
     "output_type": "stream",
     "text": [
      "\u001b[1m12/12\u001b[0m \u001b[32m━━━━━━━━━━━━━━━━━━━━\u001b[0m\u001b[37m\u001b[0m \u001b[1m0s\u001b[0m 8ms/step\n"
     ]
    }
   ],
   "source": [
    "predictions = model.predict(test_hard_padded)"
   ]
  },
  {
   "cell_type": "code",
   "execution_count": 38,
   "id": "22d7c7d0-10df-4a2b-af60-a1dd64e20bba",
   "metadata": {},
   "outputs": [
    {
     "name": "stdout",
     "output_type": "stream",
     "text": [
      "                                                  text predicted_hard_label\n",
      "0    Mgtow Do Not Feed The THOTS WARNING Feeding Th...                    -\n",
      "1    Metoo Movement Aftermath I have a great secret...                    -\n",
      "2    HYBRISTOPHILIAC HUMAN FEMALÉ CUCKS TOP HUMAN F...                    -\n",
      "3    PROTESTS ABOUT WOMENS RIGHTS IS ACTUALLY DANIE...                    -\n",
      "4    Dems the past few years Birthing people Dems d...                    -\n",
      "..                                                 ...                  ...\n",
      "507  PLUCK YOUR EYEBROWS OUT DRAW THEM BACK ON EATL...                    -\n",
      "509  Sathousandapologies ACTUALLY WOMEN SHOULDNT HA...                    -\n",
      "510  Bitches only think you good for sex like bitch...                    -\n",
      "511         BITCHES BE LOOKING LIKE THIS THINK WE HATE                    -\n",
      "512                          DOES HE LOOK LIKE A BITCH                    -\n",
      "\n",
      "[354 rows x 2 columns]\n"
     ]
    }
   ],
   "source": [
    "# === 9. Convert Predictions to Class Labels ===\n",
    "yes_hard_df['predicted_hard_label'] = label_encoder.inverse_transform(np.argmax(predictions, axis=1))\n",
    "yes_hard_df['predicted_hard_distribution'] = predictions.tolist()\n",
    "\n",
    "# === 10. View Results ===\n",
    "print(yes_hard_df[['text', 'predicted_hard_label']])"
   ]
  },
  {
   "cell_type": "code",
   "execution_count": 39,
   "id": "77625e49-bf10-4c4a-b24f-4483fed1ac44",
   "metadata": {},
   "outputs": [
    {
     "name": "stdout",
     "output_type": "stream",
     "text": [
      "Training model with soft label supervision...\n",
      "Epoch 1/20\n"
     ]
    },
    {
     "name": "stderr",
     "output_type": "stream",
     "text": [
      "/Users/naranja/opt/anaconda3/lib/python3.12/site-packages/keras/src/layers/core/embedding.py:90: UserWarning: Argument `input_length` is deprecated. Just remove it.\n",
      "  warnings.warn(\n"
     ]
    },
    {
     "name": "stdout",
     "output_type": "stream",
     "text": [
      "\u001b[1m63/63\u001b[0m \u001b[32m━━━━━━━━━━━━━━━━━━━━\u001b[0m\u001b[37m\u001b[0m \u001b[1m2s\u001b[0m 3ms/step - accuracy: 0.5569 - loss: 1.1748\n",
      "Epoch 2/20\n",
      "\u001b[1m63/63\u001b[0m \u001b[32m━━━━━━━━━━━━━━━━━━━━\u001b[0m\u001b[37m\u001b[0m \u001b[1m0s\u001b[0m 7ms/step - accuracy: 0.5843 - loss: 1.0823\n",
      "Epoch 3/20\n",
      "\u001b[1m63/63\u001b[0m \u001b[32m━━━━━━━━━━━━━━━━━━━━\u001b[0m\u001b[37m\u001b[0m \u001b[1m0s\u001b[0m 3ms/step - accuracy: 0.5665 - loss: 1.0837\n",
      "Epoch 4/20\n",
      "\u001b[1m63/63\u001b[0m \u001b[32m━━━━━━━━━━━━━━━━━━━━\u001b[0m\u001b[37m\u001b[0m \u001b[1m0s\u001b[0m 4ms/step - accuracy: 0.5721 - loss: 1.0885\n",
      "Epoch 5/20\n",
      "\u001b[1m63/63\u001b[0m \u001b[32m━━━━━━━━━━━━━━━━━━━━\u001b[0m\u001b[37m\u001b[0m \u001b[1m0s\u001b[0m 4ms/step - accuracy: 0.5633 - loss: 1.0839\n",
      "Epoch 6/20\n",
      "\u001b[1m63/63\u001b[0m \u001b[32m━━━━━━━━━━━━━━━━━━━━\u001b[0m\u001b[37m\u001b[0m \u001b[1m0s\u001b[0m 4ms/step - accuracy: 0.5768 - loss: 1.0830\n",
      "Epoch 7/20\n",
      "\u001b[1m63/63\u001b[0m \u001b[32m━━━━━━━━━━━━━━━━━━━━\u001b[0m\u001b[37m\u001b[0m \u001b[1m0s\u001b[0m 4ms/step - accuracy: 0.5773 - loss: 1.0865\n",
      "Epoch 8/20\n",
      "\u001b[1m63/63\u001b[0m \u001b[32m━━━━━━━━━━━━━━━━━━━━\u001b[0m\u001b[37m\u001b[0m \u001b[1m0s\u001b[0m 3ms/step - accuracy: 0.5721 - loss: 1.0842\n",
      "Epoch 9/20\n",
      "\u001b[1m63/63\u001b[0m \u001b[32m━━━━━━━━━━━━━━━━━━━━\u001b[0m\u001b[37m\u001b[0m \u001b[1m0s\u001b[0m 3ms/step - accuracy: 0.5994 - loss: 1.0734\n",
      "Epoch 10/20\n",
      "\u001b[1m63/63\u001b[0m \u001b[32m━━━━━━━━━━━━━━━━━━━━\u001b[0m\u001b[37m\u001b[0m \u001b[1m0s\u001b[0m 4ms/step - accuracy: 0.5691 - loss: 1.0843\n",
      "Epoch 11/20\n",
      "\u001b[1m63/63\u001b[0m \u001b[32m━━━━━━━━━━━━━━━━━━━━\u001b[0m\u001b[37m\u001b[0m \u001b[1m0s\u001b[0m 4ms/step - accuracy: 0.5983 - loss: 1.0804\n",
      "Epoch 12/20\n",
      "\u001b[1m63/63\u001b[0m \u001b[32m━━━━━━━━━━━━━━━━━━━━\u001b[0m\u001b[37m\u001b[0m \u001b[1m0s\u001b[0m 4ms/step - accuracy: 0.5834 - loss: 1.0808\n",
      "Epoch 13/20\n",
      "\u001b[1m63/63\u001b[0m \u001b[32m━━━━━━━━━━━━━━━━━━━━\u001b[0m\u001b[37m\u001b[0m \u001b[1m0s\u001b[0m 4ms/step - accuracy: 0.5807 - loss: 1.0838\n",
      "Epoch 14/20\n",
      "\u001b[1m63/63\u001b[0m \u001b[32m━━━━━━━━━━━━━━━━━━━━\u001b[0m\u001b[37m\u001b[0m \u001b[1m0s\u001b[0m 5ms/step - accuracy: 0.5820 - loss: 1.0752\n",
      "Epoch 15/20\n",
      "\u001b[1m63/63\u001b[0m \u001b[32m━━━━━━━━━━━━━━━━━━━━\u001b[0m\u001b[37m\u001b[0m \u001b[1m0s\u001b[0m 3ms/step - accuracy: 0.5809 - loss: 1.0788\n",
      "Epoch 16/20\n",
      "\u001b[1m63/63\u001b[0m \u001b[32m━━━━━━━━━━━━━━━━━━━━\u001b[0m\u001b[37m\u001b[0m \u001b[1m0s\u001b[0m 4ms/step - accuracy: 0.5695 - loss: 1.0877\n",
      "Epoch 17/20\n",
      "\u001b[1m63/63\u001b[0m \u001b[32m━━━━━━━━━━━━━━━━━━━━\u001b[0m\u001b[37m\u001b[0m \u001b[1m0s\u001b[0m 4ms/step - accuracy: 0.5773 - loss: 1.0725\n",
      "Epoch 18/20\n",
      "\u001b[1m63/63\u001b[0m \u001b[32m━━━━━━━━━━━━━━━━━━━━\u001b[0m\u001b[37m\u001b[0m \u001b[1m0s\u001b[0m 4ms/step - accuracy: 0.5776 - loss: 1.0776\n",
      "Epoch 19/20\n",
      "\u001b[1m63/63\u001b[0m \u001b[32m━━━━━━━━━━━━━━━━━━━━\u001b[0m\u001b[37m\u001b[0m \u001b[1m0s\u001b[0m 5ms/step - accuracy: 0.5853 - loss: 1.0705\n",
      "Epoch 20/20\n",
      "\u001b[1m63/63\u001b[0m \u001b[32m━━━━━━━━━━━━━━━━━━━━\u001b[0m\u001b[37m\u001b[0m \u001b[1m0s\u001b[0m 4ms/step - accuracy: 0.5778 - loss: 1.0840\n"
     ]
    },
    {
     "data": {
      "text/plain": [
       "<keras.src.callbacks.history.History at 0x16cc74860>"
      ]
     },
     "execution_count": 39,
     "metadata": {},
     "output_type": "execute_result"
    }
   ],
   "source": [
    "model = create_model()\n",
    "print(\"Training model with soft label supervision...\")\n",
    "model.fit(train_padded, y_train_soft, epochs=20)"
   ]
  },
  {
   "cell_type": "code",
   "execution_count": 40,
   "id": "64fd54a2-f799-4493-b653-32bae007bb9b",
   "metadata": {},
   "outputs": [
    {
     "name": "stdout",
     "output_type": "stream",
     "text": [
      "\u001b[1m7/7\u001b[0m \u001b[32m━━━━━━━━━━━━━━━━━━━━\u001b[0m\u001b[37m\u001b[0m \u001b[1m0s\u001b[0m 25ms/step\n"
     ]
    }
   ],
   "source": [
    "predictions = model.predict(test_soft_padded)"
   ]
  },
  {
   "cell_type": "code",
   "execution_count": 41,
   "id": "b9453920-28c1-43c2-bc58-509d7cd39c62",
   "metadata": {},
   "outputs": [
    {
     "name": "stdout",
     "output_type": "stream",
     "text": [
      "                                                  text predicted_soft_label\n",
      "8    When a guy gives you a compliment and asks if ...                    -\n",
      "9              Admit it guys We are all blinded By ASS                    -\n",
      "10                             ASS212121212 papazoinks                    -\n",
      "12   ASS GET DOWN FROM THERE You are not a back don...                    -\n",
      "13   YOU LOOK SO BEAUTIFUL LIKE A MAJESTIC CAT wuic...                    -\n",
      "..                                                 ...                  ...\n",
      "483  DO YOU KNOW WHAT INTERSECTIONAL FEMINISM IS NO...                    -\n",
      "488  Never getting Men aint shit married Ready to s...                    -\n",
      "492  THAT MOMENT WHEN YOU JUST DONT KNOW HOW TO ANS...                    -\n",
      "496  A WISE MAN ONCE SAID TWO FIVES EQUAL A 10 imgf...                    -\n",
      "498  DO YOU LIKE JALAPENOS CAUSE IMA BE JALAPENO PA...                    -\n",
      "\n",
      "[198 rows x 2 columns]\n"
     ]
    }
   ],
   "source": [
    "# === 9. Convert Predictions to Class Labels ===\n",
    "yes_soft_df['predicted_soft_label'] = label_encoder.inverse_transform(np.argmax(predictions, axis=1))\n",
    "yes_soft_df['predicted_soft_distribution'] = predictions.tolist()\n",
    "\n",
    "# === 10. View Results ===\n",
    "print(yes_soft_df[['text', 'predicted_soft_label']])"
   ]
  },
  {
   "cell_type": "code",
   "execution_count": 42,
   "id": "9df7a8e8-3e29-44f1-8887-eaa6ec072fe7",
   "metadata": {},
   "outputs": [],
   "source": [
    "csv_file_train = '/Users/naranja/Desktop/EXIST/task_2_2/YES_hard_test.csv'\n",
    "yes_hard_df.to_csv(csv_file_train, index=False)\n",
    "csv_file_train = '/Users/naranja/Desktop/EXIST/task_2_2/YES_soft_test.csv'\n",
    "yes_soft_df.to_csv(csv_file_train, index=False)"
   ]
  },
  {
   "cell_type": "code",
   "execution_count": 43,
   "id": "680844ca-1521-4454-8f17-67f2b7fab511",
   "metadata": {},
   "outputs": [],
   "source": [
    "####################################################################################################################################"
   ]
  },
  {
   "cell_type": "code",
   "execution_count": 44,
   "id": "18669670-5dc1-42c4-bd5b-4f49c8b78cff",
   "metadata": {},
   "outputs": [],
   "source": [
    "#####################################        MULTI_LABEL TEXT CLASSIFICATION          ##############################################"
   ]
  },
  {
   "cell_type": "code",
   "execution_count": 45,
   "id": "59654d49-6f68-46a2-8f4a-e84a3777b7b1",
   "metadata": {},
   "outputs": [],
   "source": [
    "####################################################################################################################################"
   ]
  },
  {
   "cell_type": "code",
   "execution_count": 46,
   "id": "64752e17-6ddc-4f3a-9da6-026a371978c5",
   "metadata": {},
   "outputs": [],
   "source": [
    "from tensorflow.keras.layers import Input, Embedding, LSTM, Dense, Dropout, Bidirectional\n",
    "from tensorflow.keras.models import Model\n",
    "from tensorflow.keras.callbacks import EarlyStopping, ModelCheckpoint\n",
    "from sklearn.model_selection import train_test_split\n",
    "from sklearn.metrics import classification_report, multilabel_confusion_matrix\n",
    "import matplotlib.pyplot as plt\n",
    "import ast"
   ]
  },
  {
   "cell_type": "code",
   "execution_count": 47,
   "id": "6cb0aaf8-b103-4a66-b06b-983900eaf56d",
   "metadata": {},
   "outputs": [],
   "source": [
    "# Constants\n",
    "MAX_VOCAB_SIZE = 10000\n",
    "MAX_SEQUENCE_LENGTH = 100\n",
    "EMBEDDING_DIM = 200\n",
    "EPOCHS = 10"
   ]
  },
  {
   "cell_type": "code",
   "execution_count": 48,
   "id": "fb2f32a8-f7b8-402f-bfb3-6ec533246278",
   "metadata": {},
   "outputs": [],
   "source": [
    "# Define valid labels (note: \"UNKNOWN\" is excluded from prediction targets)\n",
    "VALID_LABELS = ['IDEOLOGICAL-INEQUALITY', 'STEREOTYPING-DOMINANCE', 'OBJECTIFICATION', \n",
    "                'SEXUAL-VIOLENCE', 'MISOGYNY-NON-SEXUAL-VIOLENCE', '-']"
   ]
  },
  {
   "cell_type": "code",
   "execution_count": 49,
   "id": "cd35397e-4d6c-4044-8512-f72c969a2b65",
   "metadata": {
    "jupyter": {
     "source_hidden": true
    }
   },
   "outputs": [],
   "source": [
    "def load_data(train_file, test_file=None):\n",
    "    \"\"\"Load data from CSV files\"\"\"\n",
    "    train_df = pd.read_csv(train_file)\n",
    "    \n",
    "    if test_file:\n",
    "        test_df = pd.read_csv(test_file)\n",
    "        return train_df, test_df\n",
    "    return train_df, None"
   ]
  },
  {
   "cell_type": "code",
   "execution_count": 50,
   "id": "39970359-13c1-4b3d-b845-b70fdede7d95",
   "metadata": {
    "jupyter": {
     "source_hidden": true
    }
   },
   "outputs": [],
   "source": [
    "def preprocess_labels(labels_series):\n",
    "    \"\"\"\n",
    "    Process labels from multiple annotators (up to 6 per tweet)\n",
    "    - \"-\" is assigned to non-sexist instances\n",
    "    - \"UNKNOWN\" means no label provided (should be excluded from predictions)\n",
    "    \"\"\"\n",
    "    # Initialize multi-hot encoded matrix\n",
    "    multi_hot = np.zeros((len(labels_series), len(VALID_LABELS)))\n",
    "    soft_labels = np.zeros((len(labels_series), len(VALID_LABELS)))\n",
    "    \n",
    "    for i, label_data in enumerate(labels_series):\n",
    "        try:\n",
    "            # Parse the label data to get list of annotations\n",
    "            annotations = []\n",
    "            \n",
    "            if isinstance(label_data, str):\n",
    "                # Try to parse as list (handles various string formats)\n",
    "                try:\n",
    "                    parsed_data = ast.literal_eval(label_data)\n",
    "                    if isinstance(parsed_data, list):\n",
    "                        # Handle nested lists (annotators)\n",
    "                        for item in parsed_data:\n",
    "                            if isinstance(item, list):\n",
    "                                annotations.extend([label for label in item if label != \"UNKNOWN\"])\n",
    "                            elif item != \"UNKNOWN\":\n",
    "                                annotations.append(item)\n",
    "                    elif parsed_data != \"UNKNOWN\":\n",
    "                        annotations.append(parsed_data)\n",
    "                except:\n",
    "                    # Fallback if parsing fails\n",
    "                    if label_data != \"UNKNOWN\":\n",
    "                        annotations = [label_data]\n",
    "            elif not pd.isna(label_data) and label_data != \"UNKNOWN\":\n",
    "                annotations = [str(label_data)]\n",
    "            \n",
    "            # Count valid label occurrences (exclude \"UNKNOWN\")\n",
    "            label_counts = {}\n",
    "            for label in annotations:\n",
    "                if label in VALID_LABELS:\n",
    "                    label_counts[label] = label_counts.get(label, 0) + 1\n",
    "            \n",
    "            # Calculate soft labels (proportions) and set hard labels\n",
    "            if label_counts:\n",
    "                total_valid_annotations = sum(label_counts.values())\n",
    "                for label, count in label_counts.items():\n",
    "                    label_idx = VALID_LABELS.index(label)\n",
    "                    soft_labels[i, label_idx] = count / total_valid_annotations\n",
    "                    multi_hot[i, label_idx] = 1  # Hard label (binary)\n",
    "        \n",
    "        except Exception as e:\n",
    "            print(f\"Error processing label at index {i}: {e}\")\n",
    "            print(f\"Label data: {label_data}\")\n",
    "            \n",
    "    return multi_hot, soft_labels"
   ]
  },
  {
   "cell_type": "code",
   "execution_count": 51,
   "id": "986cbaad-c2f0-4a9e-9a65-1b5b7b9fa3fe",
   "metadata": {
    "jupyter": {
     "source_hidden": true
    }
   },
   "outputs": [],
   "source": [
    "def prepare_text_data(train_texts, test_texts=None):\n",
    "    \"\"\"Tokenize and pad text data\"\"\"\n",
    "    tokenizer = Tokenizer(num_words=MAX_VOCAB_SIZE, oov_token='<OOV>')\n",
    "    tokenizer.fit_on_texts(train_texts)\n",
    "    \n",
    "    # Process training data\n",
    "    train_sequences = tokenizer.texts_to_sequences(train_texts)\n",
    "    train_padded = pad_sequences(train_sequences, maxlen=MAX_SEQUENCE_LENGTH, padding='post')\n",
    "    \n",
    "    # Process test data if provided\n",
    "    if test_texts is not None:\n",
    "        test_sequences = tokenizer.texts_to_sequences(test_texts)\n",
    "        test_padded = pad_sequences(test_sequences, maxlen=MAX_SEQUENCE_LENGTH, padding='post')\n",
    "        return train_padded, test_padded, tokenizer\n",
    "    \n",
    "    return train_padded, None, tokenizer"
   ]
  },
  {
   "cell_type": "code",
   "execution_count": 52,
   "id": "fa2523ff-d439-4447-a284-6674a820dcbc",
   "metadata": {},
   "outputs": [],
   "source": [
    "def build_model(vocab_size, num_labels):\n",
    "    \"\"\"Build a Bi-LSTM model for multi-label classification\"\"\"\n",
    "    # Input layer\n",
    "    input_layer = Input(shape=(MAX_SEQUENCE_LENGTH,))\n",
    "    \n",
    "    # Embedding layer\n",
    "    embedding_layer = Embedding(input_dim=vocab_size, \n",
    "                                output_dim=EMBEDDING_DIM, \n",
    "                                input_length=MAX_SEQUENCE_LENGTH)(input_layer)\n",
    "    \n",
    "    # Bi-LSTM layers\n",
    "    lstm_layer = Bidirectional(LSTM(128, return_sequences=True))(embedding_layer)\n",
    "    lstm_layer = Bidirectional(LSTM(64))(lstm_layer)\n",
    "    \n",
    "    # Dense layers with dropout\n",
    "    dense_layer = Dense(128, activation='relu')(lstm_layer)\n",
    "    dropout_layer = Dropout(0.5)(dense_layer)\n",
    "    \n",
    "    # Output layer with sigmoid for multi-label classification\n",
    "    output_layer = Dense(num_labels, activation='sigmoid')(dropout_layer)\n",
    "    \n",
    "    # Create model\n",
    "    model = Model(inputs=input_layer, outputs=output_layer)\n",
    "    \n",
    "    # Compile model\n",
    "    model.compile(loss='binary_crossentropy',\n",
    "                  optimizer='adam',\n",
    "                  metrics=['accuracy'])\n",
    "    \n",
    "    return model"
   ]
  },
  {
   "cell_type": "code",
   "execution_count": 53,
   "id": "583a71be-1eb7-4d45-a6f1-7ec990396f39",
   "metadata": {
    "jupyter": {
     "source_hidden": true
    }
   },
   "outputs": [],
   "source": [
    "def plot_training_history(history):\n",
    "    \"\"\"Plot training history\"\"\"\n",
    "    plt.figure(figsize=(12, 5))\n",
    "    \n",
    "    # Plot training & validation accuracy\n",
    "    plt.subplot(1, 2, 1)\n",
    "    plt.plot(history.history['accuracy'])\n",
    "    plt.title('Model accuracy')\n",
    "    plt.ylabel('Accuracy')\n",
    "    plt.xlabel('Epoch')\n",
    "    plt.legend(['Train'], loc='upper left')\n",
    "    \n",
    "    # Plot training & validation loss\n",
    "    plt.subplot(1, 2, 2)\n",
    "    plt.plot(history.history['loss'])\n",
    "    plt.title('Model loss')\n",
    "    plt.ylabel('Loss')\n",
    "    plt.xlabel('Epoch')\n",
    "    plt.legend(['Train'], loc='upper left')\n",
    "    \n",
    "    plt.tight_layout()\n",
    "    plt.show()"
   ]
  },
  {
   "cell_type": "code",
   "execution_count": 54,
   "id": "45dd685b-aedd-4427-875c-81daacf6782e",
   "metadata": {},
   "outputs": [],
   "source": [
    "def predict_labels(model, X, tokenizer=None, texts=None):\n",
    "    \"\"\"Make predictions on input data\"\"\"\n",
    "    if tokenizer is not None and texts is not None:\n",
    "        # Process text inputs\n",
    "        sequences = tokenizer.texts_to_sequences(texts)\n",
    "        X = pad_sequences(sequences, maxlen=MAX_SEQUENCE_LENGTH, padding='post')\n",
    "    \n",
    "    # Predict probabilities\n",
    "    y_pred_proba = model.predict(X)\n",
    "    \n",
    "    # Convert to binary predictions with threshold 0.5\n",
    "    y_pred = (y_pred_proba > 0.5).astype(int)\n",
    "    \n",
    "    # Ensure at least one label is predicted (choose max probability if no labels above threshold)\n",
    "    for i in range(len(y_pred)):\n",
    "        if np.sum(y_pred[i]) == 0:\n",
    "            max_idx = np.argmax(y_pred_proba[i])\n",
    "            y_pred[i, max_idx] = 1\n",
    "    \n",
    "    return y_pred, y_pred_proba"
   ]
  },
  {
   "cell_type": "code",
   "execution_count": 55,
   "id": "04e90d3c-1731-4662-9d23-7438cebd7994",
   "metadata": {},
   "outputs": [],
   "source": [
    "def save_predictions(test_df, y_pred, y_pred_proba, output_file=\"predictions.csv\"):\n",
    "    \"\"\"Save predictions to a CSV file\"\"\"\n",
    "    # Create a copy of the test dataframe\n",
    "    results_df = test_df.copy()\n",
    "    \n",
    "    # Add predicted hard labels (excluding \"UNKNOWN\" which should never be predicted)\n",
    "    predicted_labels = []\n",
    "    for i, pred in enumerate(y_pred):  # Added index i to the loop variable\n",
    "        row_labels = [VALID_LABELS[j] for j in range(len(VALID_LABELS)) if pred[j] == 1]\n",
    "        # If only \"-\" is predicted and there's a sexist label with probability close to the threshold, include it\n",
    "        if row_labels == [\"-\"] and np.max(y_pred_proba[i, :-1]) > 0.3:  # assuming \"-\" is the last label\n",
    "            next_best_idx = np.argmax(y_pred_proba[i, :-1])\n",
    "            row_labels.append(VALID_LABELS[next_best_idx])\n",
    "            \n",
    "        predicted_labels.append(','.join(row_labels))\n",
    "    \n",
    "    results_df['predicted_labels'] = predicted_labels\n",
    "    \n",
    "    # Add probabilities for each label\n",
    "    for i, label in enumerate(VALID_LABELS):\n",
    "        results_df[f'prob_{label}'] = y_pred_proba[:, i]\n",
    "    \n",
    "    # Save to CSV\n",
    "    results_df.to_csv(output_file, index=False)\n",
    "    print(f\"Predictions saved to {output_file}\")\n",
    "    \n",
    "    return results_df"
   ]
  },
  {
   "cell_type": "code",
   "execution_count": 56,
   "id": "142aad3d-01ac-4d72-8b1c-75d6026b60e7",
   "metadata": {},
   "outputs": [
    {
     "name": "stdout",
     "output_type": "stream",
     "text": [
      "Loading data...\n",
      "Processing labels...\n",
      "Using hard labels for training\n",
      "\n",
      "Label distribution in training data:\n",
      "IDEOLOGICAL-INEQUALITY: 1002.0 instances (49.85%)\n",
      "STEREOTYPING-DOMINANCE: 1204.0 instances (59.90%)\n",
      "OBJECTIFICATION: 1058.0 instances (52.64%)\n",
      "SEXUAL-VIOLENCE: 523.0 instances (26.02%)\n",
      "MISOGYNY-NON-SEXUAL-VIOLENCE: 663.0 instances (32.99%)\n",
      "-: 1739.0 instances (86.52%)\n",
      "Preparing text data...\n",
      "Building model...\n"
     ]
    },
    {
     "name": "stderr",
     "output_type": "stream",
     "text": [
      "/Users/naranja/opt/anaconda3/lib/python3.12/site-packages/keras/src/layers/core/embedding.py:90: UserWarning: Argument `input_length` is deprecated. Just remove it.\n",
      "  warnings.warn(\n"
     ]
    },
    {
     "data": {
      "text/html": [
       "<pre style=\"white-space:pre;overflow-x:auto;line-height:normal;font-family:Menlo,'DejaVu Sans Mono',consolas,'Courier New',monospace\"><span style=\"font-weight: bold\">Model: \"functional_4\"</span>\n",
       "</pre>\n"
      ],
      "text/plain": [
       "\u001b[1mModel: \"functional_4\"\u001b[0m\n"
      ]
     },
     "metadata": {},
     "output_type": "display_data"
    },
    {
     "data": {
      "text/html": [
       "<pre style=\"white-space:pre;overflow-x:auto;line-height:normal;font-family:Menlo,'DejaVu Sans Mono',consolas,'Courier New',monospace\">┏━━━━━━━━━━━━━━━━━━━━━━━━━━━━━━━━━┳━━━━━━━━━━━━━━━━━━━━━━━━┳━━━━━━━━━━━━━━━┓\n",
       "┃<span style=\"font-weight: bold\"> Layer (type)                    </span>┃<span style=\"font-weight: bold\"> Output Shape           </span>┃<span style=\"font-weight: bold\">       Param # </span>┃\n",
       "┡━━━━━━━━━━━━━━━━━━━━━━━━━━━━━━━━━╇━━━━━━━━━━━━━━━━━━━━━━━━╇━━━━━━━━━━━━━━━┩\n",
       "│ input_layer_2 (<span style=\"color: #0087ff; text-decoration-color: #0087ff\">InputLayer</span>)      │ (<span style=\"color: #00d7ff; text-decoration-color: #00d7ff\">None</span>, <span style=\"color: #00af00; text-decoration-color: #00af00\">100</span>)            │             <span style=\"color: #00af00; text-decoration-color: #00af00\">0</span> │\n",
       "├─────────────────────────────────┼────────────────────────┼───────────────┤\n",
       "│ embedding_4 (<span style=\"color: #0087ff; text-decoration-color: #0087ff\">Embedding</span>)         │ (<span style=\"color: #00d7ff; text-decoration-color: #00d7ff\">None</span>, <span style=\"color: #00af00; text-decoration-color: #00af00\">100</span>, <span style=\"color: #00af00; text-decoration-color: #00af00\">200</span>)       │     <span style=\"color: #00af00; text-decoration-color: #00af00\">1,374,800</span> │\n",
       "├─────────────────────────────────┼────────────────────────┼───────────────┤\n",
       "│ bidirectional (<span style=\"color: #0087ff; text-decoration-color: #0087ff\">Bidirectional</span>)   │ (<span style=\"color: #00d7ff; text-decoration-color: #00d7ff\">None</span>, <span style=\"color: #00af00; text-decoration-color: #00af00\">100</span>, <span style=\"color: #00af00; text-decoration-color: #00af00\">256</span>)       │       <span style=\"color: #00af00; text-decoration-color: #00af00\">336,896</span> │\n",
       "├─────────────────────────────────┼────────────────────────┼───────────────┤\n",
       "│ bidirectional_1 (<span style=\"color: #0087ff; text-decoration-color: #0087ff\">Bidirectional</span>) │ (<span style=\"color: #00d7ff; text-decoration-color: #00d7ff\">None</span>, <span style=\"color: #00af00; text-decoration-color: #00af00\">128</span>)            │       <span style=\"color: #00af00; text-decoration-color: #00af00\">164,352</span> │\n",
       "├─────────────────────────────────┼────────────────────────┼───────────────┤\n",
       "│ dense_8 (<span style=\"color: #0087ff; text-decoration-color: #0087ff\">Dense</span>)                 │ (<span style=\"color: #00d7ff; text-decoration-color: #00d7ff\">None</span>, <span style=\"color: #00af00; text-decoration-color: #00af00\">128</span>)            │        <span style=\"color: #00af00; text-decoration-color: #00af00\">16,512</span> │\n",
       "├─────────────────────────────────┼────────────────────────┼───────────────┤\n",
       "│ dropout_2 (<span style=\"color: #0087ff; text-decoration-color: #0087ff\">Dropout</span>)             │ (<span style=\"color: #00d7ff; text-decoration-color: #00d7ff\">None</span>, <span style=\"color: #00af00; text-decoration-color: #00af00\">128</span>)            │             <span style=\"color: #00af00; text-decoration-color: #00af00\">0</span> │\n",
       "├─────────────────────────────────┼────────────────────────┼───────────────┤\n",
       "│ dense_9 (<span style=\"color: #0087ff; text-decoration-color: #0087ff\">Dense</span>)                 │ (<span style=\"color: #00d7ff; text-decoration-color: #00d7ff\">None</span>, <span style=\"color: #00af00; text-decoration-color: #00af00\">6</span>)              │           <span style=\"color: #00af00; text-decoration-color: #00af00\">774</span> │\n",
       "└─────────────────────────────────┴────────────────────────┴───────────────┘\n",
       "</pre>\n"
      ],
      "text/plain": [
       "┏━━━━━━━━━━━━━━━━━━━━━━━━━━━━━━━━━┳━━━━━━━━━━━━━━━━━━━━━━━━┳━━━━━━━━━━━━━━━┓\n",
       "┃\u001b[1m \u001b[0m\u001b[1mLayer (type)                   \u001b[0m\u001b[1m \u001b[0m┃\u001b[1m \u001b[0m\u001b[1mOutput Shape          \u001b[0m\u001b[1m \u001b[0m┃\u001b[1m \u001b[0m\u001b[1m      Param #\u001b[0m\u001b[1m \u001b[0m┃\n",
       "┡━━━━━━━━━━━━━━━━━━━━━━━━━━━━━━━━━╇━━━━━━━━━━━━━━━━━━━━━━━━╇━━━━━━━━━━━━━━━┩\n",
       "│ input_layer_2 (\u001b[38;5;33mInputLayer\u001b[0m)      │ (\u001b[38;5;45mNone\u001b[0m, \u001b[38;5;34m100\u001b[0m)            │             \u001b[38;5;34m0\u001b[0m │\n",
       "├─────────────────────────────────┼────────────────────────┼───────────────┤\n",
       "│ embedding_4 (\u001b[38;5;33mEmbedding\u001b[0m)         │ (\u001b[38;5;45mNone\u001b[0m, \u001b[38;5;34m100\u001b[0m, \u001b[38;5;34m200\u001b[0m)       │     \u001b[38;5;34m1,374,800\u001b[0m │\n",
       "├─────────────────────────────────┼────────────────────────┼───────────────┤\n",
       "│ bidirectional (\u001b[38;5;33mBidirectional\u001b[0m)   │ (\u001b[38;5;45mNone\u001b[0m, \u001b[38;5;34m100\u001b[0m, \u001b[38;5;34m256\u001b[0m)       │       \u001b[38;5;34m336,896\u001b[0m │\n",
       "├─────────────────────────────────┼────────────────────────┼───────────────┤\n",
       "│ bidirectional_1 (\u001b[38;5;33mBidirectional\u001b[0m) │ (\u001b[38;5;45mNone\u001b[0m, \u001b[38;5;34m128\u001b[0m)            │       \u001b[38;5;34m164,352\u001b[0m │\n",
       "├─────────────────────────────────┼────────────────────────┼───────────────┤\n",
       "│ dense_8 (\u001b[38;5;33mDense\u001b[0m)                 │ (\u001b[38;5;45mNone\u001b[0m, \u001b[38;5;34m128\u001b[0m)            │        \u001b[38;5;34m16,512\u001b[0m │\n",
       "├─────────────────────────────────┼────────────────────────┼───────────────┤\n",
       "│ dropout_2 (\u001b[38;5;33mDropout\u001b[0m)             │ (\u001b[38;5;45mNone\u001b[0m, \u001b[38;5;34m128\u001b[0m)            │             \u001b[38;5;34m0\u001b[0m │\n",
       "├─────────────────────────────────┼────────────────────────┼───────────────┤\n",
       "│ dense_9 (\u001b[38;5;33mDense\u001b[0m)                 │ (\u001b[38;5;45mNone\u001b[0m, \u001b[38;5;34m6\u001b[0m)              │           \u001b[38;5;34m774\u001b[0m │\n",
       "└─────────────────────────────────┴────────────────────────┴───────────────┘\n"
      ]
     },
     "metadata": {},
     "output_type": "display_data"
    },
    {
     "data": {
      "text/html": [
       "<pre style=\"white-space:pre;overflow-x:auto;line-height:normal;font-family:Menlo,'DejaVu Sans Mono',consolas,'Courier New',monospace\"><span style=\"font-weight: bold\"> Total params: </span><span style=\"color: #00af00; text-decoration-color: #00af00\">1,893,334</span> (7.22 MB)\n",
       "</pre>\n"
      ],
      "text/plain": [
       "\u001b[1m Total params: \u001b[0m\u001b[38;5;34m1,893,334\u001b[0m (7.22 MB)\n"
      ]
     },
     "metadata": {},
     "output_type": "display_data"
    },
    {
     "data": {
      "text/html": [
       "<pre style=\"white-space:pre;overflow-x:auto;line-height:normal;font-family:Menlo,'DejaVu Sans Mono',consolas,'Courier New',monospace\"><span style=\"font-weight: bold\"> Trainable params: </span><span style=\"color: #00af00; text-decoration-color: #00af00\">1,893,334</span> (7.22 MB)\n",
       "</pre>\n"
      ],
      "text/plain": [
       "\u001b[1m Trainable params: \u001b[0m\u001b[38;5;34m1,893,334\u001b[0m (7.22 MB)\n"
      ]
     },
     "metadata": {},
     "output_type": "display_data"
    },
    {
     "data": {
      "text/html": [
       "<pre style=\"white-space:pre;overflow-x:auto;line-height:normal;font-family:Menlo,'DejaVu Sans Mono',consolas,'Courier New',monospace\"><span style=\"font-weight: bold\"> Non-trainable params: </span><span style=\"color: #00af00; text-decoration-color: #00af00\">0</span> (0.00 B)\n",
       "</pre>\n"
      ],
      "text/plain": [
       "\u001b[1m Non-trainable params: \u001b[0m\u001b[38;5;34m0\u001b[0m (0.00 B)\n"
      ]
     },
     "metadata": {},
     "output_type": "display_data"
    },
    {
     "name": "stdout",
     "output_type": "stream",
     "text": [
      "Training model...\n",
      "Epoch 1/10\n",
      "\u001b[1m63/63\u001b[0m \u001b[32m━━━━━━━━━━━━━━━━━━━━\u001b[0m\u001b[37m\u001b[0m \u001b[1m52s\u001b[0m 703ms/step - accuracy: 0.1055 - loss: 0.6468\n",
      "Epoch 2/10\n"
     ]
    },
    {
     "name": "stderr",
     "output_type": "stream",
     "text": [
      "/Users/naranja/opt/anaconda3/lib/python3.12/site-packages/keras/src/callbacks/early_stopping.py:153: UserWarning: Early stopping conditioned on metric `val_loss` which is not available. Available metrics are: accuracy,loss\n",
      "  current = self.get_monitor_value(logs)\n",
      "/Users/naranja/opt/anaconda3/lib/python3.12/site-packages/keras/src/callbacks/model_checkpoint.py:209: UserWarning: Can save best model only with val_loss available, skipping.\n",
      "  self._save_model(epoch=epoch, batch=None, logs=logs)\n"
     ]
    },
    {
     "name": "stdout",
     "output_type": "stream",
     "text": [
      "\u001b[1m63/63\u001b[0m \u001b[32m━━━━━━━━━━━━━━━━━━━━\u001b[0m\u001b[37m\u001b[0m \u001b[1m70s\u001b[0m 509ms/step - accuracy: 0.1267 - loss: 0.6002\n",
      "Epoch 3/10\n",
      "\u001b[1m63/63\u001b[0m \u001b[32m━━━━━━━━━━━━━━━━━━━━\u001b[0m\u001b[37m\u001b[0m \u001b[1m29s\u001b[0m 454ms/step - accuracy: 0.2100 - loss: 0.5517\n",
      "Epoch 4/10\n",
      "\u001b[1m63/63\u001b[0m \u001b[32m━━━━━━━━━━━━━━━━━━━━\u001b[0m\u001b[37m\u001b[0m \u001b[1m51s\u001b[0m 812ms/step - accuracy: 0.2590 - loss: 0.4650\n",
      "Epoch 5/10\n",
      "\u001b[1m63/63\u001b[0m \u001b[32m━━━━━━━━━━━━━━━━━━━━\u001b[0m\u001b[37m\u001b[0m \u001b[1m46s\u001b[0m 726ms/step - accuracy: 0.3062 - loss: 0.4083\n",
      "Epoch 6/10\n",
      "\u001b[1m63/63\u001b[0m \u001b[32m━━━━━━━━━━━━━━━━━━━━\u001b[0m\u001b[37m\u001b[0m \u001b[1m42s\u001b[0m 662ms/step - accuracy: 0.3292 - loss: 0.3487\n",
      "Epoch 7/10\n",
      "\u001b[1m63/63\u001b[0m \u001b[32m━━━━━━━━━━━━━━━━━━━━\u001b[0m\u001b[37m\u001b[0m \u001b[1m40s\u001b[0m 639ms/step - accuracy: 0.3548 - loss: 0.2963\n",
      "Epoch 8/10\n",
      "\u001b[1m63/63\u001b[0m \u001b[32m━━━━━━━━━━━━━━━━━━━━\u001b[0m\u001b[37m\u001b[0m \u001b[1m40s\u001b[0m 635ms/step - accuracy: 0.3195 - loss: 0.2478\n",
      "Epoch 9/10\n",
      "\u001b[1m63/63\u001b[0m \u001b[32m━━━━━━━━━━━━━━━━━━━━\u001b[0m\u001b[37m\u001b[0m \u001b[1m41s\u001b[0m 648ms/step - accuracy: 0.3706 - loss: 0.2079\n",
      "Epoch 10/10\n",
      "\u001b[1m63/63\u001b[0m \u001b[32m━━━━━━━━━━━━━━━━━━━━\u001b[0m\u001b[37m\u001b[0m \u001b[1m51s\u001b[0m 804ms/step - accuracy: 0.3721 - loss: 0.1830\n"
     ]
    },
    {
     "data": {
      "image/png": "[encoded data removed]",
      "text/plain": [
       "<Figure size 1200x500 with 2 Axes>"
      ]
     },
     "metadata": {},
     "output_type": "display_data"
    },
    {
     "name": "stdout",
     "output_type": "stream",
     "text": [
      "Making predictions on test data...\n",
      "WARNING:tensorflow:5 out of the last 20 calls to <function TensorFlowTrainer.make_predict_function.<locals>.one_step_on_data_distributed at 0x16df77060> triggered tf.function retracing. Tracing is expensive and the excessive number of tracings could be due to (1) creating @tf.function repeatedly in a loop, (2) passing tensors with different shapes, (3) passing Python objects instead of tensors. For (1), please define your @tf.function outside of the loop. For (2), @tf.function has reduce_retracing=True option that can avoid unnecessary retracing. For (3), please refer to https://www.tensorflow.org/guide/function#controlling_retracing and https://www.tensorflow.org/api_docs/python/tf/function for  more details.\n",
      "\u001b[1m12/12\u001b[0m \u001b[32m━━━━━━━━━━━━━━━━━━━━\u001b[0m\u001b[37m\u001b[0m \u001b[1m3s\u001b[0m 214ms/step\n",
      "Predictions saved to /Users/naranja/Desktop/EXIST/task_2_3/YES_soft_test.csv\n"
     ]
    }
   ],
   "source": [
    "def main(train_file, test_file=None, use_soft_labels=True):\n",
    "    # Load training and test data\n",
    "    print(\"Loading data...\")\n",
    "    train_df, test_df = load_data(train_file, test_file)\n",
    "         \n",
    "    # Process labels\n",
    "    print(\"Processing labels...\")\n",
    "    train_hard_labels, train_soft_labels = preprocess_labels(train_df['labels_task2_3'])\n",
    "    \n",
    "    # Use soft or hard labels based on parameter\n",
    "    train_labels = train_soft_labels if use_soft_labels else train_hard_labels\n",
    "    label_type = \"soft\" if use_soft_labels else \"hard\"\n",
    "    print(f\"Using {label_type} labels for training\")\n",
    "    \n",
    "    # Print label distribution\n",
    "    print(\"\\nLabel distribution in training data:\")\n",
    "    for i, label in enumerate(VALID_LABELS):\n",
    "        count = np.sum(train_hard_labels[:, i])\n",
    "        print(f\"{label}: {count} instances ({count/len(train_df)*100:.2f}%)\")\n",
    "    \n",
    "    # Prepare text data\n",
    "    print(\"Preparing text data...\")\n",
    "    if test_df is not None:\n",
    "        X_train, X_test, tokenizer = prepare_text_data(train_df['text'], yes_hard_df['text'])\n",
    "    else:\n",
    "        X_train, _, tokenizer = prepare_text_data(train_df['text'])\n",
    "        X_test = None\n",
    "    \n",
    "    # Build model\n",
    "    print(\"Building model...\")\n",
    "    vocab_size = min(MAX_VOCAB_SIZE, len(tokenizer.word_index) + 1)\n",
    "    model = build_model(vocab_size, len(VALID_LABELS))\n",
    "    model.summary()\n",
    "    \n",
    "    # Train model\n",
    "    print(\"Training model...\")\n",
    "    history = model.fit(\n",
    "        X_train, train_labels,\n",
    "        epochs=EPOCHS,\n",
    "        callbacks=[\n",
    "            tf.keras.callbacks.EarlyStopping(monitor='val_loss', patience=3, restore_best_weights=True),\n",
    "            tf.keras.callbacks.ModelCheckpoint(\"best_model.h5\", monitor='val_loss', save_best_only=True)\n",
    "        ]\n",
    "    )\n",
    "    \n",
    "    # Plot training history\n",
    "    plot_training_history(history)\n",
    "    \n",
    "    # Make predictions on test data if available\n",
    "    if test_df is not None and X_test is not None:\n",
    "        print(\"Making predictions on test data...\")\n",
    "        y_pred, y_pred_proba = predict_labels(model, X_test)\n",
    "        \n",
    "        # Save predictions\n",
    "        results_df = save_predictions(yes_hard_df, y_pred, y_pred_proba, '/Users/naranja/Desktop/EXIST/task_2_3/YES_soft_test.csv') \n",
    "        \n",
    "if __name__ == \"__main__\":\n",
    "    main(\"/Users/naranja/Desktop/EXIST/task_2_1/training.csv\", \"/Users/naranja/Desktop/EXIST/task_2_2/YES_hard_test.csv\", use_soft_labels=False)"
   ]
  },
  {
   "cell_type": "code",
   "execution_count": null,
   "id": "4bc945c9-1d51-45e0-a9b3-856f7568917b",
   "metadata": {},
   "outputs": [],
   "source": []
  }
 ],
 "metadata": {
  "kernelspec": {
   "display_name": "Python 3 (ipykernel)",
   "language": "python",
   "name": "python3"
  },
  "language_info": {
   "codemirror_mode": {
    "name": "ipython",
    "version": 3
   },
   "file_extension": ".py",
   "mimetype": "text/x-python",
   "name": "python",
   "nbconvert_exporter": "python",
   "pygments_lexer": "ipython3",
   "version": "3.12.7"
  }
 },
 "nbformat": 4,
 "nbformat_minor": 5
}
