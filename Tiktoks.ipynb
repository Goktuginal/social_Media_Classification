{
 "cells": [
  {
   "cell_type": "code",
   "execution_count": 1,
   "id": "ea87dc7b-bc3c-45a5-b6c6-593ec7634917",
   "metadata": {},
   "outputs": [],
   "source": [
    "import json\n",
    "\n",
    "# Open and read the JSON file\n",
    "with open('/Users/naranja/Downloads/EXIST 2025 Dataset V0.3/EXIST 2025 Videos Dataset/training/EXIST2025_training.json', 'r') as file:\n",
    "    train_data = json.load(file)\n",
    "with open('/Users/naranja/Downloads/EXIST 2025 Dataset V0.3/EXIST 2025 Videos Dataset/test/EXIST2025_test_clean.json', 'r') as file:\n",
    "    test_data = json.load(file)"
   ]
  },
  {
   "cell_type": "code",
   "execution_count": 2,
   "id": "70dc7bc3-33d3-4bdc-b31c-a257394bdb80",
   "metadata": {},
   "outputs": [],
   "source": [
    "import pandas as pd\n",
    "import numpy as np\n",
    "\n",
    "train_df = pd.DataFrame(train_data)\n",
    "test_df = pd.DataFrame(test_data)\n",
    "train_df = train_df.transpose()\n",
    "test_df = test_df.transpose()\n",
    "\n",
    "train_df = train_df[train_df['lang'] == 'en']\n",
    "test_df = test_df[test_df['lang'] == 'en']"
   ]
  },
  {
   "cell_type": "code",
   "execution_count": 3,
   "id": "1f98e8db-5b9e-43d6-ae01-7874c40c3f0e",
   "metadata": {
    "jupyter": {
     "source_hidden": true
    }
   },
   "outputs": [
    {
     "name": "stderr",
     "output_type": "stream",
     "text": [
      "2025-05-19 11:41:22.924281: I tensorflow/core/platform/cpu_feature_guard.cc:210] This TensorFlow binary is optimized to use available CPU instructions in performance-critical operations.\n",
      "To enable the following instructions: AVX2 FMA, in other operations, rebuild TensorFlow with the appropriate compiler flags.\n",
      "[nltk_data] Downloading package stopwords to\n",
      "[nltk_data]     /Users/naranja/nltk_data...\n",
      "[nltk_data]   Package stopwords is already up-to-date!\n"
     ]
    }
   ],
   "source": [
    "import re\n",
    "import string\n",
    "import nltk\n",
    "import tensorflow as tf\n",
    "\n",
    "nltk.download('stopwords')\n",
    "from nltk.corpus import stopwords\n",
    "\n",
    "stop = set(stopwords.words(fileids=('english')))\n",
    "def remove_stopwords(text):\n",
    "    filtered_words = [word.lower() for word in text.split() if word.lower() not in stop]\n",
    "    return \" \".join(filtered_words)\n",
    "\n",
    "def normalize_whitespace(text_tensor):\n",
    "    # Replace tabs and newlines with space\n",
    "    text_tensor = tf.strings.regex_replace(text_tensor, r\"[\\t\\n\\r]+\", \" \")\n",
    "\n",
    "    # Replace multiple spaces with single space\n",
    "    text_tensor = tf.strings.regex_replace(text_tensor, r\"\\s{2,}\", \" \")\n",
    "\n",
    "    # Strip leading/trailing whitespace\n",
    "    text_tensor = tf.strings.strip(text_tensor)\n",
    "    return text_tensor\n",
    "\n",
    "def remove_username(text):\n",
    "    user = re.compile(r\"@[^\\s]+\")\n",
    "    return user.sub(r\"\", text)\n",
    "\n",
    "def remove_URL(text):\n",
    "    url = re.compile(r\"https?://\\S+|www\\.\\S+\")\n",
    "    return url.sub(r\"\", text)\n",
    "\n",
    "def remove_punct(text):\n",
    "    translator = str.maketrans(\"\", \"\", string.punctuation)\n",
    "    return text.translate(translator)\n",
    "\n",
    "def remove_emails(text):\n",
    "    # Define email pattern using re\n",
    "    email_pattern = re.compile(\n",
    "        r\"\\b[\\w\\.-]+@[\\w\\.-]+\\.\\w{2,4}\\b\",  # Basic email pattern\n",
    "        flags=re.UNICODE\n",
    "    )\n",
    "    email_regex_str = email_pattern.pattern\n",
    "    cleaned_text = tf.strings.regex_replace(text, email_regex_str, \"\")\n",
    "    return cleaned_text\n",
    "\n",
    "def remove_emoji(text):\n",
    "    emoji_pattern = re.compile(\n",
    "        \"[\"\n",
    "        u\"\\U0001F600-\\U0001F64F\"  # Emoticons\n",
    "        u\"\\U0001F300-\\U0001F5FF\"  # Symbols & Pictographs\n",
    "        u\"\\U0001F680-\\U0001F6FF\"  # Transport & Map Symbols\n",
    "        u\"\\U0001F1E0-\\U0001F1FF\"  # Flags\n",
    "        u\"\\U00002700-\\U000027BF\"  # Dingbats\n",
    "        u\"\\U0001F900-\\U0001F9FF\"  # Supplemental Symbols and Pictographs\n",
    "        u\"\\U00002600-\\U000026FF\"  # Misc symbols\n",
    "        \"]+\", \n",
    "        flags=re.UNICODE\n",
    "    )\n",
    "    return emoji_pattern.sub(r'', text)"
   ]
  },
  {
   "cell_type": "code",
   "execution_count": 4,
   "id": "1a7c1400-e1d8-44ad-ae27-54d0db1efb95",
   "metadata": {
    "jupyter": {
     "source_hidden": true
    }
   },
   "outputs": [],
   "source": [
    "train_df['text'] = train_df['text'].apply(\n",
    "    lambda x: remove_emails(tf.constant(x)).numpy().decode('utf-8')\n",
    ")\n",
    "train_df['text'] = train_df.text.map(remove_username)\n",
    "train_df['text'] = train_df.text.map(remove_URL)\n",
    "train_df['text'] = train_df.text.map(remove_punct)\n",
    "train_df['text'] = train_df.text.map(remove_emoji)\n",
    "train_df['text'] = train_df['text'].apply(\n",
    "    lambda x: normalize_whitespace(tf.constant(x)).numpy().decode('utf-8')\n",
    ")\n",
    "test_df['text'] = test_df['text'].apply(\n",
    "    lambda x: remove_emails(tf.constant(x)).numpy().decode('utf-8')\n",
    ")\n",
    "test_df['text'] = test_df.text.map(remove_username)\n",
    "test_df['text'] = test_df.text.map(remove_URL)\n",
    "test_df['text'] = test_df.text.map(remove_punct)\n",
    "test_df['text'] = test_df.text.map(remove_emoji)\n",
    "test_df['text'] = test_df['text'].apply(\n",
    "    lambda x: normalize_whitespace(tf.constant(x)).numpy().decode('utf-8')\n",
    ")"
   ]
  },
  {
   "cell_type": "code",
   "execution_count": 5,
   "id": "cad59133-9bce-44da-8f58-d9c1e377716a",
   "metadata": {
    "jupyter": {
     "source_hidden": true
    }
   },
   "outputs": [],
   "source": [
    "def compute_soft_and_hard_label(votes, positive_token=\"YES\", negative_token=\"NO\"):\n",
    "    \"\"\"\n",
    "    Converts annotator votes into soft and hard labels.\n",
    "\n",
    "    Args:\n",
    "        votes (list of str): Annotator votes, e.g., ['NO', 'YES', 'NO', 'YES']\n",
    "        positive_token (str): The string representing a positive label (default: 'YES')\n",
    "        negative_token (str): The string representing a negative label (default: 'NO')\n",
    "\n",
    "    Returns:\n",
    "        soft_label (list of float): [prob_yes, prob_no]\n",
    "        hard_label (int): 1 if YES wins, 0 otherwise\n",
    "    \"\"\"\n",
    "    total = len(votes)\n",
    "    yes_count = sum(1 for v in votes if v == positive_token)\n",
    "    no_count = total - yes_count\n",
    "\n",
    "    prob_yes = yes_count / total\n",
    "    prob_no = no_count / total\n",
    "\n",
    "    hard_label = 1 if prob_yes >= 0.5 else 0\n",
    "\n",
    "    return [prob_yes, prob_no], hard_label"
   ]
  },
  {
   "cell_type": "code",
   "execution_count": 6,
   "id": "b682e3f0-fd27-4468-b70a-817aeb381763",
   "metadata": {
    "jupyter": {
     "source_hidden": true
    }
   },
   "outputs": [],
   "source": [
    "train_df['labels_task3_1_hard'] = None\n",
    "train_df['labels_task3_1_soft'] = None\n",
    "\n",
    "for index, row in train_df.iterrows():\n",
    "    soft, hard = compute_soft_and_hard_label(row['labels_task3_1'])\n",
    "    if hasattr(hard, '__iter__') and not isinstance(hard, (str, bytes)):\n",
    "        hard = hard[0]  # Take first value or use another approach\n",
    "    \n",
    "    if isinstance(soft, np.ndarray):\n",
    "        soft = soft.tolist()\n",
    "    train_df.at[index, 'labels_task3_1_hard'] = hard\n",
    "    train_df.at[index, 'labels_task3_1_soft'] = soft"
   ]
  },
  {
   "cell_type": "code",
   "execution_count": 7,
   "id": "dd9f1e80-bb09-4303-9fad-b2611b7a3bf8",
   "metadata": {},
   "outputs": [],
   "source": [
    "csv_file_train = '/Users/naranja/Desktop/EXIST/task_3_1/training.csv'\n",
    "csv_file_test = '/Users/naranja/Desktop/EXIST/task_3_1/test.csv'\n",
    "train_df.to_csv(csv_file_train, index=False)\n",
    "test_df.to_csv(csv_file_test, index=False)"
   ]
  },
  {
   "cell_type": "code",
   "execution_count": 8,
   "id": "441f71e3-de61-4446-b1de-e82ff52c7caf",
   "metadata": {},
   "outputs": [],
   "source": [
    "train_text = train_df['text'].astype(str).to_numpy()\n",
    "hard_labels = train_df['labels_task3_1_hard'].astype('int32').to_numpy()\n",
    "train_soft_labels = np.stack(train_df['labels_task3_1_soft'].to_numpy()).astype(np.float32)"
   ]
  },
  {
   "cell_type": "code",
   "execution_count": 9,
   "id": "6b3ebfb9-b89d-4a19-bf09-94f52aab0aa5",
   "metadata": {},
   "outputs": [],
   "source": [
    "import keras\n",
    "from tensorflow.keras.layers import TextVectorization\n",
    "from tensorflow.keras import layers, models\n",
    "from tensorflow.keras.preprocessing.text import Tokenizer\n",
    "from tensorflow.keras.preprocessing.sequence import pad_sequences\n",
    "from sklearn.model_selection import train_test_split\n",
    "from sklearn.metrics import classification_report, roc_auc_score\n",
    "\n",
    "# Define vectorizer (adjust max_tokens and sequence_length as needed)\n",
    "vectorizer = TextVectorization(\n",
    "    max_tokens=10000,\n",
    "    output_sequence_length=100,\n",
    "    standardize='lower_and_strip_punctuation'\n",
    ")\n",
    "\n",
    "# Fit it on your training text\n",
    "vectorizer.adapt(train_text)"
   ]
  },
  {
   "cell_type": "code",
   "execution_count": 10,
   "id": "406dcc31-df96-4737-b21b-e8be482fc8ec",
   "metadata": {
    "jupyter": {
     "source_hidden": true
    }
   },
   "outputs": [],
   "source": [
    "def create_model(use_soft_labels=False):\n",
    "    \"\"\"\n",
    "    Create a simple text classification model\n",
    "    \"\"\"\n",
    "    inputs = keras.Input(shape=(), dtype=tf.string, name=\"text_input\")\n",
    "    x = vectorizer(inputs)  # Now outputs shape (None, 100) of int32                    \n",
    "    x = layers.Embedding(input_dim=10000, output_dim=16)(x)\n",
    "    x = layers.Conv1D(128, 5, activation='relu')(x)\n",
    "    x = layers.GlobalMaxPooling1D()(x)\n",
    "    x = layers.Dense(64, activation='relu')(x)\n",
    "    x = layers.Dropout(0.5)(x)\n",
    "\n",
    "    if use_soft_labels:\n",
    "        outputs = tf.keras.layers.Dense(2, activation='softmax')(x)\n",
    "        loss = 'categorical_crossentropy'\n",
    "    else:\n",
    "        outputs = tf.keras.layers.Dense(1, activation='sigmoid')(x)\n",
    "        loss = 'binary_crossentropy'\n",
    "\n",
    "    model = tf.keras.Model(inputs=inputs, outputs=outputs)\n",
    "    model.compile(optimizer='adam', loss=loss, metrics=['accuracy'])\n",
    "    \n",
    "    return model"
   ]
  },
  {
   "cell_type": "code",
   "execution_count": 11,
   "id": "2a4fd9c2-8950-4c6d-b108-b7eadfaec02b",
   "metadata": {
    "jupyter": {
     "source_hidden": true
    }
   },
   "outputs": [],
   "source": [
    "def predict_text(model, test_df, threshold=0.5, label_mode='soft'):\n",
    "    \"\"\"\n",
    "    Predicts on test text using a trained model.\n",
    "\n",
    "    \"\"\"\n",
    "    test_text = test_df['text'].astype(str).to_numpy()\n",
    "\n",
    "    # Get raw predictions from model\n",
    "    preds = model.predict(test_text)\n",
    "\n",
    "    if len(preds.shape) > 1 and preds.shape[1] == 2:\n",
    "        if label_mode == 'soft':\n",
    "            test_df['soft_pred'] = preds.tolist()  # Store the entire 2D array as lists in the column\n",
    "        elif label_mode == 'hard':\n",
    "            test_df['hard_pred'] = np.argmax(preds, axis=1)  # 0 = NO, 1 = YES\n",
    "    else:\n",
    "        if label_mode == 'soft':\n",
    "            # For sigmoid output, create the complementary probability\n",
    "            probs = preds.flatten()  # Ensure it's 1D\n",
    "            test_df['soft_pred'] = [[p, 1-p] for p in probs]  # Store as list of pairs [p, 1-p]\n",
    "        elif label_mode == 'hard':\n",
    "            test_df['hard_pred'] = (preds.flatten() > threshold).astype(int)\n",
    "            \n",
    "    return test_df"
   ]
  },
  {
   "cell_type": "code",
   "execution_count": 12,
   "id": "aaad8cc7-ea72-4486-a8c7-cabc74ebead0",
   "metadata": {
    "jupyter": {
     "source_hidden": true
    }
   },
   "outputs": [],
   "source": [
    "def save_predictions_to_csv(df, output_file='predictions.csv', threshold=0.5):\n",
    "    \"\"\"\n",
    "    Saves meme texts and their predictions to a CSV file.\n",
    "    \"\"\"\n",
    "    \n",
    "    # Create a copy of the DataFrame to avoid modifying the original\n",
    "    result_df = pd.DataFrame()\n",
    "    result_df['id'] = df['id_EXIST']\n",
    "    result_df['text'] = df['text']\n",
    "    \n",
    "    # Process soft predictions if available\n",
    "    if 'soft_pred' in df.columns:\n",
    "        # Check if soft_pred contains lists (for 2-class output)\n",
    "        if isinstance(df['soft_pred'].iloc[0], list):\n",
    "            # For 2D predictions: index 1 is the probability for YES (class 1)\n",
    "            result_df['Probability_YES'] = df['soft_pred'].apply(lambda x: x[1])\n",
    "        else:\n",
    "            # For 1D predictions: the value is directly the probability for YES\n",
    "            result_df['Probability_YES'] = df['soft_pred']\n",
    "            \n",
    "        # Convert probabilities to YES/NO\n",
    "        result_df['Prediction'] = result_df['Probability_YES'].apply(\n",
    "            lambda x: 'YES' if x > threshold else 'NO'\n",
    "        )\n",
    "    \n",
    "    # Use hard predictions if available and soft predictions aren't\n",
    "    elif 'hard_pred' in df.columns:\n",
    "        result_df['Prediction'] = df['hard_pred'].apply(\n",
    "            lambda x: 'YES' if x == 1 else 'NO'\n",
    "        )\n",
    "    \n",
    "    # Save the results to CSV\n",
    "    result_df.to_csv(output_file, index=False)\n",
    "    print(f\"Predictions saved to {output_file}\")\n",
    "    \n",
    "    return result_df"
   ]
  },
  {
   "cell_type": "code",
   "execution_count": 13,
   "id": "2b61e104-5f2f-4588-8c47-ec5c6f5c964f",
   "metadata": {},
   "outputs": [
    {
     "data": {
      "text/html": [
       "<pre style=\"white-space:pre;overflow-x:auto;line-height:normal;font-family:Menlo,'DejaVu Sans Mono',consolas,'Courier New',monospace\"><span style=\"font-weight: bold\">Model: \"functional\"</span>\n",
       "</pre>\n"
      ],
      "text/plain": [
       "\u001b[1mModel: \"functional\"\u001b[0m\n"
      ]
     },
     "metadata": {},
     "output_type": "display_data"
    },
    {
     "data": {
      "text/html": [
       "<pre style=\"white-space:pre;overflow-x:auto;line-height:normal;font-family:Menlo,'DejaVu Sans Mono',consolas,'Courier New',monospace\">┏━━━━━━━━━━━━━━━━━━━━━━━━━━━━━━━━━┳━━━━━━━━━━━━━━━━━━━━━━━━┳━━━━━━━━━━━━━━━┓\n",
       "┃<span style=\"font-weight: bold\"> Layer (type)                    </span>┃<span style=\"font-weight: bold\"> Output Shape           </span>┃<span style=\"font-weight: bold\">       Param # </span>┃\n",
       "┡━━━━━━━━━━━━━━━━━━━━━━━━━━━━━━━━━╇━━━━━━━━━━━━━━━━━━━━━━━━╇━━━━━━━━━━━━━━━┩\n",
       "│ text_input (<span style=\"color: #0087ff; text-decoration-color: #0087ff\">InputLayer</span>)         │ (<span style=\"color: #00d7ff; text-decoration-color: #00d7ff\">None</span>)                 │             <span style=\"color: #00af00; text-decoration-color: #00af00\">0</span> │\n",
       "├─────────────────────────────────┼────────────────────────┼───────────────┤\n",
       "│ text_vectorization              │ (<span style=\"color: #00d7ff; text-decoration-color: #00d7ff\">None</span>, <span style=\"color: #00af00; text-decoration-color: #00af00\">100</span>)            │             <span style=\"color: #00af00; text-decoration-color: #00af00\">0</span> │\n",
       "│ (<span style=\"color: #0087ff; text-decoration-color: #0087ff\">TextVectorization</span>)             │                        │               │\n",
       "├─────────────────────────────────┼────────────────────────┼───────────────┤\n",
       "│ embedding (<span style=\"color: #0087ff; text-decoration-color: #0087ff\">Embedding</span>)           │ (<span style=\"color: #00d7ff; text-decoration-color: #00d7ff\">None</span>, <span style=\"color: #00af00; text-decoration-color: #00af00\">100</span>, <span style=\"color: #00af00; text-decoration-color: #00af00\">16</span>)        │       <span style=\"color: #00af00; text-decoration-color: #00af00\">160,000</span> │\n",
       "├─────────────────────────────────┼────────────────────────┼───────────────┤\n",
       "│ conv1d (<span style=\"color: #0087ff; text-decoration-color: #0087ff\">Conv1D</span>)                 │ (<span style=\"color: #00d7ff; text-decoration-color: #00d7ff\">None</span>, <span style=\"color: #00af00; text-decoration-color: #00af00\">96</span>, <span style=\"color: #00af00; text-decoration-color: #00af00\">128</span>)        │        <span style=\"color: #00af00; text-decoration-color: #00af00\">10,368</span> │\n",
       "├─────────────────────────────────┼────────────────────────┼───────────────┤\n",
       "│ global_max_pooling1d            │ (<span style=\"color: #00d7ff; text-decoration-color: #00d7ff\">None</span>, <span style=\"color: #00af00; text-decoration-color: #00af00\">128</span>)            │             <span style=\"color: #00af00; text-decoration-color: #00af00\">0</span> │\n",
       "│ (<span style=\"color: #0087ff; text-decoration-color: #0087ff\">GlobalMaxPooling1D</span>)            │                        │               │\n",
       "├─────────────────────────────────┼────────────────────────┼───────────────┤\n",
       "│ dense (<span style=\"color: #0087ff; text-decoration-color: #0087ff\">Dense</span>)                   │ (<span style=\"color: #00d7ff; text-decoration-color: #00d7ff\">None</span>, <span style=\"color: #00af00; text-decoration-color: #00af00\">64</span>)             │         <span style=\"color: #00af00; text-decoration-color: #00af00\">8,256</span> │\n",
       "├─────────────────────────────────┼────────────────────────┼───────────────┤\n",
       "│ dropout (<span style=\"color: #0087ff; text-decoration-color: #0087ff\">Dropout</span>)               │ (<span style=\"color: #00d7ff; text-decoration-color: #00d7ff\">None</span>, <span style=\"color: #00af00; text-decoration-color: #00af00\">64</span>)             │             <span style=\"color: #00af00; text-decoration-color: #00af00\">0</span> │\n",
       "├─────────────────────────────────┼────────────────────────┼───────────────┤\n",
       "│ dense_1 (<span style=\"color: #0087ff; text-decoration-color: #0087ff\">Dense</span>)                 │ (<span style=\"color: #00d7ff; text-decoration-color: #00d7ff\">None</span>, <span style=\"color: #00af00; text-decoration-color: #00af00\">1</span>)              │            <span style=\"color: #00af00; text-decoration-color: #00af00\">65</span> │\n",
       "└─────────────────────────────────┴────────────────────────┴───────────────┘\n",
       "</pre>\n"
      ],
      "text/plain": [
       "┏━━━━━━━━━━━━━━━━━━━━━━━━━━━━━━━━━┳━━━━━━━━━━━━━━━━━━━━━━━━┳━━━━━━━━━━━━━━━┓\n",
       "┃\u001b[1m \u001b[0m\u001b[1mLayer (type)                   \u001b[0m\u001b[1m \u001b[0m┃\u001b[1m \u001b[0m\u001b[1mOutput Shape          \u001b[0m\u001b[1m \u001b[0m┃\u001b[1m \u001b[0m\u001b[1m      Param #\u001b[0m\u001b[1m \u001b[0m┃\n",
       "┡━━━━━━━━━━━━━━━━━━━━━━━━━━━━━━━━━╇━━━━━━━━━━━━━━━━━━━━━━━━╇━━━━━━━━━━━━━━━┩\n",
       "│ text_input (\u001b[38;5;33mInputLayer\u001b[0m)         │ (\u001b[38;5;45mNone\u001b[0m)                 │             \u001b[38;5;34m0\u001b[0m │\n",
       "├─────────────────────────────────┼────────────────────────┼───────────────┤\n",
       "│ text_vectorization              │ (\u001b[38;5;45mNone\u001b[0m, \u001b[38;5;34m100\u001b[0m)            │             \u001b[38;5;34m0\u001b[0m │\n",
       "│ (\u001b[38;5;33mTextVectorization\u001b[0m)             │                        │               │\n",
       "├─────────────────────────────────┼────────────────────────┼───────────────┤\n",
       "│ embedding (\u001b[38;5;33mEmbedding\u001b[0m)           │ (\u001b[38;5;45mNone\u001b[0m, \u001b[38;5;34m100\u001b[0m, \u001b[38;5;34m16\u001b[0m)        │       \u001b[38;5;34m160,000\u001b[0m │\n",
       "├─────────────────────────────────┼────────────────────────┼───────────────┤\n",
       "│ conv1d (\u001b[38;5;33mConv1D\u001b[0m)                 │ (\u001b[38;5;45mNone\u001b[0m, \u001b[38;5;34m96\u001b[0m, \u001b[38;5;34m128\u001b[0m)        │        \u001b[38;5;34m10,368\u001b[0m │\n",
       "├─────────────────────────────────┼────────────────────────┼───────────────┤\n",
       "│ global_max_pooling1d            │ (\u001b[38;5;45mNone\u001b[0m, \u001b[38;5;34m128\u001b[0m)            │             \u001b[38;5;34m0\u001b[0m │\n",
       "│ (\u001b[38;5;33mGlobalMaxPooling1D\u001b[0m)            │                        │               │\n",
       "├─────────────────────────────────┼────────────────────────┼───────────────┤\n",
       "│ dense (\u001b[38;5;33mDense\u001b[0m)                   │ (\u001b[38;5;45mNone\u001b[0m, \u001b[38;5;34m64\u001b[0m)             │         \u001b[38;5;34m8,256\u001b[0m │\n",
       "├─────────────────────────────────┼────────────────────────┼───────────────┤\n",
       "│ dropout (\u001b[38;5;33mDropout\u001b[0m)               │ (\u001b[38;5;45mNone\u001b[0m, \u001b[38;5;34m64\u001b[0m)             │             \u001b[38;5;34m0\u001b[0m │\n",
       "├─────────────────────────────────┼────────────────────────┼───────────────┤\n",
       "│ dense_1 (\u001b[38;5;33mDense\u001b[0m)                 │ (\u001b[38;5;45mNone\u001b[0m, \u001b[38;5;34m1\u001b[0m)              │            \u001b[38;5;34m65\u001b[0m │\n",
       "└─────────────────────────────────┴────────────────────────┴───────────────┘\n"
      ]
     },
     "metadata": {},
     "output_type": "display_data"
    },
    {
     "data": {
      "text/html": [
       "<pre style=\"white-space:pre;overflow-x:auto;line-height:normal;font-family:Menlo,'DejaVu Sans Mono',consolas,'Courier New',monospace\"><span style=\"font-weight: bold\"> Total params: </span><span style=\"color: #00af00; text-decoration-color: #00af00\">178,689</span> (698.00 KB)\n",
       "</pre>\n"
      ],
      "text/plain": [
       "\u001b[1m Total params: \u001b[0m\u001b[38;5;34m178,689\u001b[0m (698.00 KB)\n"
      ]
     },
     "metadata": {},
     "output_type": "display_data"
    },
    {
     "data": {
      "text/html": [
       "<pre style=\"white-space:pre;overflow-x:auto;line-height:normal;font-family:Menlo,'DejaVu Sans Mono',consolas,'Courier New',monospace\"><span style=\"font-weight: bold\"> Trainable params: </span><span style=\"color: #00af00; text-decoration-color: #00af00\">178,689</span> (698.00 KB)\n",
       "</pre>\n"
      ],
      "text/plain": [
       "\u001b[1m Trainable params: \u001b[0m\u001b[38;5;34m178,689\u001b[0m (698.00 KB)\n"
      ]
     },
     "metadata": {},
     "output_type": "display_data"
    },
    {
     "data": {
      "text/html": [
       "<pre style=\"white-space:pre;overflow-x:auto;line-height:normal;font-family:Menlo,'DejaVu Sans Mono',consolas,'Courier New',monospace\"><span style=\"font-weight: bold\"> Non-trainable params: </span><span style=\"color: #00af00; text-decoration-color: #00af00\">0</span> (0.00 B)\n",
       "</pre>\n"
      ],
      "text/plain": [
       "\u001b[1m Non-trainable params: \u001b[0m\u001b[38;5;34m0\u001b[0m (0.00 B)\n"
      ]
     },
     "metadata": {},
     "output_type": "display_data"
    }
   ],
   "source": [
    "model = create_model(use_soft_labels=False)\n",
    "model.summary()"
   ]
  },
  {
   "cell_type": "code",
   "execution_count": 14,
   "id": "9d8e4181-5e33-4ad4-a420-a6196c74ca39",
   "metadata": {},
   "outputs": [
    {
     "name": "stdout",
     "output_type": "stream",
     "text": [
      "Epoch 1/10\n",
      "32/32 - 3s - 94ms/step - accuracy: 0.5480 - loss: 0.6893\n",
      "Epoch 2/10\n",
      "32/32 - 1s - 16ms/step - accuracy: 0.5500 - loss: 0.6818\n",
      "Epoch 3/10\n",
      "32/32 - 1s - 16ms/step - accuracy: 0.6380 - loss: 0.6642\n",
      "Epoch 4/10\n",
      "32/32 - 0s - 15ms/step - accuracy: 0.6700 - loss: 0.6318\n",
      "Epoch 5/10\n",
      "32/32 - 0s - 16ms/step - accuracy: 0.7530 - loss: 0.5607\n",
      "Epoch 6/10\n",
      "32/32 - 1s - 18ms/step - accuracy: 0.8430 - loss: 0.4330\n",
      "Epoch 7/10\n",
      "32/32 - 0s - 15ms/step - accuracy: 0.9390 - loss: 0.2391\n",
      "Epoch 8/10\n",
      "32/32 - 1s - 22ms/step - accuracy: 0.9870 - loss: 0.0931\n",
      "Epoch 9/10\n",
      "32/32 - 1s - 17ms/step - accuracy: 0.9970 - loss: 0.0384\n",
      "Epoch 10/10\n",
      "32/32 - 1s - 16ms/step - accuracy: 1.0000 - loss: 0.0163\n"
     ]
    },
    {
     "data": {
      "text/plain": [
       "<keras.src.callbacks.history.History at 0x16e0953a0>"
      ]
     },
     "execution_count": 14,
     "metadata": {},
     "output_type": "execute_result"
    }
   ],
   "source": [
    "model.fit(train_text, hard_labels, epochs=10, verbose=2)"
   ]
  },
  {
   "cell_type": "code",
   "execution_count": 15,
   "id": "65eb6746-1d17-4098-b114-c5d55112923c",
   "metadata": {},
   "outputs": [
    {
     "name": "stdout",
     "output_type": "stream",
     "text": [
      "\u001b[1m12/12\u001b[0m \u001b[32m━━━━━━━━━━━━━━━━━━━━\u001b[0m\u001b[37m\u001b[0m \u001b[1m0s\u001b[0m 23ms/step\n",
      "                                                     text  hard_pred\n",
      "420001  before vd after facewithhandovermouth facewith...          1\n",
      "420002  editing him with this intro again because why ...          1\n",
      "420003  ni taylor en lo ilustró mejor listen to your s...          1\n",
      "420004  clean the previously detected text by removing...          0\n",
      "420005  my antidepressant my favorite mansplain was wh...          1\n",
      "...                                                   ...        ...\n",
      "420366  women will put anything on their faces for som...          1\n",
      "420367  good luck mayalu sending my best wishes for 46...          0\n",
      "420368  los hombres solo somos vistos como negocio par...          0\n",
      "420369         women today cuckoo thats sexual assault oh          1\n",
      "420370  shortcake shortcake shortcake they really said...          0\n",
      "\n",
      "[370 rows x 2 columns]\n"
     ]
    }
   ],
   "source": [
    "test_df = predict_text(model, test_df, label_mode='hard')\n",
    "print(test_df[['text', 'hard_pred']])"
   ]
  },
  {
   "cell_type": "code",
   "execution_count": 16,
   "id": "2b97839a-49fd-4cee-8755-8b58d8f386fc",
   "metadata": {},
   "outputs": [
    {
     "name": "stdout",
     "output_type": "stream",
     "text": [
      "Predictions saved to /Users/naranja/Desktop/EXIST/task_3_1/tweet_hard_predictions.csv\n"
     ]
    }
   ],
   "source": [
    "results = save_predictions_to_csv(test_df, output_file='/Users/naranja/Desktop/EXIST/task_3_1/tweet_hard_predictions.csv')"
   ]
  },
  {
   "cell_type": "code",
   "execution_count": 17,
   "id": "5844fa0f-07fa-441d-b8f7-7a0bc29c05e9",
   "metadata": {},
   "outputs": [
    {
     "data": {
      "text/html": [
       "<pre style=\"white-space:pre;overflow-x:auto;line-height:normal;font-family:Menlo,'DejaVu Sans Mono',consolas,'Courier New',monospace\"><span style=\"font-weight: bold\">Model: \"functional_1\"</span>\n",
       "</pre>\n"
      ],
      "text/plain": [
       "\u001b[1mModel: \"functional_1\"\u001b[0m\n"
      ]
     },
     "metadata": {},
     "output_type": "display_data"
    },
    {
     "data": {
      "text/html": [
       "<pre style=\"white-space:pre;overflow-x:auto;line-height:normal;font-family:Menlo,'DejaVu Sans Mono',consolas,'Courier New',monospace\">┏━━━━━━━━━━━━━━━━━━━━━━━━━━━━━━━━━┳━━━━━━━━━━━━━━━━━━━━━━━━┳━━━━━━━━━━━━━━━┓\n",
       "┃<span style=\"font-weight: bold\"> Layer (type)                    </span>┃<span style=\"font-weight: bold\"> Output Shape           </span>┃<span style=\"font-weight: bold\">       Param # </span>┃\n",
       "┡━━━━━━━━━━━━━━━━━━━━━━━━━━━━━━━━━╇━━━━━━━━━━━━━━━━━━━━━━━━╇━━━━━━━━━━━━━━━┩\n",
       "│ text_input (<span style=\"color: #0087ff; text-decoration-color: #0087ff\">InputLayer</span>)         │ (<span style=\"color: #00d7ff; text-decoration-color: #00d7ff\">None</span>)                 │             <span style=\"color: #00af00; text-decoration-color: #00af00\">0</span> │\n",
       "├─────────────────────────────────┼────────────────────────┼───────────────┤\n",
       "│ text_vectorization              │ (<span style=\"color: #00d7ff; text-decoration-color: #00d7ff\">None</span>, <span style=\"color: #00af00; text-decoration-color: #00af00\">100</span>)            │             <span style=\"color: #00af00; text-decoration-color: #00af00\">0</span> │\n",
       "│ (<span style=\"color: #0087ff; text-decoration-color: #0087ff\">TextVectorization</span>)             │                        │               │\n",
       "├─────────────────────────────────┼────────────────────────┼───────────────┤\n",
       "│ embedding_1 (<span style=\"color: #0087ff; text-decoration-color: #0087ff\">Embedding</span>)         │ (<span style=\"color: #00d7ff; text-decoration-color: #00d7ff\">None</span>, <span style=\"color: #00af00; text-decoration-color: #00af00\">100</span>, <span style=\"color: #00af00; text-decoration-color: #00af00\">16</span>)        │       <span style=\"color: #00af00; text-decoration-color: #00af00\">160,000</span> │\n",
       "├─────────────────────────────────┼────────────────────────┼───────────────┤\n",
       "│ conv1d_1 (<span style=\"color: #0087ff; text-decoration-color: #0087ff\">Conv1D</span>)               │ (<span style=\"color: #00d7ff; text-decoration-color: #00d7ff\">None</span>, <span style=\"color: #00af00; text-decoration-color: #00af00\">96</span>, <span style=\"color: #00af00; text-decoration-color: #00af00\">128</span>)        │        <span style=\"color: #00af00; text-decoration-color: #00af00\">10,368</span> │\n",
       "├─────────────────────────────────┼────────────────────────┼───────────────┤\n",
       "│ global_max_pooling1d_1          │ (<span style=\"color: #00d7ff; text-decoration-color: #00d7ff\">None</span>, <span style=\"color: #00af00; text-decoration-color: #00af00\">128</span>)            │             <span style=\"color: #00af00; text-decoration-color: #00af00\">0</span> │\n",
       "│ (<span style=\"color: #0087ff; text-decoration-color: #0087ff\">GlobalMaxPooling1D</span>)            │                        │               │\n",
       "├─────────────────────────────────┼────────────────────────┼───────────────┤\n",
       "│ dense_2 (<span style=\"color: #0087ff; text-decoration-color: #0087ff\">Dense</span>)                 │ (<span style=\"color: #00d7ff; text-decoration-color: #00d7ff\">None</span>, <span style=\"color: #00af00; text-decoration-color: #00af00\">64</span>)             │         <span style=\"color: #00af00; text-decoration-color: #00af00\">8,256</span> │\n",
       "├─────────────────────────────────┼────────────────────────┼───────────────┤\n",
       "│ dropout_1 (<span style=\"color: #0087ff; text-decoration-color: #0087ff\">Dropout</span>)             │ (<span style=\"color: #00d7ff; text-decoration-color: #00d7ff\">None</span>, <span style=\"color: #00af00; text-decoration-color: #00af00\">64</span>)             │             <span style=\"color: #00af00; text-decoration-color: #00af00\">0</span> │\n",
       "├─────────────────────────────────┼────────────────────────┼───────────────┤\n",
       "│ dense_3 (<span style=\"color: #0087ff; text-decoration-color: #0087ff\">Dense</span>)                 │ (<span style=\"color: #00d7ff; text-decoration-color: #00d7ff\">None</span>, <span style=\"color: #00af00; text-decoration-color: #00af00\">2</span>)              │           <span style=\"color: #00af00; text-decoration-color: #00af00\">130</span> │\n",
       "└─────────────────────────────────┴────────────────────────┴───────────────┘\n",
       "</pre>\n"
      ],
      "text/plain": [
       "┏━━━━━━━━━━━━━━━━━━━━━━━━━━━━━━━━━┳━━━━━━━━━━━━━━━━━━━━━━━━┳━━━━━━━━━━━━━━━┓\n",
       "┃\u001b[1m \u001b[0m\u001b[1mLayer (type)                   \u001b[0m\u001b[1m \u001b[0m┃\u001b[1m \u001b[0m\u001b[1mOutput Shape          \u001b[0m\u001b[1m \u001b[0m┃\u001b[1m \u001b[0m\u001b[1m      Param #\u001b[0m\u001b[1m \u001b[0m┃\n",
       "┡━━━━━━━━━━━━━━━━━━━━━━━━━━━━━━━━━╇━━━━━━━━━━━━━━━━━━━━━━━━╇━━━━━━━━━━━━━━━┩\n",
       "│ text_input (\u001b[38;5;33mInputLayer\u001b[0m)         │ (\u001b[38;5;45mNone\u001b[0m)                 │             \u001b[38;5;34m0\u001b[0m │\n",
       "├─────────────────────────────────┼────────────────────────┼───────────────┤\n",
       "│ text_vectorization              │ (\u001b[38;5;45mNone\u001b[0m, \u001b[38;5;34m100\u001b[0m)            │             \u001b[38;5;34m0\u001b[0m │\n",
       "│ (\u001b[38;5;33mTextVectorization\u001b[0m)             │                        │               │\n",
       "├─────────────────────────────────┼────────────────────────┼───────────────┤\n",
       "│ embedding_1 (\u001b[38;5;33mEmbedding\u001b[0m)         │ (\u001b[38;5;45mNone\u001b[0m, \u001b[38;5;34m100\u001b[0m, \u001b[38;5;34m16\u001b[0m)        │       \u001b[38;5;34m160,000\u001b[0m │\n",
       "├─────────────────────────────────┼────────────────────────┼───────────────┤\n",
       "│ conv1d_1 (\u001b[38;5;33mConv1D\u001b[0m)               │ (\u001b[38;5;45mNone\u001b[0m, \u001b[38;5;34m96\u001b[0m, \u001b[38;5;34m128\u001b[0m)        │        \u001b[38;5;34m10,368\u001b[0m │\n",
       "├─────────────────────────────────┼────────────────────────┼───────────────┤\n",
       "│ global_max_pooling1d_1          │ (\u001b[38;5;45mNone\u001b[0m, \u001b[38;5;34m128\u001b[0m)            │             \u001b[38;5;34m0\u001b[0m │\n",
       "│ (\u001b[38;5;33mGlobalMaxPooling1D\u001b[0m)            │                        │               │\n",
       "├─────────────────────────────────┼────────────────────────┼───────────────┤\n",
       "│ dense_2 (\u001b[38;5;33mDense\u001b[0m)                 │ (\u001b[38;5;45mNone\u001b[0m, \u001b[38;5;34m64\u001b[0m)             │         \u001b[38;5;34m8,256\u001b[0m │\n",
       "├─────────────────────────────────┼────────────────────────┼───────────────┤\n",
       "│ dropout_1 (\u001b[38;5;33mDropout\u001b[0m)             │ (\u001b[38;5;45mNone\u001b[0m, \u001b[38;5;34m64\u001b[0m)             │             \u001b[38;5;34m0\u001b[0m │\n",
       "├─────────────────────────────────┼────────────────────────┼───────────────┤\n",
       "│ dense_3 (\u001b[38;5;33mDense\u001b[0m)                 │ (\u001b[38;5;45mNone\u001b[0m, \u001b[38;5;34m2\u001b[0m)              │           \u001b[38;5;34m130\u001b[0m │\n",
       "└─────────────────────────────────┴────────────────────────┴───────────────┘\n"
      ]
     },
     "metadata": {},
     "output_type": "display_data"
    },
    {
     "data": {
      "text/html": [
       "<pre style=\"white-space:pre;overflow-x:auto;line-height:normal;font-family:Menlo,'DejaVu Sans Mono',consolas,'Courier New',monospace\"><span style=\"font-weight: bold\"> Total params: </span><span style=\"color: #00af00; text-decoration-color: #00af00\">178,754</span> (698.26 KB)\n",
       "</pre>\n"
      ],
      "text/plain": [
       "\u001b[1m Total params: \u001b[0m\u001b[38;5;34m178,754\u001b[0m (698.26 KB)\n"
      ]
     },
     "metadata": {},
     "output_type": "display_data"
    },
    {
     "data": {
      "text/html": [
       "<pre style=\"white-space:pre;overflow-x:auto;line-height:normal;font-family:Menlo,'DejaVu Sans Mono',consolas,'Courier New',monospace\"><span style=\"font-weight: bold\"> Trainable params: </span><span style=\"color: #00af00; text-decoration-color: #00af00\">178,754</span> (698.26 KB)\n",
       "</pre>\n"
      ],
      "text/plain": [
       "\u001b[1m Trainable params: \u001b[0m\u001b[38;5;34m178,754\u001b[0m (698.26 KB)\n"
      ]
     },
     "metadata": {},
     "output_type": "display_data"
    },
    {
     "data": {
      "text/html": [
       "<pre style=\"white-space:pre;overflow-x:auto;line-height:normal;font-family:Menlo,'DejaVu Sans Mono',consolas,'Courier New',monospace\"><span style=\"font-weight: bold\"> Non-trainable params: </span><span style=\"color: #00af00; text-decoration-color: #00af00\">0</span> (0.00 B)\n",
       "</pre>\n"
      ],
      "text/plain": [
       "\u001b[1m Non-trainable params: \u001b[0m\u001b[38;5;34m0\u001b[0m (0.00 B)\n"
      ]
     },
     "metadata": {},
     "output_type": "display_data"
    }
   ],
   "source": [
    "model_soft = create_model(use_soft_labels=True)\n",
    "model_soft.summary()"
   ]
  },
  {
   "cell_type": "code",
   "execution_count": 18,
   "id": "9d0eee2c-3905-4ac3-a8a9-8807c1591ad5",
   "metadata": {},
   "outputs": [
    {
     "name": "stdout",
     "output_type": "stream",
     "text": [
      "Epoch 1/10\n",
      "32/32 - 3s - 90ms/step - accuracy: 0.5370 - loss: 0.6899\n",
      "Epoch 2/10\n",
      "32/32 - 0s - 14ms/step - accuracy: 0.5860 - loss: 0.6775\n",
      "Epoch 3/10\n",
      "32/32 - 0s - 14ms/step - accuracy: 0.6430 - loss: 0.6471\n",
      "Epoch 4/10\n",
      "32/32 - 0s - 14ms/step - accuracy: 0.7320 - loss: 0.5819\n",
      "Epoch 5/10\n",
      "32/32 - 0s - 14ms/step - accuracy: 0.8120 - loss: 0.5077\n",
      "Epoch 6/10\n",
      "32/32 - 0s - 14ms/step - accuracy: 0.8740 - loss: 0.3962\n",
      "Epoch 7/10\n",
      "32/32 - 1s - 17ms/step - accuracy: 0.9440 - loss: 0.2934\n",
      "Epoch 8/10\n",
      "32/32 - 1s - 18ms/step - accuracy: 0.9390 - loss: 0.2336\n",
      "Epoch 9/10\n",
      "32/32 - 1s - 17ms/step - accuracy: 0.9570 - loss: 0.2171\n",
      "Epoch 10/10\n",
      "32/32 - 1s - 24ms/step - accuracy: 0.9450 - loss: 0.2087\n"
     ]
    },
    {
     "data": {
      "text/plain": [
       "<keras.src.callbacks.history.History at 0x16e97f200>"
      ]
     },
     "execution_count": 18,
     "metadata": {},
     "output_type": "execute_result"
    }
   ],
   "source": [
    "model_soft.fit(train_text, train_soft_labels, epochs=10, verbose=2)"
   ]
  },
  {
   "cell_type": "code",
   "execution_count": 19,
   "id": "070e84d6-5b88-4935-83df-e9679a5c8b72",
   "metadata": {},
   "outputs": [
    {
     "name": "stdout",
     "output_type": "stream",
     "text": [
      "\u001b[1m12/12\u001b[0m \u001b[32m━━━━━━━━━━━━━━━━━━━━\u001b[0m\u001b[37m\u001b[0m \u001b[1m0s\u001b[0m 23ms/step\n",
      "                                                     text  \\\n",
      "420001  before vd after facewithhandovermouth facewith...   \n",
      "420002  editing him with this intro again because why ...   \n",
      "420003  ni taylor en lo ilustró mejor listen to your s...   \n",
      "420004  clean the previously detected text by removing...   \n",
      "420005  my antidepressant my favorite mansplain was wh...   \n",
      "...                                                   ...   \n",
      "420366  women will put anything on their faces for som...   \n",
      "420367  good luck mayalu sending my best wishes for 46...   \n",
      "420368  los hombres solo somos vistos como negocio par...   \n",
      "420369         women today cuckoo thats sexual assault oh   \n",
      "420370  shortcake shortcake shortcake they really said...   \n",
      "\n",
      "                                         soft_pred  \n",
      "420001   [0.7609937787055969, 0.23900610208511353]  \n",
      "420002   [0.32735002040863037, 0.6726500391960144]  \n",
      "420003     [0.251526802778244, 0.7484732270240784]  \n",
      "420004  [0.045042939484119415, 0.9549569487571716]  \n",
      "420005   [0.26837220788002014, 0.7316277027130127]  \n",
      "...                                            ...  \n",
      "420366    [0.8988538384437561, 0.1011461615562439]  \n",
      "420367  [0.053883861750364304, 0.9461161494255066]  \n",
      "420368   [0.16324010491371155, 0.8367598652839661]  \n",
      "420369   [0.5010600090026855, 0.49894005060195923]  \n",
      "420370    [0.07494688034057617, 0.925053060054779]  \n",
      "\n",
      "[370 rows x 2 columns]\n"
     ]
    }
   ],
   "source": [
    "test_df = predict_text(model_soft, test_df, label_mode='soft')\n",
    "print(test_df[['text', 'soft_pred']])"
   ]
  },
  {
   "cell_type": "code",
   "execution_count": 20,
   "id": "102b0786-433a-487b-8daa-4dd153e8bca1",
   "metadata": {},
   "outputs": [
    {
     "name": "stdout",
     "output_type": "stream",
     "text": [
      "Predictions saved to /Users/naranja/Desktop/EXIST/task_3_1/tweet_soft_predictions.csv\n"
     ]
    }
   ],
   "source": [
    "results = save_predictions_to_csv(test_df, output_file='/Users/naranja/Desktop/EXIST/task_3_1/tweet_soft_predictions.csv')"
   ]
  },
  {
   "cell_type": "code",
   "execution_count": 21,
   "id": "27cf8aba-f925-4285-acf8-63b538357302",
   "metadata": {},
   "outputs": [],
   "source": [
    "####################################################################################################################################"
   ]
  },
  {
   "cell_type": "code",
   "execution_count": 22,
   "id": "a3c4d544-e7c7-456b-b6ba-416fa8b9e0de",
   "metadata": {},
   "outputs": [],
   "source": [
    "#####################################        MULTI_CLASS TEXT CLASSIFICATION          ##############################################"
   ]
  },
  {
   "cell_type": "code",
   "execution_count": 23,
   "id": "3244f654-95b6-4b37-b200-6d4d5563c73a",
   "metadata": {},
   "outputs": [],
   "source": [
    "####################################################################################################################################"
   ]
  },
  {
   "cell_type": "code",
   "execution_count": 24,
   "id": "a85fab71-30b8-483a-bed2-759778bcc881",
   "metadata": {},
   "outputs": [
    {
     "data": {
      "text/plain": [
       "4"
      ]
     },
     "execution_count": 24,
     "metadata": {},
     "output_type": "execute_result"
    }
   ],
   "source": [
    "from sklearn.preprocessing import LabelEncoder\n",
    "\n",
    "all_labels = ['-', 'DIRECT', 'JUDGEMENTAL', 'UNKNOWN']\n",
    "label_encoder = LabelEncoder()\n",
    "label_encoder.fit(all_labels)\n",
    "num_classes = len(all_labels)\n",
    "num_classes"
   ]
  },
  {
   "cell_type": "code",
   "execution_count": 25,
   "id": "2c36c520-c5f5-453b-89f0-471a954511ff",
   "metadata": {},
   "outputs": [],
   "source": [
    "def get_majority_label(label_list):\n",
    "    return max(set(label_list), key=label_list.count)\n",
    "\n",
    "train_df['labels_task3_2_hard'] = train_df['labels_task3_2'].apply(get_majority_label)\n",
    "train_df['hard_label_encoded'] = label_encoder.transform(train_df['labels_task3_2_hard'])"
   ]
  },
  {
   "cell_type": "code",
   "execution_count": 26,
   "id": "0f1d8a9e-d76c-4de0-bea5-d0c3aece5295",
   "metadata": {},
   "outputs": [],
   "source": [
    "def get_soft_label(label_list):\n",
    "    counts = np.zeros(num_classes)\n",
    "    valid_labels = [label for label in label_list if label in all_labels]  # exclude 'UNKNOWN' or others\n",
    "    if not valid_labels:\n",
    "        return counts  # or you can return uniform distribution if preferred\n",
    "    for label in valid_labels:\n",
    "        idx = label_encoder.transform([label])[0]\n",
    "        counts[idx] += 1\n",
    "    return counts / len(valid_labels)\n",
    "\n",
    "train_df['soft_label'] = train_df['labels_task3_2'].apply(get_soft_label)"
   ]
  },
  {
   "cell_type": "code",
   "execution_count": 27,
   "id": "5c8de02a-1547-4339-979b-2c27df13dbdc",
   "metadata": {},
   "outputs": [],
   "source": [
    "import pandas as pd\n",
    "\n",
    "def get_yes_predictions_df(csv_path):\n",
    "    # Load CSV\n",
    "    df = pd.read_csv(csv_path)\n",
    "    filtered_df = df['id']\n",
    "    # Normalize 'Prediction' column (strip spaces and lowercase)\n",
    "    df['Prediction'] = df['Prediction'].astype(str).str.strip().str.lower()\n",
    "    \n",
    "    # Filter for rows where prediction is 'yes'\n",
    "    filtered_df = df[df['Prediction'] == 'yes']\n",
    "    \n",
    "    # Optional: restore original case in 'Prediction' if needed\n",
    "    filtered_df['Prediction'] = 'Yes'\n",
    "    \n",
    "    return filtered_df[['id', 'text', 'Prediction']]"
   ]
  },
  {
   "cell_type": "code",
   "execution_count": 28,
   "id": "129ae5c4-59cc-4466-aba1-cb84ede3c636",
   "metadata": {},
   "outputs": [],
   "source": [
    "csv_file_train = '/Users/naranja/Desktop/EXIST/task_3_2/training.csv'\n",
    "csv_file_test = '/Users/naranja/Desktop/EXIST/task_3_2/test.csv'\n",
    "train_df.to_csv(csv_file_train, index=False)\n",
    "test_df.to_csv(csv_file_test, index=False)"
   ]
  },
  {
   "cell_type": "code",
   "execution_count": 29,
   "id": "d9ed802a-6e57-46dd-b028-8d681b455058",
   "metadata": {},
   "outputs": [],
   "source": [
    "train_text = train_df['text'].astype(str).to_numpy()\n",
    "hard_labels = train_df['hard_label_encoded'].astype('int32').to_numpy()\n",
    "soft_labels = np.stack(train_df['soft_label'].to_numpy()).astype(np.float32)"
   ]
  },
  {
   "cell_type": "code",
   "execution_count": 30,
   "id": "1612b507-89c8-4b6b-b514-ce7583e57910",
   "metadata": {},
   "outputs": [],
   "source": [
    "tokenizer = Tokenizer(num_words=1000, oov_token=\"<OOV>\")\n",
    "tokenizer.fit_on_texts(train_df['text'])"
   ]
  },
  {
   "cell_type": "code",
   "execution_count": 31,
   "id": "7b4811d2-51f9-42dd-a06c-7f0c6d49f422",
   "metadata": {},
   "outputs": [
    {
     "name": "stderr",
     "output_type": "stream",
     "text": [
      "/var/folders/_h/hm7x1kqd4955mvw_gq9y710r0000gn/T/ipykernel_24842/1196900292.py:14: SettingWithCopyWarning: \n",
      "A value is trying to be set on a copy of a slice from a DataFrame.\n",
      "Try using .loc[row_indexer,col_indexer] = value instead\n",
      "\n",
      "See the caveats in the documentation: https://pandas.pydata.org/pandas-docs/stable/user_guide/indexing.html#returning-a-view-versus-a-copy\n",
      "  filtered_df['Prediction'] = 'Yes'\n",
      "/var/folders/_h/hm7x1kqd4955mvw_gq9y710r0000gn/T/ipykernel_24842/1196900292.py:14: SettingWithCopyWarning: \n",
      "A value is trying to be set on a copy of a slice from a DataFrame.\n",
      "Try using .loc[row_indexer,col_indexer] = value instead\n",
      "\n",
      "See the caveats in the documentation: https://pandas.pydata.org/pandas-docs/stable/user_guide/indexing.html#returning-a-view-versus-a-copy\n",
      "  filtered_df['Prediction'] = 'Yes'\n"
     ]
    }
   ],
   "source": [
    "yes_hard_df = get_yes_predictions_df('/Users/naranja/Desktop/EXIST/task_3_1/tweet_hard_predictions.csv')\n",
    "yes_soft_df = get_yes_predictions_df('/Users/naranja/Desktop/EXIST/task_3_1/tweet_soft_predictions.csv')"
   ]
  },
  {
   "cell_type": "code",
   "execution_count": 32,
   "id": "af701223-e8c0-4bb6-961e-2a996dba81aa",
   "metadata": {},
   "outputs": [],
   "source": [
    "train_sequences = tokenizer.texts_to_sequences(train_df['text'])\n",
    "test_hard_sequences = tokenizer.texts_to_sequences(yes_hard_df['text'])\n",
    "test_soft_sequences = tokenizer.texts_to_sequences(yes_soft_df['text'])"
   ]
  },
  {
   "cell_type": "code",
   "execution_count": 33,
   "id": "40abb279-7378-45fa-bcd6-052a22945674",
   "metadata": {},
   "outputs": [],
   "source": [
    "maxlen = max(len(seq) for seq in train_sequences)\n",
    "train_padded = pad_sequences(train_sequences, padding='post', maxlen=maxlen)\n",
    "test_hard_padded = pad_sequences(test_hard_sequences, padding='post', maxlen=maxlen)\n",
    "test_soft_padded = pad_sequences(test_soft_sequences, padding='post', maxlen=maxlen)"
   ]
  },
  {
   "cell_type": "code",
   "execution_count": 34,
   "id": "2c03a5bc-3383-4afa-9a7b-c94fc7a0c7ba",
   "metadata": {},
   "outputs": [],
   "source": [
    "y_train_hard = tf.keras.utils.to_categorical(train_df['hard_label_encoded'], num_classes=num_classes)\n",
    "y_train_soft = np.stack(train_df['soft_label'].values)"
   ]
  },
  {
   "cell_type": "code",
   "execution_count": 35,
   "id": "a5275167-ff74-4ece-ae37-4a112886cfbc",
   "metadata": {},
   "outputs": [],
   "source": [
    "def create_model():\n",
    "    model = tf.keras.Sequential([\n",
    "        tf.keras.layers.Embedding(input_dim=1000, output_dim=16, input_length=maxlen),\n",
    "        tf.keras.layers.GlobalAveragePooling1D(),\n",
    "        tf.keras.layers.Dense(24, activation='relu'),\n",
    "        tf.keras.layers.Dense(num_classes, activation='softmax')\n",
    "    ])\n",
    "    model.compile(loss='categorical_crossentropy', optimizer='adam', metrics=['accuracy'])\n",
    "    \n",
    "    return model"
   ]
  },
  {
   "cell_type": "code",
   "execution_count": 36,
   "id": "51dba070-3fc7-4726-86c2-c5d4f8b3c2c3",
   "metadata": {},
   "outputs": [
    {
     "name": "stdout",
     "output_type": "stream",
     "text": [
      "Training model with hard label supervision...\n",
      "Epoch 1/20\n"
     ]
    },
    {
     "name": "stderr",
     "output_type": "stream",
     "text": [
      "/Users/naranja/opt/anaconda3/lib/python3.12/site-packages/keras/src/layers/core/embedding.py:90: UserWarning: Argument `input_length` is deprecated. Just remove it.\n",
      "  warnings.warn(\n"
     ]
    },
    {
     "name": "stdout",
     "output_type": "stream",
     "text": [
      "\u001b[1m32/32\u001b[0m \u001b[32m━━━━━━━━━━━━━━━━━━━━\u001b[0m\u001b[37m\u001b[0m \u001b[1m3s\u001b[0m 8ms/step - accuracy: 0.4588 - loss: 1.1707\n",
      "Epoch 2/20\n",
      "\u001b[1m32/32\u001b[0m \u001b[32m━━━━━━━━━━━━━━━━━━━━\u001b[0m\u001b[37m\u001b[0m \u001b[1m0s\u001b[0m 8ms/step - accuracy: 0.5650 - loss: 0.9909\n",
      "Epoch 3/20\n",
      "\u001b[1m32/32\u001b[0m \u001b[32m━━━━━━━━━━━━━━━━━━━━\u001b[0m\u001b[37m\u001b[0m \u001b[1m0s\u001b[0m 7ms/step - accuracy: 0.5428 - loss: 1.0137\n",
      "Epoch 4/20\n",
      "\u001b[1m32/32\u001b[0m \u001b[32m━━━━━━━━━━━━━━━━━━━━\u001b[0m\u001b[37m\u001b[0m \u001b[1m0s\u001b[0m 6ms/step - accuracy: 0.5744 - loss: 0.9694\n",
      "Epoch 5/20\n",
      "\u001b[1m32/32\u001b[0m \u001b[32m━━━━━━━━━━━━━━━━━━━━\u001b[0m\u001b[37m\u001b[0m \u001b[1m0s\u001b[0m 7ms/step - accuracy: 0.5418 - loss: 0.9979\n",
      "Epoch 6/20\n",
      "\u001b[1m32/32\u001b[0m \u001b[32m━━━━━━━━━━━━━━━━━━━━\u001b[0m\u001b[37m\u001b[0m \u001b[1m0s\u001b[0m 6ms/step - accuracy: 0.5592 - loss: 0.9852\n",
      "Epoch 7/20\n",
      "\u001b[1m32/32\u001b[0m \u001b[32m━━━━━━━━━━━━━━━━━━━━\u001b[0m\u001b[37m\u001b[0m \u001b[1m0s\u001b[0m 7ms/step - accuracy: 0.5404 - loss: 0.9992\n",
      "Epoch 8/20\n",
      "\u001b[1m32/32\u001b[0m \u001b[32m━━━━━━━━━━━━━━━━━━━━\u001b[0m\u001b[37m\u001b[0m \u001b[1m0s\u001b[0m 6ms/step - accuracy: 0.5638 - loss: 0.9873\n",
      "Epoch 9/20\n",
      "\u001b[1m32/32\u001b[0m \u001b[32m━━━━━━━━━━━━━━━━━━━━\u001b[0m\u001b[37m\u001b[0m \u001b[1m0s\u001b[0m 7ms/step - accuracy: 0.5380 - loss: 1.0116\n",
      "Epoch 10/20\n",
      "\u001b[1m32/32\u001b[0m \u001b[32m━━━━━━━━━━━━━━━━━━━━\u001b[0m\u001b[37m\u001b[0m \u001b[1m0s\u001b[0m 9ms/step - accuracy: 0.5733 - loss: 0.9681\n",
      "Epoch 11/20\n",
      "\u001b[1m32/32\u001b[0m \u001b[32m━━━━━━━━━━━━━━━━━━━━\u001b[0m\u001b[37m\u001b[0m \u001b[1m1s\u001b[0m 6ms/step - accuracy: 0.5460 - loss: 0.9841\n",
      "Epoch 12/20\n",
      "\u001b[1m32/32\u001b[0m \u001b[32m━━━━━━━━━━━━━━━━━━━━\u001b[0m\u001b[37m\u001b[0m \u001b[1m0s\u001b[0m 6ms/step - accuracy: 0.5823 - loss: 0.9486\n",
      "Epoch 13/20\n",
      "\u001b[1m32/32\u001b[0m \u001b[32m━━━━━━━━━━━━━━━━━━━━\u001b[0m\u001b[37m\u001b[0m \u001b[1m0s\u001b[0m 7ms/step - accuracy: 0.5764 - loss: 0.9606\n",
      "Epoch 14/20\n",
      "\u001b[1m32/32\u001b[0m \u001b[32m━━━━━━━━━━━━━━━━━━━━\u001b[0m\u001b[37m\u001b[0m \u001b[1m0s\u001b[0m 7ms/step - accuracy: 0.5717 - loss: 0.9709\n",
      "Epoch 15/20\n",
      "\u001b[1m32/32\u001b[0m \u001b[32m━━━━━━━━━━━━━━━━━━━━\u001b[0m\u001b[37m\u001b[0m \u001b[1m0s\u001b[0m 12ms/step - accuracy: 0.5695 - loss: 0.9604\n",
      "Epoch 16/20\n",
      "\u001b[1m32/32\u001b[0m \u001b[32m━━━━━━━━━━━━━━━━━━━━\u001b[0m\u001b[37m\u001b[0m \u001b[1m0s\u001b[0m 6ms/step - accuracy: 0.5595 - loss: 0.9647\n",
      "Epoch 17/20\n",
      "\u001b[1m32/32\u001b[0m \u001b[32m━━━━━━━━━━━━━━━━━━━━\u001b[0m\u001b[37m\u001b[0m \u001b[1m0s\u001b[0m 6ms/step - accuracy: 0.5586 - loss: 0.9655\n",
      "Epoch 18/20\n",
      "\u001b[1m32/32\u001b[0m \u001b[32m━━━━━━━━━━━━━━━━━━━━\u001b[0m\u001b[37m\u001b[0m \u001b[1m0s\u001b[0m 8ms/step - accuracy: 0.5687 - loss: 0.9524\n",
      "Epoch 19/20\n",
      "\u001b[1m32/32\u001b[0m \u001b[32m━━━━━━━━━━━━━━━━━━━━\u001b[0m\u001b[37m\u001b[0m \u001b[1m0s\u001b[0m 8ms/step - accuracy: 0.5878 - loss: 0.9479\n",
      "Epoch 20/20\n",
      "\u001b[1m32/32\u001b[0m \u001b[32m━━━━━━━━━━━━━━━━━━━━\u001b[0m\u001b[37m\u001b[0m \u001b[1m0s\u001b[0m 8ms/step - accuracy: 0.5781 - loss: 0.9461\n"
     ]
    },
    {
     "data": {
      "text/plain": [
       "<keras.src.callbacks.history.History at 0x16ee06060>"
      ]
     },
     "execution_count": 36,
     "metadata": {},
     "output_type": "execute_result"
    }
   ],
   "source": [
    "model = create_model()\n",
    "print(\"Training model with hard label supervision...\")\n",
    "model.fit(train_padded, y_train_hard, epochs=20)"
   ]
  },
  {
   "cell_type": "code",
   "execution_count": 37,
   "id": "f495b666-47c0-48fc-86b6-598a121318cc",
   "metadata": {},
   "outputs": [
    {
     "name": "stdout",
     "output_type": "stream",
     "text": [
      "\u001b[1m5/5\u001b[0m \u001b[32m━━━━━━━━━━━━━━━━━━━━\u001b[0m\u001b[37m\u001b[0m \u001b[1m0s\u001b[0m 34ms/step\n"
     ]
    }
   ],
   "source": [
    "predictions = model.predict(test_hard_padded)"
   ]
  },
  {
   "cell_type": "code",
   "execution_count": 38,
   "id": "350d849a-3c6b-413a-b7cc-a5528087ca7f",
   "metadata": {},
   "outputs": [
    {
     "name": "stdout",
     "output_type": "stream",
     "text": [
      "                                                  text predicted_hard_label\n",
      "0    before vd after facewithhandovermouth facewith...                    -\n",
      "1    editing him with this intro again because why ...                    -\n",
      "2    ni taylor en lo ilustró mejor listen to your s...                    -\n",
      "4    my antidepressant my favorite mansplain was wh...                    -\n",
      "10   text clean the previously detected text by rem...                    -\n",
      "..                                                 ...                  ...\n",
      "355  redheart flexedbiceps flexedbiceps clean the p...                    -\n",
      "360  women and men are both equally capable and int...                    -\n",
      "361  she’s not a gold digger she’s a wife facewitht...                    -\n",
      "365  women will put anything on their faces for som...                    -\n",
      "368         women today cuckoo thats sexual assault oh                    -\n",
      "\n",
      "[145 rows x 2 columns]\n"
     ]
    }
   ],
   "source": [
    "# === 9. Convert Predictions to Class Labels ===\n",
    "yes_hard_df['predicted_hard_label'] = label_encoder.inverse_transform(np.argmax(predictions, axis=1))\n",
    "yes_hard_df['predicted_hard_distribution'] = predictions.tolist()\n",
    "\n",
    "# === 10. View Results ===\n",
    "print(yes_hard_df[['text', 'predicted_hard_label']])"
   ]
  },
  {
   "cell_type": "code",
   "execution_count": 39,
   "id": "b88aee85-93da-41b3-afa9-e25096b936d1",
   "metadata": {},
   "outputs": [
    {
     "name": "stdout",
     "output_type": "stream",
     "text": [
      "Training model with soft label supervision...\n",
      "Epoch 1/20\n"
     ]
    },
    {
     "name": "stderr",
     "output_type": "stream",
     "text": [
      "/Users/naranja/opt/anaconda3/lib/python3.12/site-packages/keras/src/layers/core/embedding.py:90: UserWarning: Argument `input_length` is deprecated. Just remove it.\n",
      "  warnings.warn(\n"
     ]
    },
    {
     "name": "stdout",
     "output_type": "stream",
     "text": [
      "\u001b[1m32/32\u001b[0m \u001b[32m━━━━━━━━━━━━━━━━━━━━\u001b[0m\u001b[37m\u001b[0m \u001b[1m2s\u001b[0m 7ms/step - accuracy: 0.4953 - loss: 1.2047\n",
      "Epoch 2/20\n",
      "\u001b[1m32/32\u001b[0m \u001b[32m━━━━━━━━━━━━━━━━━━━━\u001b[0m\u001b[37m\u001b[0m \u001b[1m0s\u001b[0m 6ms/step - accuracy: 0.5601 - loss: 1.0551\n",
      "Epoch 3/20\n",
      "\u001b[1m32/32\u001b[0m \u001b[32m━━━━━━━━━━━━━━━━━━━━\u001b[0m\u001b[37m\u001b[0m \u001b[1m0s\u001b[0m 6ms/step - accuracy: 0.5475 - loss: 1.0613\n",
      "Epoch 4/20\n",
      "\u001b[1m32/32\u001b[0m \u001b[32m━━━━━━━━━━━━━━━━━━━━\u001b[0m\u001b[37m\u001b[0m \u001b[1m0s\u001b[0m 7ms/step - accuracy: 0.5645 - loss: 1.0489\n",
      "Epoch 5/20\n",
      "\u001b[1m32/32\u001b[0m \u001b[32m━━━━━━━━━━━━━━━━━━━━\u001b[0m\u001b[37m\u001b[0m \u001b[1m0s\u001b[0m 6ms/step - accuracy: 0.5786 - loss: 1.0374\n",
      "Epoch 6/20\n",
      "\u001b[1m32/32\u001b[0m \u001b[32m━━━━━━━━━━━━━━━━━━━━\u001b[0m\u001b[37m\u001b[0m \u001b[1m0s\u001b[0m 6ms/step - accuracy: 0.5456 - loss: 1.0473\n",
      "Epoch 7/20\n",
      "\u001b[1m32/32\u001b[0m \u001b[32m━━━━━━━━━━━━━━━━━━━━\u001b[0m\u001b[37m\u001b[0m \u001b[1m0s\u001b[0m 6ms/step - accuracy: 0.5720 - loss: 1.0516\n",
      "Epoch 8/20\n",
      "\u001b[1m32/32\u001b[0m \u001b[32m━━━━━━━━━━━━━━━━━━━━\u001b[0m\u001b[37m\u001b[0m \u001b[1m0s\u001b[0m 6ms/step - accuracy: 0.5594 - loss: 1.0445\n",
      "Epoch 9/20\n",
      "\u001b[1m32/32\u001b[0m \u001b[32m━━━━━━━━━━━━━━━━━━━━\u001b[0m\u001b[37m\u001b[0m \u001b[1m0s\u001b[0m 6ms/step - accuracy: 0.5801 - loss: 1.0338\n",
      "Epoch 10/20\n",
      "\u001b[1m32/32\u001b[0m \u001b[32m━━━━━━━━━━━━━━━━━━━━\u001b[0m\u001b[37m\u001b[0m \u001b[1m0s\u001b[0m 6ms/step - accuracy: 0.5818 - loss: 1.0257\n",
      "Epoch 11/20\n",
      "\u001b[1m32/32\u001b[0m \u001b[32m━━━━━━━━━━━━━━━━━━━━\u001b[0m\u001b[37m\u001b[0m \u001b[1m0s\u001b[0m 7ms/step - accuracy: 0.5740 - loss: 1.0341\n",
      "Epoch 12/20\n",
      "\u001b[1m32/32\u001b[0m \u001b[32m━━━━━━━━━━━━━━━━━━━━\u001b[0m\u001b[37m\u001b[0m \u001b[1m0s\u001b[0m 8ms/step - accuracy: 0.5750 - loss: 1.0229\n",
      "Epoch 13/20\n",
      "\u001b[1m32/32\u001b[0m \u001b[32m━━━━━━━━━━━━━━━━━━━━\u001b[0m\u001b[37m\u001b[0m \u001b[1m0s\u001b[0m 9ms/step - accuracy: 0.5532 - loss: 1.0452\n",
      "Epoch 14/20\n",
      "\u001b[1m32/32\u001b[0m \u001b[32m━━━━━━━━━━━━━━━━━━━━\u001b[0m\u001b[37m\u001b[0m \u001b[1m0s\u001b[0m 10ms/step - accuracy: 0.5897 - loss: 1.0125\n",
      "Epoch 15/20\n",
      "\u001b[1m32/32\u001b[0m \u001b[32m━━━━━━━━━━━━━━━━━━━━\u001b[0m\u001b[37m\u001b[0m \u001b[1m0s\u001b[0m 8ms/step - accuracy: 0.5644 - loss: 1.0195\n",
      "Epoch 16/20\n",
      "\u001b[1m32/32\u001b[0m \u001b[32m━━━━━━━━━━━━━━━━━━━━\u001b[0m\u001b[37m\u001b[0m \u001b[1m0s\u001b[0m 11ms/step - accuracy: 0.6162 - loss: 0.9923\n",
      "Epoch 17/20\n",
      "\u001b[1m32/32\u001b[0m \u001b[32m━━━━━━━━━━━━━━━━━━━━\u001b[0m\u001b[37m\u001b[0m \u001b[1m0s\u001b[0m 7ms/step - accuracy: 0.5636 - loss: 1.0053\n",
      "Epoch 18/20\n",
      "\u001b[1m32/32\u001b[0m \u001b[32m━━━━━━━━━━━━━━━━━━━━\u001b[0m\u001b[37m\u001b[0m \u001b[1m0s\u001b[0m 7ms/step - accuracy: 0.5949 - loss: 1.0087\n",
      "Epoch 19/20\n",
      "\u001b[1m32/32\u001b[0m \u001b[32m━━━━━━━━━━━━━━━━━━━━\u001b[0m\u001b[37m\u001b[0m \u001b[1m0s\u001b[0m 6ms/step - accuracy: 0.5680 - loss: 1.0135\n",
      "Epoch 20/20\n",
      "\u001b[1m32/32\u001b[0m \u001b[32m━━━━━━━━━━━━━━━━━━━━\u001b[0m\u001b[37m\u001b[0m \u001b[1m0s\u001b[0m 6ms/step - accuracy: 0.5753 - loss: 1.0184\n"
     ]
    },
    {
     "data": {
      "text/plain": [
       "<keras.src.callbacks.history.History at 0x16ecaa6c0>"
      ]
     },
     "execution_count": 39,
     "metadata": {},
     "output_type": "execute_result"
    }
   ],
   "source": [
    "model = create_model()\n",
    "print(\"Training model with soft label supervision...\")\n",
    "model.fit(train_padded, y_train_soft, epochs=20)"
   ]
  },
  {
   "cell_type": "code",
   "execution_count": 40,
   "id": "20e59438-3c3f-47db-93cc-f0db323651fd",
   "metadata": {},
   "outputs": [
    {
     "name": "stdout",
     "output_type": "stream",
     "text": [
      "WARNING:tensorflow:5 out of the last 18 calls to <function TensorFlowTrainer.make_predict_function.<locals>.one_step_on_data_distributed at 0x16f2ce340> triggered tf.function retracing. Tracing is expensive and the excessive number of tracings could be due to (1) creating @tf.function repeatedly in a loop, (2) passing tensors with different shapes, (3) passing Python objects instead of tensors. For (1), please define your @tf.function outside of the loop. For (2), @tf.function has reduce_retracing=True option that can avoid unnecessary retracing. For (3), please refer to https://www.tensorflow.org/guide/function#controlling_retracing and https://www.tensorflow.org/api_docs/python/tf/function for  more details.\n",
      "\u001b[1m8/8\u001b[0m \u001b[32m━━━━━━━━━━━━━━━━━━━━\u001b[0m\u001b[37m\u001b[0m \u001b[1m0s\u001b[0m 19ms/step\n"
     ]
    }
   ],
   "source": [
    "predictions = model.predict(test_soft_padded)"
   ]
  },
  {
   "cell_type": "code",
   "execution_count": 41,
   "id": "eea7e333-7617-4f6d-92ec-0eaa51818fce",
   "metadata": {},
   "outputs": [
    {
     "name": "stdout",
     "output_type": "stream",
     "text": [
      "                                                  text predicted_soft_label\n",
      "1    editing him with this intro again because why ...                    -\n",
      "2    ni taylor en lo ilustró mejor listen to your s...                    -\n",
      "3    clean the previously detected text by removing...                    -\n",
      "4    my antidepressant my favorite mansplain was wh...          JUDGEMENTAL\n",
      "5    after he told me how people used to treat him ...                    -\n",
      "..                                                 ...                  ...\n",
      "362  my husband left me after i was injured he said...                    -\n",
      "364  when arguing with a woman okay listen yo im li...                    -\n",
      "366  good luck mayalu sending my best wishes for 46...                    -\n",
      "367  los hombres solo somos vistos como negocio par...                    -\n",
      "369  shortcake shortcake shortcake they really said...                    -\n",
      "\n",
      "[252 rows x 2 columns]\n"
     ]
    }
   ],
   "source": [
    "# === 9. Convert Predictions to Class Labels ===\n",
    "yes_soft_df['predicted_soft_label'] = label_encoder.inverse_transform(np.argmax(predictions, axis=1))\n",
    "yes_soft_df['predicted_soft_distribution'] = predictions.tolist()\n",
    "\n",
    "# === 10. View Results ===\n",
    "print(yes_soft_df[['text', 'predicted_soft_label']])"
   ]
  },
  {
   "cell_type": "code",
   "execution_count": 42,
   "id": "7a6441f1-b01f-41b6-a7f6-8de91b3cdf33",
   "metadata": {},
   "outputs": [],
   "source": [
    "csv_file_train = '/Users/naranja/Desktop/EXIST/task_3_2/YES_hard_test.csv'\n",
    "yes_hard_df.to_csv(csv_file_train, index=False)\n",
    "csv_file_train = '/Users/naranja/Desktop/EXIST/task_3_2/YES_soft_test.csv'\n",
    "yes_soft_df.to_csv(csv_file_train, index=False)"
   ]
  },
  {
   "cell_type": "code",
   "execution_count": 43,
   "id": "f77b8eb6-9424-4a3d-9c7b-6aac409bb858",
   "metadata": {},
   "outputs": [],
   "source": [
    "####################################################################################################################################"
   ]
  },
  {
   "cell_type": "code",
   "execution_count": 44,
   "id": "1c9b6293-c127-47e3-b17e-5d00ebd56ba7",
   "metadata": {},
   "outputs": [],
   "source": [
    "#####################################        MULTI_LABEL TEXT CLASSIFICATION          ##############################################"
   ]
  },
  {
   "cell_type": "code",
   "execution_count": 45,
   "id": "fc5244ee-4639-4b06-a070-ef3e82ce65a1",
   "metadata": {},
   "outputs": [],
   "source": [
    "####################################################################################################################################"
   ]
  },
  {
   "cell_type": "code",
   "execution_count": 46,
   "id": "f6ec4682-15e6-4fda-8288-8313ce71a326",
   "metadata": {},
   "outputs": [],
   "source": [
    "from tensorflow.keras.layers import Input, Embedding, LSTM, Dense, Dropout, Bidirectional\n",
    "from tensorflow.keras.models import Model\n",
    "from tensorflow.keras.callbacks import EarlyStopping, ModelCheckpoint\n",
    "from sklearn.model_selection import train_test_split\n",
    "from sklearn.metrics import classification_report, multilabel_confusion_matrix\n",
    "import matplotlib.pyplot as plt\n",
    "import ast"
   ]
  },
  {
   "cell_type": "code",
   "execution_count": 47,
   "id": "52349c50-50ae-44bb-8887-0e000d2f2293",
   "metadata": {},
   "outputs": [],
   "source": [
    "# Constants\n",
    "MAX_VOCAB_SIZE = 10000\n",
    "MAX_SEQUENCE_LENGTH = 100\n",
    "EMBEDDING_DIM = 200\n",
    "EPOCHS = 10"
   ]
  },
  {
   "cell_type": "code",
   "execution_count": 48,
   "id": "c17939ea-13fb-4c4d-a0a0-2a2cd1b6bb3b",
   "metadata": {},
   "outputs": [],
   "source": [
    "# Define valid labels (note: \"UNKNOWN\" is excluded from prediction targets)\n",
    "VALID_LABELS = ['IDEOLOGICAL-INEQUALITY', 'STEREOTYPING-DOMINANCE', 'OBJECTIFICATION', \n",
    "                'SEXUAL-VIOLENCE', 'MISOGYNY-NON-SEXUAL-VIOLENCE', '-']"
   ]
  },
  {
   "cell_type": "code",
   "execution_count": 49,
   "id": "450b7bfb-1d12-40dd-b1ae-81d7ea946292",
   "metadata": {
    "jupyter": {
     "source_hidden": true
    }
   },
   "outputs": [],
   "source": [
    "def load_data(train_file, test_file=None):\n",
    "    \"\"\"Load data from CSV files\"\"\"\n",
    "    train_df = pd.read_csv(train_file)\n",
    "    \n",
    "    if test_file:\n",
    "        test_df = pd.read_csv(test_file)\n",
    "        return train_df, test_df\n",
    "    return train_df, None"
   ]
  },
  {
   "cell_type": "code",
   "execution_count": 50,
   "id": "5e5d98a8-2766-42dd-a154-3d93d354bf41",
   "metadata": {
    "jupyter": {
     "source_hidden": true
    }
   },
   "outputs": [],
   "source": [
    "def preprocess_labels(labels_series):\n",
    "    \"\"\"\n",
    "    Process labels from multiple annotators (up to 6 per tweet)\n",
    "    - \"-\" is assigned to non-sexist instances\n",
    "    - \"UNKNOWN\" means no label provided (should be excluded from predictions)\n",
    "    \"\"\"\n",
    "    # Initialize multi-hot encoded matrix\n",
    "    multi_hot = np.zeros((len(labels_series), len(VALID_LABELS)))\n",
    "    soft_labels = np.zeros((len(labels_series), len(VALID_LABELS)))\n",
    "    \n",
    "    for i, label_data in enumerate(labels_series):\n",
    "        try:\n",
    "            # Parse the label data to get list of annotations\n",
    "            annotations = []\n",
    "            \n",
    "            if isinstance(label_data, str):\n",
    "                # Try to parse as list (handles various string formats)\n",
    "                try:\n",
    "                    parsed_data = ast.literal_eval(label_data)\n",
    "                    if isinstance(parsed_data, list):\n",
    "                        # Handle nested lists (annotators)\n",
    "                        for item in parsed_data:\n",
    "                            if isinstance(item, list):\n",
    "                                annotations.extend([label for label in item if label != \"UNKNOWN\"])\n",
    "                            elif item != \"UNKNOWN\":\n",
    "                                annotations.append(item)\n",
    "                    elif parsed_data != \"UNKNOWN\":\n",
    "                        annotations.append(parsed_data)\n",
    "                except:\n",
    "                    # Fallback if parsing fails\n",
    "                    if label_data != \"UNKNOWN\":\n",
    "                        annotations = [label_data]\n",
    "            elif not pd.isna(label_data) and label_data != \"UNKNOWN\":\n",
    "                annotations = [str(label_data)]\n",
    "            \n",
    "            # Count valid label occurrences (exclude \"UNKNOWN\")\n",
    "            label_counts = {}\n",
    "            for label in annotations:\n",
    "                if label in VALID_LABELS:\n",
    "                    label_counts[label] = label_counts.get(label, 0) + 1\n",
    "            \n",
    "            # Calculate soft labels (proportions) and set hard labels\n",
    "            if label_counts:\n",
    "                total_valid_annotations = sum(label_counts.values())\n",
    "                for label, count in label_counts.items():\n",
    "                    label_idx = VALID_LABELS.index(label)\n",
    "                    soft_labels[i, label_idx] = count / total_valid_annotations\n",
    "                    multi_hot[i, label_idx] = 1  # Hard label (binary)\n",
    "        \n",
    "        except Exception as e:\n",
    "            print(f\"Error processing label at index {i}: {e}\")\n",
    "            print(f\"Label data: {label_data}\")\n",
    "            \n",
    "    return multi_hot, soft_labels"
   ]
  },
  {
   "cell_type": "code",
   "execution_count": 51,
   "id": "b0769920-e430-4259-a121-b4d84d2ff702",
   "metadata": {
    "jupyter": {
     "source_hidden": true
    }
   },
   "outputs": [],
   "source": [
    "def prepare_text_data(train_texts, test_texts=None):\n",
    "    \"\"\"Tokenize and pad text data\"\"\"\n",
    "    tokenizer = Tokenizer(num_words=MAX_VOCAB_SIZE, oov_token='<OOV>')\n",
    "    tokenizer.fit_on_texts(train_texts)\n",
    "    \n",
    "    # Process training data\n",
    "    train_sequences = tokenizer.texts_to_sequences(train_texts)\n",
    "    train_padded = pad_sequences(train_sequences, maxlen=MAX_SEQUENCE_LENGTH, padding='post')\n",
    "    \n",
    "    # Process test data if provided\n",
    "    if test_texts is not None:\n",
    "        test_sequences = tokenizer.texts_to_sequences(test_texts)\n",
    "        test_padded = pad_sequences(test_sequences, maxlen=MAX_SEQUENCE_LENGTH, padding='post')\n",
    "        return train_padded, test_padded, tokenizer\n",
    "    \n",
    "    return train_padded, None, tokenizer"
   ]
  },
  {
   "cell_type": "code",
   "execution_count": 52,
   "id": "54a579d4-a159-483e-b376-b2fda289ab47",
   "metadata": {},
   "outputs": [],
   "source": [
    "def build_model(vocab_size, num_labels):\n",
    "    \"\"\"Build a Bi-LSTM model for multi-label classification\"\"\"\n",
    "    # Input layer\n",
    "    input_layer = Input(shape=(MAX_SEQUENCE_LENGTH,))\n",
    "    \n",
    "    # Embedding layer\n",
    "    embedding_layer = Embedding(input_dim=vocab_size, \n",
    "                                output_dim=EMBEDDING_DIM, \n",
    "                                input_length=MAX_SEQUENCE_LENGTH)(input_layer)\n",
    "    \n",
    "    # Bi-LSTM layers\n",
    "    lstm_layer = Bidirectional(LSTM(128, return_sequences=True))(embedding_layer)\n",
    "    lstm_layer = Bidirectional(LSTM(64))(lstm_layer)\n",
    "    \n",
    "    # Dense layers with dropout\n",
    "    dense_layer = Dense(128, activation='relu')(lstm_layer)\n",
    "    dropout_layer = Dropout(0.5)(dense_layer)\n",
    "    \n",
    "    # Output layer with sigmoid for multi-label classification\n",
    "    output_layer = Dense(num_labels, activation='sigmoid')(dropout_layer)\n",
    "    \n",
    "    # Create model\n",
    "    model = Model(inputs=input_layer, outputs=output_layer)\n",
    "    \n",
    "    # Compile model\n",
    "    model.compile(loss='binary_crossentropy',\n",
    "                  optimizer='adam',\n",
    "                  metrics=['accuracy'])\n",
    "    \n",
    "    return model"
   ]
  },
  {
   "cell_type": "code",
   "execution_count": 53,
   "id": "1bcbf6cd-ab84-4f84-a0d1-6c0393cddd87",
   "metadata": {
    "jupyter": {
     "source_hidden": true
    }
   },
   "outputs": [],
   "source": [
    "def plot_training_history(history):\n",
    "    \"\"\"Plot training history\"\"\"\n",
    "    plt.figure(figsize=(12, 5))\n",
    "    \n",
    "    # Plot training & validation accuracy\n",
    "    plt.subplot(1, 2, 1)\n",
    "    plt.plot(history.history['accuracy'])\n",
    "    plt.title('Model accuracy')\n",
    "    plt.ylabel('Accuracy')\n",
    "    plt.xlabel('Epoch')\n",
    "    plt.legend(['Train'], loc='upper left')\n",
    "    \n",
    "    # Plot training & validation loss\n",
    "    plt.subplot(1, 2, 2)\n",
    "    plt.plot(history.history['loss'])\n",
    "    plt.title('Model loss')\n",
    "    plt.ylabel('Loss')\n",
    "    plt.xlabel('Epoch')\n",
    "    plt.legend(['Train'], loc='upper left')\n",
    "    \n",
    "    plt.tight_layout()\n",
    "    plt.show()"
   ]
  },
  {
   "cell_type": "code",
   "execution_count": 54,
   "id": "d9ab423b-ef4d-4196-b6d1-a2682e428275",
   "metadata": {},
   "outputs": [],
   "source": [
    "def predict_labels(model, X, tokenizer=None, texts=None):\n",
    "    \"\"\"Make predictions on input data\"\"\"\n",
    "    if tokenizer is not None and texts is not None:\n",
    "        # Process text inputs\n",
    "        sequences = tokenizer.texts_to_sequences(texts)\n",
    "        X = pad_sequences(sequences, maxlen=MAX_SEQUENCE_LENGTH, padding='post')\n",
    "    \n",
    "    # Predict probabilities\n",
    "    y_pred_proba = model.predict(X)\n",
    "    \n",
    "    # Convert to binary predictions with threshold 0.5\n",
    "    y_pred = (y_pred_proba > 0.5).astype(int)\n",
    "    \n",
    "    # Ensure at least one label is predicted (choose max probability if no labels above threshold)\n",
    "    for i in range(len(y_pred)):\n",
    "        if np.sum(y_pred[i]) == 0:\n",
    "            max_idx = np.argmax(y_pred_proba[i])\n",
    "            y_pred[i, max_idx] = 1\n",
    "    \n",
    "    return y_pred, y_pred_proba"
   ]
  },
  {
   "cell_type": "code",
   "execution_count": 55,
   "id": "4dbae491-48c7-40b4-b100-bc065aa82c3c",
   "metadata": {},
   "outputs": [],
   "source": [
    "def save_predictions(test_df, y_pred, y_pred_proba, output_file=\"predictions.csv\"):\n",
    "    \"\"\"Save predictions to a CSV file\"\"\"\n",
    "    # Create a copy of the test dataframe\n",
    "    results_df = test_df.copy()\n",
    "    \n",
    "    # Add predicted hard labels (excluding \"UNKNOWN\" which should never be predicted)\n",
    "    predicted_labels = []\n",
    "    for i, pred in enumerate(y_pred):  # Added index i to the loop variable\n",
    "        row_labels = [VALID_LABELS[j] for j in range(len(VALID_LABELS)) if pred[j] == 1]\n",
    "        # If only \"-\" is predicted and there's a sexist label with probability close to the threshold, include it\n",
    "        if row_labels == [\"-\"] and np.max(y_pred_proba[i, :-1]) > 0.3:  # assuming \"-\" is the last label\n",
    "            next_best_idx = np.argmax(y_pred_proba[i, :-1])\n",
    "            row_labels.append(VALID_LABELS[next_best_idx])\n",
    "            \n",
    "        predicted_labels.append(','.join(row_labels))\n",
    "    \n",
    "    results_df['predicted_labels'] = predicted_labels\n",
    "    \n",
    "    # Add probabilities for each label\n",
    "    for i, label in enumerate(VALID_LABELS):\n",
    "        results_df[f'prob_{label}'] = y_pred_proba[:, i]\n",
    "    \n",
    "    # Save to CSV\n",
    "    results_df.to_csv(output_file, index=False)\n",
    "    print(f\"Predictions saved to {output_file}\")\n",
    "    \n",
    "    return results_df"
   ]
  },
  {
   "cell_type": "code",
   "execution_count": 56,
   "id": "237c5a53-8494-4628-8770-cf8ec71ae087",
   "metadata": {},
   "outputs": [
    {
     "name": "stdout",
     "output_type": "stream",
     "text": [
      "Loading data...\n",
      "Processing labels...\n",
      "Using hard labels for training\n",
      "\n",
      "Label distribution in training data:\n",
      "IDEOLOGICAL-INEQUALITY: 263.0 instances (26.30%)\n",
      "STEREOTYPING-DOMINANCE: 463.0 instances (46.30%)\n",
      "OBJECTIFICATION: 199.0 instances (19.90%)\n",
      "SEXUAL-VIOLENCE: 61.0 instances (6.10%)\n",
      "MISOGYNY-NON-SEXUAL-VIOLENCE: 79.0 instances (7.90%)\n",
      "-: 643.0 instances (64.30%)\n",
      "Preparing text data...\n",
      "Building model...\n"
     ]
    },
    {
     "name": "stderr",
     "output_type": "stream",
     "text": [
      "/Users/naranja/opt/anaconda3/lib/python3.12/site-packages/keras/src/layers/core/embedding.py:90: UserWarning: Argument `input_length` is deprecated. Just remove it.\n",
      "  warnings.warn(\n"
     ]
    },
    {
     "data": {
      "text/html": [
       "<pre style=\"white-space:pre;overflow-x:auto;line-height:normal;font-family:Menlo,'DejaVu Sans Mono',consolas,'Courier New',monospace\"><span style=\"font-weight: bold\">Model: \"functional_4\"</span>\n",
       "</pre>\n"
      ],
      "text/plain": [
       "\u001b[1mModel: \"functional_4\"\u001b[0m\n"
      ]
     },
     "metadata": {},
     "output_type": "display_data"
    },
    {
     "data": {
      "text/html": [
       "<pre style=\"white-space:pre;overflow-x:auto;line-height:normal;font-family:Menlo,'DejaVu Sans Mono',consolas,'Courier New',monospace\">┏━━━━━━━━━━━━━━━━━━━━━━━━━━━━━━━━━┳━━━━━━━━━━━━━━━━━━━━━━━━┳━━━━━━━━━━━━━━━┓\n",
       "┃<span style=\"font-weight: bold\"> Layer (type)                    </span>┃<span style=\"font-weight: bold\"> Output Shape           </span>┃<span style=\"font-weight: bold\">       Param # </span>┃\n",
       "┡━━━━━━━━━━━━━━━━━━━━━━━━━━━━━━━━━╇━━━━━━━━━━━━━━━━━━━━━━━━╇━━━━━━━━━━━━━━━┩\n",
       "│ input_layer_2 (<span style=\"color: #0087ff; text-decoration-color: #0087ff\">InputLayer</span>)      │ (<span style=\"color: #00d7ff; text-decoration-color: #00d7ff\">None</span>, <span style=\"color: #00af00; text-decoration-color: #00af00\">100</span>)            │             <span style=\"color: #00af00; text-decoration-color: #00af00\">0</span> │\n",
       "├─────────────────────────────────┼────────────────────────┼───────────────┤\n",
       "│ embedding_4 (<span style=\"color: #0087ff; text-decoration-color: #0087ff\">Embedding</span>)         │ (<span style=\"color: #00d7ff; text-decoration-color: #00d7ff\">None</span>, <span style=\"color: #00af00; text-decoration-color: #00af00\">100</span>, <span style=\"color: #00af00; text-decoration-color: #00af00\">200</span>)       │     <span style=\"color: #00af00; text-decoration-color: #00af00\">2,000,000</span> │\n",
       "├─────────────────────────────────┼────────────────────────┼───────────────┤\n",
       "│ bidirectional (<span style=\"color: #0087ff; text-decoration-color: #0087ff\">Bidirectional</span>)   │ (<span style=\"color: #00d7ff; text-decoration-color: #00d7ff\">None</span>, <span style=\"color: #00af00; text-decoration-color: #00af00\">100</span>, <span style=\"color: #00af00; text-decoration-color: #00af00\">256</span>)       │       <span style=\"color: #00af00; text-decoration-color: #00af00\">336,896</span> │\n",
       "├─────────────────────────────────┼────────────────────────┼───────────────┤\n",
       "│ bidirectional_1 (<span style=\"color: #0087ff; text-decoration-color: #0087ff\">Bidirectional</span>) │ (<span style=\"color: #00d7ff; text-decoration-color: #00d7ff\">None</span>, <span style=\"color: #00af00; text-decoration-color: #00af00\">128</span>)            │       <span style=\"color: #00af00; text-decoration-color: #00af00\">164,352</span> │\n",
       "├─────────────────────────────────┼────────────────────────┼───────────────┤\n",
       "│ dense_8 (<span style=\"color: #0087ff; text-decoration-color: #0087ff\">Dense</span>)                 │ (<span style=\"color: #00d7ff; text-decoration-color: #00d7ff\">None</span>, <span style=\"color: #00af00; text-decoration-color: #00af00\">128</span>)            │        <span style=\"color: #00af00; text-decoration-color: #00af00\">16,512</span> │\n",
       "├─────────────────────────────────┼────────────────────────┼───────────────┤\n",
       "│ dropout_2 (<span style=\"color: #0087ff; text-decoration-color: #0087ff\">Dropout</span>)             │ (<span style=\"color: #00d7ff; text-decoration-color: #00d7ff\">None</span>, <span style=\"color: #00af00; text-decoration-color: #00af00\">128</span>)            │             <span style=\"color: #00af00; text-decoration-color: #00af00\">0</span> │\n",
       "├─────────────────────────────────┼────────────────────────┼───────────────┤\n",
       "│ dense_9 (<span style=\"color: #0087ff; text-decoration-color: #0087ff\">Dense</span>)                 │ (<span style=\"color: #00d7ff; text-decoration-color: #00d7ff\">None</span>, <span style=\"color: #00af00; text-decoration-color: #00af00\">6</span>)              │           <span style=\"color: #00af00; text-decoration-color: #00af00\">774</span> │\n",
       "└─────────────────────────────────┴────────────────────────┴───────────────┘\n",
       "</pre>\n"
      ],
      "text/plain": [
       "┏━━━━━━━━━━━━━━━━━━━━━━━━━━━━━━━━━┳━━━━━━━━━━━━━━━━━━━━━━━━┳━━━━━━━━━━━━━━━┓\n",
       "┃\u001b[1m \u001b[0m\u001b[1mLayer (type)                   \u001b[0m\u001b[1m \u001b[0m┃\u001b[1m \u001b[0m\u001b[1mOutput Shape          \u001b[0m\u001b[1m \u001b[0m┃\u001b[1m \u001b[0m\u001b[1m      Param #\u001b[0m\u001b[1m \u001b[0m┃\n",
       "┡━━━━━━━━━━━━━━━━━━━━━━━━━━━━━━━━━╇━━━━━━━━━━━━━━━━━━━━━━━━╇━━━━━━━━━━━━━━━┩\n",
       "│ input_layer_2 (\u001b[38;5;33mInputLayer\u001b[0m)      │ (\u001b[38;5;45mNone\u001b[0m, \u001b[38;5;34m100\u001b[0m)            │             \u001b[38;5;34m0\u001b[0m │\n",
       "├─────────────────────────────────┼────────────────────────┼───────────────┤\n",
       "│ embedding_4 (\u001b[38;5;33mEmbedding\u001b[0m)         │ (\u001b[38;5;45mNone\u001b[0m, \u001b[38;5;34m100\u001b[0m, \u001b[38;5;34m200\u001b[0m)       │     \u001b[38;5;34m2,000,000\u001b[0m │\n",
       "├─────────────────────────────────┼────────────────────────┼───────────────┤\n",
       "│ bidirectional (\u001b[38;5;33mBidirectional\u001b[0m)   │ (\u001b[38;5;45mNone\u001b[0m, \u001b[38;5;34m100\u001b[0m, \u001b[38;5;34m256\u001b[0m)       │       \u001b[38;5;34m336,896\u001b[0m │\n",
       "├─────────────────────────────────┼────────────────────────┼───────────────┤\n",
       "│ bidirectional_1 (\u001b[38;5;33mBidirectional\u001b[0m) │ (\u001b[38;5;45mNone\u001b[0m, \u001b[38;5;34m128\u001b[0m)            │       \u001b[38;5;34m164,352\u001b[0m │\n",
       "├─────────────────────────────────┼────────────────────────┼───────────────┤\n",
       "│ dense_8 (\u001b[38;5;33mDense\u001b[0m)                 │ (\u001b[38;5;45mNone\u001b[0m, \u001b[38;5;34m128\u001b[0m)            │        \u001b[38;5;34m16,512\u001b[0m │\n",
       "├─────────────────────────────────┼────────────────────────┼───────────────┤\n",
       "│ dropout_2 (\u001b[38;5;33mDropout\u001b[0m)             │ (\u001b[38;5;45mNone\u001b[0m, \u001b[38;5;34m128\u001b[0m)            │             \u001b[38;5;34m0\u001b[0m │\n",
       "├─────────────────────────────────┼────────────────────────┼───────────────┤\n",
       "│ dense_9 (\u001b[38;5;33mDense\u001b[0m)                 │ (\u001b[38;5;45mNone\u001b[0m, \u001b[38;5;34m6\u001b[0m)              │           \u001b[38;5;34m774\u001b[0m │\n",
       "└─────────────────────────────────┴────────────────────────┴───────────────┘\n"
      ]
     },
     "metadata": {},
     "output_type": "display_data"
    },
    {
     "data": {
      "text/html": [
       "<pre style=\"white-space:pre;overflow-x:auto;line-height:normal;font-family:Menlo,'DejaVu Sans Mono',consolas,'Courier New',monospace\"><span style=\"font-weight: bold\"> Total params: </span><span style=\"color: #00af00; text-decoration-color: #00af00\">2,518,534</span> (9.61 MB)\n",
       "</pre>\n"
      ],
      "text/plain": [
       "\u001b[1m Total params: \u001b[0m\u001b[38;5;34m2,518,534\u001b[0m (9.61 MB)\n"
      ]
     },
     "metadata": {},
     "output_type": "display_data"
    },
    {
     "data": {
      "text/html": [
       "<pre style=\"white-space:pre;overflow-x:auto;line-height:normal;font-family:Menlo,'DejaVu Sans Mono',consolas,'Courier New',monospace\"><span style=\"font-weight: bold\"> Trainable params: </span><span style=\"color: #00af00; text-decoration-color: #00af00\">2,518,534</span> (9.61 MB)\n",
       "</pre>\n"
      ],
      "text/plain": [
       "\u001b[1m Trainable params: \u001b[0m\u001b[38;5;34m2,518,534\u001b[0m (9.61 MB)\n"
      ]
     },
     "metadata": {},
     "output_type": "display_data"
    },
    {
     "data": {
      "text/html": [
       "<pre style=\"white-space:pre;overflow-x:auto;line-height:normal;font-family:Menlo,'DejaVu Sans Mono',consolas,'Courier New',monospace\"><span style=\"font-weight: bold\"> Non-trainable params: </span><span style=\"color: #00af00; text-decoration-color: #00af00\">0</span> (0.00 B)\n",
       "</pre>\n"
      ],
      "text/plain": [
       "\u001b[1m Non-trainable params: \u001b[0m\u001b[38;5;34m0\u001b[0m (0.00 B)\n"
      ]
     },
     "metadata": {},
     "output_type": "display_data"
    },
    {
     "name": "stdout",
     "output_type": "stream",
     "text": [
      "Training model...\n",
      "Epoch 1/10\n",
      "\u001b[1m32/32\u001b[0m \u001b[32m━━━━━━━━━━━━━━━━━━━━\u001b[0m\u001b[37m\u001b[0m \u001b[1m30s\u001b[0m 567ms/step - accuracy: 0.3770 - loss: 0.5981\n",
      "Epoch 2/10\n"
     ]
    },
    {
     "name": "stderr",
     "output_type": "stream",
     "text": [
      "/Users/naranja/opt/anaconda3/lib/python3.12/site-packages/keras/src/callbacks/early_stopping.py:153: UserWarning: Early stopping conditioned on metric `val_loss` which is not available. Available metrics are: accuracy,loss\n",
      "  current = self.get_monitor_value(logs)\n",
      "/Users/naranja/opt/anaconda3/lib/python3.12/site-packages/keras/src/callbacks/model_checkpoint.py:209: UserWarning: Can save best model only with val_loss available, skipping.\n",
      "  self._save_model(epoch=epoch, batch=None, logs=logs)\n"
     ]
    },
    {
     "name": "stdout",
     "output_type": "stream",
     "text": [
      "\u001b[1m32/32\u001b[0m \u001b[32m━━━━━━━━━━━━━━━━━━━━\u001b[0m\u001b[37m\u001b[0m \u001b[1m18s\u001b[0m 551ms/step - accuracy: 0.4041 - loss: 0.4901\n",
      "Epoch 3/10\n",
      "\u001b[1m32/32\u001b[0m \u001b[32m━━━━━━━━━━━━━━━━━━━━\u001b[0m\u001b[37m\u001b[0m \u001b[1m19s\u001b[0m 577ms/step - accuracy: 0.4407 - loss: 0.4481\n",
      "Epoch 4/10\n",
      "\u001b[1m32/32\u001b[0m \u001b[32m━━━━━━━━━━━━━━━━━━━━\u001b[0m\u001b[37m\u001b[0m \u001b[1m19s\u001b[0m 610ms/step - accuracy: 0.5042 - loss: 0.3775\n",
      "Epoch 5/10\n",
      "\u001b[1m32/32\u001b[0m \u001b[32m━━━━━━━━━━━━━━━━━━━━\u001b[0m\u001b[37m\u001b[0m \u001b[1m19s\u001b[0m 587ms/step - accuracy: 0.5510 - loss: 0.3290\n",
      "Epoch 6/10\n",
      "\u001b[1m32/32\u001b[0m \u001b[32m━━━━━━━━━━━━━━━━━━━━\u001b[0m\u001b[37m\u001b[0m \u001b[1m18s\u001b[0m 566ms/step - accuracy: 0.5510 - loss: 0.2782\n",
      "Epoch 7/10\n",
      "\u001b[1m32/32\u001b[0m \u001b[32m━━━━━━━━━━━━━━━━━━━━\u001b[0m\u001b[37m\u001b[0m \u001b[1m18s\u001b[0m 547ms/step - accuracy: 0.6066 - loss: 0.2403\n",
      "Epoch 8/10\n",
      "\u001b[1m32/32\u001b[0m \u001b[32m━━━━━━━━━━━━━━━━━━━━\u001b[0m\u001b[37m\u001b[0m \u001b[1m18s\u001b[0m 569ms/step - accuracy: 0.5853 - loss: 0.2148\n",
      "Epoch 9/10\n",
      "\u001b[1m32/32\u001b[0m \u001b[32m━━━━━━━━━━━━━━━━━━━━\u001b[0m\u001b[37m\u001b[0m \u001b[1m18s\u001b[0m 564ms/step - accuracy: 0.6336 - loss: 0.1994\n",
      "Epoch 10/10\n",
      "\u001b[1m32/32\u001b[0m \u001b[32m━━━━━━━━━━━━━━━━━━━━\u001b[0m\u001b[37m\u001b[0m \u001b[1m17s\u001b[0m 544ms/step - accuracy: 0.6196 - loss: 0.1856\n"
     ]
    },
    {
     "data": {
      "image/png": "[encoded data removed]",
      "text/plain": [
       "<Figure size 1200x500 with 2 Axes>"
      ]
     },
     "metadata": {},
     "output_type": "display_data"
    },
    {
     "name": "stdout",
     "output_type": "stream",
     "text": [
      "Making predictions on test data...\n",
      "WARNING:tensorflow:5 out of the last 14 calls to <function TensorFlowTrainer.make_predict_function.<locals>.one_step_on_data_distributed at 0x1702b7420> triggered tf.function retracing. Tracing is expensive and the excessive number of tracings could be due to (1) creating @tf.function repeatedly in a loop, (2) passing tensors with different shapes, (3) passing Python objects instead of tensors. For (1), please define your @tf.function outside of the loop. For (2), @tf.function has reduce_retracing=True option that can avoid unnecessary retracing. For (3), please refer to https://www.tensorflow.org/guide/function#controlling_retracing and https://www.tensorflow.org/api_docs/python/tf/function for  more details.\n",
      "\u001b[1m5/5\u001b[0m \u001b[32m━━━━━━━━━━━━━━━━━━━━\u001b[0m\u001b[37m\u001b[0m \u001b[1m3s\u001b[0m 428ms/step\n",
      "Predictions saved to /Users/naranja/Desktop/EXIST/task_3_3/YES_hard_test.csv\n"
     ]
    }
   ],
   "source": [
    "def main(train_file, test_file=None, use_soft_labels=True):\n",
    "    # Load training and test data\n",
    "    print(\"Loading data...\")\n",
    "    train_df, test_df = load_data(train_file, test_file)\n",
    "         \n",
    "    # Process labels\n",
    "    print(\"Processing labels...\")\n",
    "    train_hard_labels, train_soft_labels = preprocess_labels(train_df['labels_task3_3'])\n",
    "    \n",
    "    # Use soft or hard labels based on parameter\n",
    "    train_labels = train_soft_labels if use_soft_labels else train_hard_labels\n",
    "    label_type = \"soft\" if use_soft_labels else \"hard\"\n",
    "    print(f\"Using {label_type} labels for training\")\n",
    "    \n",
    "    # Print label distribution\n",
    "    print(\"\\nLabel distribution in training data:\")\n",
    "    for i, label in enumerate(VALID_LABELS):\n",
    "        count = np.sum(train_hard_labels[:, i])\n",
    "        print(f\"{label}: {count} instances ({count/len(train_df)*100:.2f}%)\")\n",
    "    \n",
    "    # Prepare text data\n",
    "    print(\"Preparing text data...\")\n",
    "    if test_df is not None:\n",
    "        X_train, X_test, tokenizer = prepare_text_data(train_df['text'], yes_hard_df['text'])\n",
    "    else:\n",
    "        X_train, _, tokenizer = prepare_text_data(train_df['text'])\n",
    "        X_test = None\n",
    "    \n",
    "    # Build model\n",
    "    print(\"Building model...\")\n",
    "    vocab_size = min(MAX_VOCAB_SIZE, len(tokenizer.word_index) + 1)\n",
    "    model = build_model(vocab_size, len(VALID_LABELS))\n",
    "    model.summary()\n",
    "    \n",
    "    # Train model\n",
    "    print(\"Training model...\")\n",
    "    history = model.fit(\n",
    "        X_train, train_labels,\n",
    "        epochs=EPOCHS,\n",
    "        callbacks=[\n",
    "            tf.keras.callbacks.EarlyStopping(monitor='val_loss', patience=3, restore_best_weights=True),\n",
    "            tf.keras.callbacks.ModelCheckpoint(\"best_model.h5\", monitor='val_loss', save_best_only=True)\n",
    "        ]\n",
    "    )\n",
    "    \n",
    "    # Plot training history\n",
    "    plot_training_history(history)\n",
    "    \n",
    "    # Make predictions on test data if available\n",
    "    if test_df is not None and X_test is not None:\n",
    "        print(\"Making predictions on test data...\")\n",
    "        y_pred, y_pred_proba = predict_labels(model, X_test)\n",
    "        \n",
    "        # Save predictions\n",
    "        results_df = save_predictions(yes_hard_df, y_pred, y_pred_proba, '/Users/naranja/Desktop/EXIST/task_3_3/YES_hard_test.csv') \n",
    "        \n",
    "if __name__ == \"__main__\":\n",
    "    main(\"/Users/naranja/Desktop/EXIST/task_3_1/training.csv\", \"/Users/naranja/Desktop/EXIST/task_3_2/YES_hard_test.csv\", use_soft_labels=False)"
   ]
  },
  {
   "cell_type": "code",
   "execution_count": null,
   "id": "228f7165-68da-4dbc-b911-b1197be2697a",
   "metadata": {},
   "outputs": [],
   "source": []
  }
 ],
 "metadata": {
  "kernelspec": {
   "display_name": "Python 3 (ipykernel)",
   "language": "python",
   "name": "python3"
  },
  "language_info": {
   "codemirror_mode": {
    "name": "ipython",
    "version": 3
   },
   "file_extension": ".py",
   "mimetype": "text/x-python",
   "name": "python",
   "nbconvert_exporter": "python",
   "pygments_lexer": "ipython3",
   "version": "3.12.7"
  }
 },
 "nbformat": 4,
 "nbformat_minor": 5
}
