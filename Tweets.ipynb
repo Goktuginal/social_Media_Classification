{
 "cells": [
  {
   "cell_type": "code",
   "execution_count": 1,
   "id": "18257848-ae8c-48ac-b4d8-ba7e626b9305",
   "metadata": {},
   "outputs": [],
   "source": [
    "import json\n",
    "\n",
    "# Open and read the JSON file\n",
    "with open('/Users/naranja/Downloads/EXIST 2025 Dataset V0.3/EXIST 2025 Tweets Dataset/training/EXIST2025_training.json', 'r') as file:\n",
    "    train_data = json.load(file)\n",
    "with open('/Users/naranja/Downloads/EXIST 2025 Dataset V0.3/EXIST 2025 Tweets Dataset/test/EXIST2025_test_clean.json', 'r') as file:\n",
    "    test_data = json.load(file)"
   ]
  },
  {
   "cell_type": "code",
   "execution_count": 2,
   "id": "b418ad2b-5136-4d39-86f6-22ecc2287140",
   "metadata": {},
   "outputs": [],
   "source": [
    "import pandas as pd\n",
    "import numpy as np\n",
    "\n",
    "train_df = pd.DataFrame(train_data)\n",
    "test_df = pd.DataFrame(test_data)\n",
    "train_df = train_df.transpose()\n",
    "test_df = test_df.transpose()\n",
    "\n",
    "train_df = train_df[train_df['lang'] == 'en']\n",
    "test_df = test_df[test_df['lang'] == 'en']"
   ]
  },
  {
   "cell_type": "code",
   "execution_count": 3,
   "id": "ab9454fb-61d9-40fd-a3ed-85b21e7eb562",
   "metadata": {
    "jupyter": {
     "source_hidden": true
    }
   },
   "outputs": [
    {
     "name": "stderr",
     "output_type": "stream",
     "text": [
      "2025-05-19 10:43:09.660523: I tensorflow/core/platform/cpu_feature_guard.cc:210] This TensorFlow binary is optimized to use available CPU instructions in performance-critical operations.\n",
      "To enable the following instructions: AVX2 FMA, in other operations, rebuild TensorFlow with the appropriate compiler flags.\n",
      "[nltk_data] Downloading package stopwords to\n",
      "[nltk_data]     /Users/naranja/nltk_data...\n",
      "[nltk_data]   Package stopwords is already up-to-date!\n"
     ]
    }
   ],
   "source": [
    "import re\n",
    "import string\n",
    "import nltk\n",
    "import tensorflow as tf\n",
    "\n",
    "nltk.download('stopwords')\n",
    "from nltk.corpus import stopwords\n",
    "\n",
    "stop = set(stopwords.words(fileids=('english')))\n",
    "def remove_stopwords(text):\n",
    "    filtered_words = [word.lower() for word in text.split() if word.lower() not in stop]\n",
    "    return \" \".join(filtered_words)\n",
    "\n",
    "def normalize_whitespace(text_tensor):\n",
    "    # Replace tabs and newlines with space\n",
    "    text_tensor = tf.strings.regex_replace(text_tensor, r\"[\\t\\n\\r]+\", \" \")\n",
    "\n",
    "    # Replace multiple spaces with single space\n",
    "    text_tensor = tf.strings.regex_replace(text_tensor, r\"\\s{2,}\", \" \")\n",
    "\n",
    "    # Strip leading/trailing whitespace\n",
    "    text_tensor = tf.strings.strip(text_tensor)\n",
    "    return text_tensor\n",
    "\n",
    "def remove_username(text):\n",
    "    user = re.compile(r\"@[^\\s]+\")\n",
    "    return user.sub(r\"\", text)\n",
    "\n",
    "def remove_URL(text):\n",
    "    url = re.compile(r\"https?://\\S+|www\\.\\S+\")\n",
    "    return url.sub(r\"\", text)\n",
    "\n",
    "def remove_punct(text):\n",
    "    translator = str.maketrans(\"\", \"\", string.punctuation)\n",
    "    return text.translate(translator)\n",
    "\n",
    "def remove_emails(text):\n",
    "    # Define email pattern using re\n",
    "    email_pattern = re.compile(\n",
    "        r\"\\b[\\w\\.-]+@[\\w\\.-]+\\.\\w{2,4}\\b\",  # Basic email pattern\n",
    "        flags=re.UNICODE\n",
    "    )\n",
    "    email_regex_str = email_pattern.pattern\n",
    "    cleaned_text = tf.strings.regex_replace(text, email_regex_str, \"\")\n",
    "    return cleaned_text\n",
    "\n",
    "def remove_emoji(text):\n",
    "    emoji_pattern = re.compile(\n",
    "        \"[\"\n",
    "        u\"\\U0001F600-\\U0001F64F\"  # Emoticons\n",
    "        u\"\\U0001F300-\\U0001F5FF\"  # Symbols & Pictographs\n",
    "        u\"\\U0001F680-\\U0001F6FF\"  # Transport & Map Symbols\n",
    "        u\"\\U0001F1E0-\\U0001F1FF\"  # Flags\n",
    "        u\"\\U00002700-\\U000027BF\"  # Dingbats\n",
    "        u\"\\U0001F900-\\U0001F9FF\"  # Supplemental Symbols and Pictographs\n",
    "        u\"\\U00002600-\\U000026FF\"  # Misc symbols\n",
    "        \"]+\", \n",
    "        flags=re.UNICODE\n",
    "    )\n",
    "    return emoji_pattern.sub(r'', text)"
   ]
  },
  {
   "cell_type": "code",
   "execution_count": 4,
   "id": "3c0a5055-10b7-4823-be5f-e54b4b81516c",
   "metadata": {
    "jupyter": {
     "source_hidden": true
    }
   },
   "outputs": [],
   "source": [
    "train_df['tweet'] = train_df['tweet'].apply(\n",
    "    lambda x: remove_emails(tf.constant(x)).numpy().decode('utf-8')\n",
    ")\n",
    "train_df['tweet'] = train_df.tweet.map(remove_username)\n",
    "train_df['tweet'] = train_df.tweet.map(remove_URL)\n",
    "train_df['tweet'] = train_df.tweet.map(remove_punct)\n",
    "train_df['tweet'] = train_df.tweet.map(remove_emoji)\n",
    "train_df['tweet'] = train_df['tweet'].apply(\n",
    "    lambda x: normalize_whitespace(tf.constant(x)).numpy().decode('utf-8')\n",
    ")\n",
    "test_df['tweet'] = test_df['tweet'].apply(\n",
    "    lambda x: remove_emails(tf.constant(x)).numpy().decode('utf-8')\n",
    ")\n",
    "test_df['tweet'] = test_df.tweet.map(remove_username)\n",
    "test_df['tweet'] = test_df.tweet.map(remove_URL)\n",
    "test_df['tweet'] = test_df.tweet.map(remove_punct)\n",
    "test_df['tweet'] = test_df.tweet.map(remove_emoji)\n",
    "test_df['tweet'] = test_df['tweet'].apply(\n",
    "    lambda x: normalize_whitespace(tf.constant(x)).numpy().decode('utf-8')\n",
    ")"
   ]
  },
  {
   "cell_type": "code",
   "execution_count": 5,
   "id": "8fdb02af-9f1f-4594-84f8-7045e730a222",
   "metadata": {
    "jupyter": {
     "source_hidden": true
    }
   },
   "outputs": [],
   "source": [
    "def compute_soft_and_hard_label(votes, positive_token=\"YES\", negative_token=\"NO\"):\n",
    "    \"\"\"\n",
    "    Converts annotator votes into soft and hard labels.\n",
    "\n",
    "    Args:\n",
    "        votes (list of str): Annotator votes, e.g., ['NO', 'YES', 'NO', 'YES']\n",
    "        positive_token (str): The string representing a positive label (default: 'YES')\n",
    "        negative_token (str): The string representing a negative label (default: 'NO')\n",
    "\n",
    "    Returns:\n",
    "        soft_label (list of float): [prob_yes, prob_no]\n",
    "        hard_label (int): 1 if YES wins, 0 otherwise\n",
    "    \"\"\"\n",
    "    total = len(votes)\n",
    "    yes_count = sum(1 for v in votes if v == positive_token)\n",
    "    no_count = total - yes_count\n",
    "\n",
    "    prob_yes = yes_count / total\n",
    "    prob_no = no_count / total\n",
    "\n",
    "    hard_label = 1 if prob_yes >= 0.5 else 0\n",
    "\n",
    "    return [prob_yes, prob_no], hard_label"
   ]
  },
  {
   "cell_type": "code",
   "execution_count": 6,
   "id": "be3690ef-1adc-4335-823c-b7ef16e6ce42",
   "metadata": {},
   "outputs": [],
   "source": [
    "train_df['labels_task1_1_hard'] = None\n",
    "train_df['labels_task1_1_soft'] = None\n",
    "\n",
    "for index, row in train_df.iterrows():\n",
    "    soft, hard = compute_soft_and_hard_label(row['labels_task1_1'])\n",
    "    if hasattr(hard, '__iter__') and not isinstance(hard, (str, bytes)):\n",
    "        hard = hard[0]  # Take first value or use another approach\n",
    "    \n",
    "    if isinstance(soft, np.ndarray):\n",
    "        soft = soft.tolist()\n",
    "    train_df.at[index, 'labels_task1_1_hard'] = hard\n",
    "    train_df.at[index, 'labels_task1_1_soft'] = soft"
   ]
  },
  {
   "cell_type": "code",
   "execution_count": 7,
   "id": "c3c4bf5d-6d2f-4932-a302-eee94706dc9d",
   "metadata": {},
   "outputs": [],
   "source": [
    "csv_file_train = '/Users/naranja/Desktop/EXIST/task_1_1/training.csv'\n",
    "csv_file_test = '/Users/naranja/Desktop/EXIST/task_1_1/test.csv'\n",
    "train_df.to_csv(csv_file_train, index=False)\n",
    "test_df.to_csv(csv_file_test, index=False)"
   ]
  },
  {
   "cell_type": "code",
   "execution_count": 8,
   "id": "09e49a9b-fdde-47d8-a0bf-a3a3fdd37bb6",
   "metadata": {},
   "outputs": [],
   "source": [
    "train_text = train_df['tweet'].astype(str).to_numpy()\n",
    "hard_labels = train_df['labels_task1_1_hard'].astype('int32').to_numpy()\n",
    "train_soft_labels = np.stack(train_df['labels_task1_1_soft'].to_numpy()).astype(np.float32)"
   ]
  },
  {
   "cell_type": "code",
   "execution_count": 9,
   "id": "48fae2c2-e2bc-407c-bc4a-6080a0ec49e4",
   "metadata": {},
   "outputs": [],
   "source": [
    "import keras\n",
    "from tensorflow.keras.layers import TextVectorization\n",
    "from tensorflow.keras import layers, models\n",
    "from tensorflow.keras.preprocessing.text import Tokenizer\n",
    "from tensorflow.keras.preprocessing.sequence import pad_sequences\n",
    "from sklearn.model_selection import train_test_split\n",
    "from sklearn.metrics import classification_report, roc_auc_score\n",
    "\n",
    "# Define vectorizer (adjust max_tokens and sequence_length as needed)\n",
    "vectorizer = TextVectorization(\n",
    "    max_tokens=10000,\n",
    "    output_sequence_length=100,\n",
    "    standardize='lower_and_strip_punctuation'\n",
    ")\n",
    "\n",
    "# Fit it on your training text\n",
    "vectorizer.adapt(train_text)"
   ]
  },
  {
   "cell_type": "code",
   "execution_count": 10,
   "id": "e494f7f6-3984-4c33-ae87-fcd17a0b94e6",
   "metadata": {},
   "outputs": [],
   "source": [
    "def create_model(use_soft_labels=False):\n",
    "    \"\"\"\n",
    "    Create a simple text classification model\n",
    "    \"\"\"\n",
    "    inputs = keras.Input(shape=(), dtype=tf.string, name=\"text_input\")\n",
    "    x = vectorizer(inputs)  # Now outputs shape (None, 100) of int32                    \n",
    "    x = layers.Embedding(input_dim=10000, output_dim=16)(x)\n",
    "    x = layers.Conv1D(128, 5, activation='relu')(x)\n",
    "    x = layers.GlobalMaxPooling1D()(x)\n",
    "    x = layers.Dense(64, activation='relu')(x)\n",
    "    x = layers.Dropout(0.5)(x)\n",
    "\n",
    "    if use_soft_labels:\n",
    "        outputs = tf.keras.layers.Dense(2, activation='softmax')(x)\n",
    "        loss = 'categorical_crossentropy'\n",
    "    else:\n",
    "        outputs = tf.keras.layers.Dense(1, activation='sigmoid')(x)\n",
    "        loss = 'binary_crossentropy'\n",
    "\n",
    "    model = tf.keras.Model(inputs=inputs, outputs=outputs)\n",
    "    model.compile(optimizer='adam', loss=loss, metrics=['accuracy'])\n",
    "    \n",
    "    return model"
   ]
  },
  {
   "cell_type": "code",
   "execution_count": 11,
   "id": "ff7b1868-89fe-40fe-9dcd-90f968b9419f",
   "metadata": {},
   "outputs": [],
   "source": [
    "def predict_tweets(model, test_df, threshold=0.5, label_mode='soft'):\n",
    "    \"\"\"\n",
    "    Predicts on test tweets using a trained model.\n",
    "\n",
    "    \"\"\"\n",
    "    test_text = test_df['tweet'].astype(str).to_numpy()\n",
    "\n",
    "    # Get raw predictions from model\n",
    "    preds = model.predict(test_text)\n",
    "\n",
    "    if len(preds.shape) > 1 and preds.shape[1] == 2:\n",
    "        if label_mode == 'soft':\n",
    "            test_df['soft_pred'] = preds.tolist()  # Store the entire 2D array as lists in the column\n",
    "        elif label_mode == 'hard':\n",
    "            test_df['hard_pred'] = np.argmax(preds, axis=1)  # 0 = NO, 1 = YES\n",
    "    else:\n",
    "        if label_mode == 'soft':\n",
    "            # For sigmoid output, create the complementary probability\n",
    "            probs = preds.flatten()  # Ensure it's 1D\n",
    "            test_df['soft_pred'] = [[p, 1-p] for p in probs]  # Store as list of pairs [p, 1-p]\n",
    "        elif label_mode == 'hard':\n",
    "            test_df['hard_pred'] = (preds.flatten() > threshold).astype(int)\n",
    "            \n",
    "    return test_df"
   ]
  },
  {
   "cell_type": "code",
   "execution_count": 12,
   "id": "caff5278-e18e-4465-9d39-2db8794e8fb9",
   "metadata": {},
   "outputs": [],
   "source": [
    "def save_predictions_to_csv(df, output_file='predictions.csv', threshold=0.5):\n",
    "    \"\"\"\n",
    "    Saves tweet texts and their predictions to a CSV file.\n",
    "    \"\"\"\n",
    "    \n",
    "    # Create a copy of the DataFrame to avoid modifying the original\n",
    "    result_df = pd.DataFrame()\n",
    "    result_df['id'] = df['id_EXIST']\n",
    "    result_df['Tweet'] = df['tweet']\n",
    "    \n",
    "    # Process soft predictions if available\n",
    "    if 'soft_pred' in df.columns:\n",
    "        # Check if soft_pred contains lists (for 2-class output)\n",
    "        if isinstance(df['soft_pred'].iloc[0], list):\n",
    "            # For 2D predictions: index 1 is the probability for YES (class 1)\n",
    "            result_df['Probability_YES'] = df['soft_pred'].apply(lambda x: x[1])\n",
    "        else:\n",
    "            # For 1D predictions: the value is directly the probability for YES\n",
    "            result_df['Probability_YES'] = df['soft_pred']\n",
    "            \n",
    "        # Convert probabilities to YES/NO\n",
    "        result_df['Prediction'] = result_df['Probability_YES'].apply(\n",
    "            lambda x: 'YES' if x > threshold else 'NO'\n",
    "        )\n",
    "    \n",
    "    # Use hard predictions if available and soft predictions aren't\n",
    "    elif 'hard_pred' in df.columns:\n",
    "        result_df['Prediction'] = df['hard_pred'].apply(\n",
    "            lambda x: 'YES' if x == 1 else 'NO'\n",
    "        )\n",
    "    \n",
    "    # Save the results to CSV\n",
    "    result_df.to_csv(output_file, index=False)\n",
    "    print(f\"Predictions saved to {output_file}\")\n",
    "    \n",
    "    return result_df"
   ]
  },
  {
   "cell_type": "code",
   "execution_count": 13,
   "id": "a454ae84-1f56-4e2d-8c53-4dc0921aa09e",
   "metadata": {},
   "outputs": [
    {
     "data": {
      "text/html": [
       "<pre style=\"white-space:pre;overflow-x:auto;line-height:normal;font-family:Menlo,'DejaVu Sans Mono',consolas,'Courier New',monospace\"><span style=\"font-weight: bold\">Model: \"functional\"</span>\n",
       "</pre>\n"
      ],
      "text/plain": [
       "\u001b[1mModel: \"functional\"\u001b[0m\n"
      ]
     },
     "metadata": {},
     "output_type": "display_data"
    },
    {
     "data": {
      "text/html": [
       "<pre style=\"white-space:pre;overflow-x:auto;line-height:normal;font-family:Menlo,'DejaVu Sans Mono',consolas,'Courier New',monospace\">┏━━━━━━━━━━━━━━━━━━━━━━━━━━━━━━━━━┳━━━━━━━━━━━━━━━━━━━━━━━━┳━━━━━━━━━━━━━━━┓\n",
       "┃<span style=\"font-weight: bold\"> Layer (type)                    </span>┃<span style=\"font-weight: bold\"> Output Shape           </span>┃<span style=\"font-weight: bold\">       Param # </span>┃\n",
       "┡━━━━━━━━━━━━━━━━━━━━━━━━━━━━━━━━━╇━━━━━━━━━━━━━━━━━━━━━━━━╇━━━━━━━━━━━━━━━┩\n",
       "│ text_input (<span style=\"color: #0087ff; text-decoration-color: #0087ff\">InputLayer</span>)         │ (<span style=\"color: #00d7ff; text-decoration-color: #00d7ff\">None</span>)                 │             <span style=\"color: #00af00; text-decoration-color: #00af00\">0</span> │\n",
       "├─────────────────────────────────┼────────────────────────┼───────────────┤\n",
       "│ text_vectorization              │ (<span style=\"color: #00d7ff; text-decoration-color: #00d7ff\">None</span>, <span style=\"color: #00af00; text-decoration-color: #00af00\">100</span>)            │             <span style=\"color: #00af00; text-decoration-color: #00af00\">0</span> │\n",
       "│ (<span style=\"color: #0087ff; text-decoration-color: #0087ff\">TextVectorization</span>)             │                        │               │\n",
       "├─────────────────────────────────┼────────────────────────┼───────────────┤\n",
       "│ embedding (<span style=\"color: #0087ff; text-decoration-color: #0087ff\">Embedding</span>)           │ (<span style=\"color: #00d7ff; text-decoration-color: #00d7ff\">None</span>, <span style=\"color: #00af00; text-decoration-color: #00af00\">100</span>, <span style=\"color: #00af00; text-decoration-color: #00af00\">16</span>)        │       <span style=\"color: #00af00; text-decoration-color: #00af00\">160,000</span> │\n",
       "├─────────────────────────────────┼────────────────────────┼───────────────┤\n",
       "│ conv1d (<span style=\"color: #0087ff; text-decoration-color: #0087ff\">Conv1D</span>)                 │ (<span style=\"color: #00d7ff; text-decoration-color: #00d7ff\">None</span>, <span style=\"color: #00af00; text-decoration-color: #00af00\">96</span>, <span style=\"color: #00af00; text-decoration-color: #00af00\">128</span>)        │        <span style=\"color: #00af00; text-decoration-color: #00af00\">10,368</span> │\n",
       "├─────────────────────────────────┼────────────────────────┼───────────────┤\n",
       "│ global_max_pooling1d            │ (<span style=\"color: #00d7ff; text-decoration-color: #00d7ff\">None</span>, <span style=\"color: #00af00; text-decoration-color: #00af00\">128</span>)            │             <span style=\"color: #00af00; text-decoration-color: #00af00\">0</span> │\n",
       "│ (<span style=\"color: #0087ff; text-decoration-color: #0087ff\">GlobalMaxPooling1D</span>)            │                        │               │\n",
       "├─────────────────────────────────┼────────────────────────┼───────────────┤\n",
       "│ dense (<span style=\"color: #0087ff; text-decoration-color: #0087ff\">Dense</span>)                   │ (<span style=\"color: #00d7ff; text-decoration-color: #00d7ff\">None</span>, <span style=\"color: #00af00; text-decoration-color: #00af00\">64</span>)             │         <span style=\"color: #00af00; text-decoration-color: #00af00\">8,256</span> │\n",
       "├─────────────────────────────────┼────────────────────────┼───────────────┤\n",
       "│ dropout (<span style=\"color: #0087ff; text-decoration-color: #0087ff\">Dropout</span>)               │ (<span style=\"color: #00d7ff; text-decoration-color: #00d7ff\">None</span>, <span style=\"color: #00af00; text-decoration-color: #00af00\">64</span>)             │             <span style=\"color: #00af00; text-decoration-color: #00af00\">0</span> │\n",
       "├─────────────────────────────────┼────────────────────────┼───────────────┤\n",
       "│ dense_1 (<span style=\"color: #0087ff; text-decoration-color: #0087ff\">Dense</span>)                 │ (<span style=\"color: #00d7ff; text-decoration-color: #00d7ff\">None</span>, <span style=\"color: #00af00; text-decoration-color: #00af00\">1</span>)              │            <span style=\"color: #00af00; text-decoration-color: #00af00\">65</span> │\n",
       "└─────────────────────────────────┴────────────────────────┴───────────────┘\n",
       "</pre>\n"
      ],
      "text/plain": [
       "┏━━━━━━━━━━━━━━━━━━━━━━━━━━━━━━━━━┳━━━━━━━━━━━━━━━━━━━━━━━━┳━━━━━━━━━━━━━━━┓\n",
       "┃\u001b[1m \u001b[0m\u001b[1mLayer (type)                   \u001b[0m\u001b[1m \u001b[0m┃\u001b[1m \u001b[0m\u001b[1mOutput Shape          \u001b[0m\u001b[1m \u001b[0m┃\u001b[1m \u001b[0m\u001b[1m      Param #\u001b[0m\u001b[1m \u001b[0m┃\n",
       "┡━━━━━━━━━━━━━━━━━━━━━━━━━━━━━━━━━╇━━━━━━━━━━━━━━━━━━━━━━━━╇━━━━━━━━━━━━━━━┩\n",
       "│ text_input (\u001b[38;5;33mInputLayer\u001b[0m)         │ (\u001b[38;5;45mNone\u001b[0m)                 │             \u001b[38;5;34m0\u001b[0m │\n",
       "├─────────────────────────────────┼────────────────────────┼───────────────┤\n",
       "│ text_vectorization              │ (\u001b[38;5;45mNone\u001b[0m, \u001b[38;5;34m100\u001b[0m)            │             \u001b[38;5;34m0\u001b[0m │\n",
       "│ (\u001b[38;5;33mTextVectorization\u001b[0m)             │                        │               │\n",
       "├─────────────────────────────────┼────────────────────────┼───────────────┤\n",
       "│ embedding (\u001b[38;5;33mEmbedding\u001b[0m)           │ (\u001b[38;5;45mNone\u001b[0m, \u001b[38;5;34m100\u001b[0m, \u001b[38;5;34m16\u001b[0m)        │       \u001b[38;5;34m160,000\u001b[0m │\n",
       "├─────────────────────────────────┼────────────────────────┼───────────────┤\n",
       "│ conv1d (\u001b[38;5;33mConv1D\u001b[0m)                 │ (\u001b[38;5;45mNone\u001b[0m, \u001b[38;5;34m96\u001b[0m, \u001b[38;5;34m128\u001b[0m)        │        \u001b[38;5;34m10,368\u001b[0m │\n",
       "├─────────────────────────────────┼────────────────────────┼───────────────┤\n",
       "│ global_max_pooling1d            │ (\u001b[38;5;45mNone\u001b[0m, \u001b[38;5;34m128\u001b[0m)            │             \u001b[38;5;34m0\u001b[0m │\n",
       "│ (\u001b[38;5;33mGlobalMaxPooling1D\u001b[0m)            │                        │               │\n",
       "├─────────────────────────────────┼────────────────────────┼───────────────┤\n",
       "│ dense (\u001b[38;5;33mDense\u001b[0m)                   │ (\u001b[38;5;45mNone\u001b[0m, \u001b[38;5;34m64\u001b[0m)             │         \u001b[38;5;34m8,256\u001b[0m │\n",
       "├─────────────────────────────────┼────────────────────────┼───────────────┤\n",
       "│ dropout (\u001b[38;5;33mDropout\u001b[0m)               │ (\u001b[38;5;45mNone\u001b[0m, \u001b[38;5;34m64\u001b[0m)             │             \u001b[38;5;34m0\u001b[0m │\n",
       "├─────────────────────────────────┼────────────────────────┼───────────────┤\n",
       "│ dense_1 (\u001b[38;5;33mDense\u001b[0m)                 │ (\u001b[38;5;45mNone\u001b[0m, \u001b[38;5;34m1\u001b[0m)              │            \u001b[38;5;34m65\u001b[0m │\n",
       "└─────────────────────────────────┴────────────────────────┴───────────────┘\n"
      ]
     },
     "metadata": {},
     "output_type": "display_data"
    },
    {
     "data": {
      "text/html": [
       "<pre style=\"white-space:pre;overflow-x:auto;line-height:normal;font-family:Menlo,'DejaVu Sans Mono',consolas,'Courier New',monospace\"><span style=\"font-weight: bold\"> Total params: </span><span style=\"color: #00af00; text-decoration-color: #00af00\">178,689</span> (698.00 KB)\n",
       "</pre>\n"
      ],
      "text/plain": [
       "\u001b[1m Total params: \u001b[0m\u001b[38;5;34m178,689\u001b[0m (698.00 KB)\n"
      ]
     },
     "metadata": {},
     "output_type": "display_data"
    },
    {
     "data": {
      "text/html": [
       "<pre style=\"white-space:pre;overflow-x:auto;line-height:normal;font-family:Menlo,'DejaVu Sans Mono',consolas,'Courier New',monospace\"><span style=\"font-weight: bold\"> Trainable params: </span><span style=\"color: #00af00; text-decoration-color: #00af00\">178,689</span> (698.00 KB)\n",
       "</pre>\n"
      ],
      "text/plain": [
       "\u001b[1m Trainable params: \u001b[0m\u001b[38;5;34m178,689\u001b[0m (698.00 KB)\n"
      ]
     },
     "metadata": {},
     "output_type": "display_data"
    },
    {
     "data": {
      "text/html": [
       "<pre style=\"white-space:pre;overflow-x:auto;line-height:normal;font-family:Menlo,'DejaVu Sans Mono',consolas,'Courier New',monospace\"><span style=\"font-weight: bold\"> Non-trainable params: </span><span style=\"color: #00af00; text-decoration-color: #00af00\">0</span> (0.00 B)\n",
       "</pre>\n"
      ],
      "text/plain": [
       "\u001b[1m Non-trainable params: \u001b[0m\u001b[38;5;34m0\u001b[0m (0.00 B)\n"
      ]
     },
     "metadata": {},
     "output_type": "display_data"
    }
   ],
   "source": [
    "model = create_model(use_soft_labels=False)\n",
    "model.summary()"
   ]
  },
  {
   "cell_type": "code",
   "execution_count": 14,
   "id": "94ed4a21-6136-4c16-bb39-abe28445ebae",
   "metadata": {},
   "outputs": [
    {
     "name": "stdout",
     "output_type": "stream",
     "text": [
      "Epoch 1/10\n",
      "102/102 - 3s - 29ms/step - accuracy: 0.5887 - loss: 0.6796\n",
      "Epoch 2/10\n",
      "102/102 - 1s - 9ms/step - accuracy: 0.7337 - loss: 0.5646\n",
      "Epoch 3/10\n",
      "102/102 - 1s - 9ms/step - accuracy: 0.8433 - loss: 0.3943\n",
      "Epoch 4/10\n",
      "102/102 - 1s - 9ms/step - accuracy: 0.9334 - loss: 0.2050\n",
      "Epoch 5/10\n",
      "102/102 - 1s - 9ms/step - accuracy: 0.9804 - loss: 0.0840\n",
      "Epoch 6/10\n",
      "102/102 - 1s - 8ms/step - accuracy: 0.9933 - loss: 0.0361\n",
      "Epoch 7/10\n",
      "102/102 - 1s - 9ms/step - accuracy: 0.9972 - loss: 0.0177\n",
      "Epoch 8/10\n",
      "102/102 - 1s - 9ms/step - accuracy: 0.9988 - loss: 0.0097\n",
      "Epoch 9/10\n",
      "102/102 - 1s - 12ms/step - accuracy: 0.9988 - loss: 0.0070\n",
      "Epoch 10/10\n",
      "102/102 - 1s - 9ms/step - accuracy: 1.0000 - loss: 0.0029\n"
     ]
    },
    {
     "data": {
      "text/plain": [
       "<keras.src.callbacks.history.History at 0x166c34fb0>"
      ]
     },
     "execution_count": 14,
     "metadata": {},
     "output_type": "execute_result"
    }
   ],
   "source": [
    "model.fit(train_text, hard_labels, epochs=10, verbose=2)"
   ]
  },
  {
   "cell_type": "code",
   "execution_count": 15,
   "id": "d3b60f86-6390-4076-b31f-ae25c8db6430",
   "metadata": {},
   "outputs": [
    {
     "name": "stdout",
     "output_type": "stream",
     "text": [
      "\u001b[1m31/31\u001b[0m \u001b[32m━━━━━━━━━━━━━━━━━━━━\u001b[0m\u001b[37m\u001b[0m \u001b[1m0s\u001b[0m 8ms/step\n",
      "                                                    tweet  hard_pred\n",
      "600001  This is a BS manosphere comment and I’m shocke...          0\n",
      "600002  Thats why women have to stay at home raise chi...          0\n",
      "600003                                Please be our voice          0\n",
      "600004         even after Roe v Wade was overturned Fun s          0\n",
      "600005  Seriously girls are pictured with ‘I’m a Styli...          1\n",
      "...                                                   ...        ...\n",
      "600974  This straight up sounds like “you look like a ...          1\n",
      "600975  Nathaniel is trying to help me with a new fake...          1\n",
      "600976  walkin back from the gym amp an older lady sho...          1\n",
      "600977  You look like a whore of Babylon bc that’s the...          1\n",
      "600978              You look like a whore Stop projecting          1\n",
      "\n",
      "[978 rows x 2 columns]\n"
     ]
    }
   ],
   "source": [
    "test_df = predict_tweets(model, test_df, label_mode='hard')\n",
    "print(test_df[['tweet', 'hard_pred']])"
   ]
  },
  {
   "cell_type": "code",
   "execution_count": 16,
   "id": "d96fd51b-2508-420c-aef8-1b0ca3c003dc",
   "metadata": {},
   "outputs": [
    {
     "name": "stdout",
     "output_type": "stream",
     "text": [
      "Predictions saved to /Users/naranja/Desktop/EXIST/task_1_1/tweet_hard_predictions.csv\n"
     ]
    }
   ],
   "source": [
    "results = save_predictions_to_csv(test_df, output_file='/Users/naranja/Desktop/EXIST/task_1_1/tweet_hard_predictions.csv')"
   ]
  },
  {
   "cell_type": "code",
   "execution_count": 17,
   "id": "ce91fd2a-5bf3-437d-a6a7-dc9f491974de",
   "metadata": {},
   "outputs": [
    {
     "data": {
      "text/html": [
       "<pre style=\"white-space:pre;overflow-x:auto;line-height:normal;font-family:Menlo,'DejaVu Sans Mono',consolas,'Courier New',monospace\"><span style=\"font-weight: bold\">Model: \"functional_1\"</span>\n",
       "</pre>\n"
      ],
      "text/plain": [
       "\u001b[1mModel: \"functional_1\"\u001b[0m\n"
      ]
     },
     "metadata": {},
     "output_type": "display_data"
    },
    {
     "data": {
      "text/html": [
       "<pre style=\"white-space:pre;overflow-x:auto;line-height:normal;font-family:Menlo,'DejaVu Sans Mono',consolas,'Courier New',monospace\">┏━━━━━━━━━━━━━━━━━━━━━━━━━━━━━━━━━┳━━━━━━━━━━━━━━━━━━━━━━━━┳━━━━━━━━━━━━━━━┓\n",
       "┃<span style=\"font-weight: bold\"> Layer (type)                    </span>┃<span style=\"font-weight: bold\"> Output Shape           </span>┃<span style=\"font-weight: bold\">       Param # </span>┃\n",
       "┡━━━━━━━━━━━━━━━━━━━━━━━━━━━━━━━━━╇━━━━━━━━━━━━━━━━━━━━━━━━╇━━━━━━━━━━━━━━━┩\n",
       "│ text_input (<span style=\"color: #0087ff; text-decoration-color: #0087ff\">InputLayer</span>)         │ (<span style=\"color: #00d7ff; text-decoration-color: #00d7ff\">None</span>)                 │             <span style=\"color: #00af00; text-decoration-color: #00af00\">0</span> │\n",
       "├─────────────────────────────────┼────────────────────────┼───────────────┤\n",
       "│ text_vectorization              │ (<span style=\"color: #00d7ff; text-decoration-color: #00d7ff\">None</span>, <span style=\"color: #00af00; text-decoration-color: #00af00\">100</span>)            │             <span style=\"color: #00af00; text-decoration-color: #00af00\">0</span> │\n",
       "│ (<span style=\"color: #0087ff; text-decoration-color: #0087ff\">TextVectorization</span>)             │                        │               │\n",
       "├─────────────────────────────────┼────────────────────────┼───────────────┤\n",
       "│ embedding_1 (<span style=\"color: #0087ff; text-decoration-color: #0087ff\">Embedding</span>)         │ (<span style=\"color: #00d7ff; text-decoration-color: #00d7ff\">None</span>, <span style=\"color: #00af00; text-decoration-color: #00af00\">100</span>, <span style=\"color: #00af00; text-decoration-color: #00af00\">16</span>)        │       <span style=\"color: #00af00; text-decoration-color: #00af00\">160,000</span> │\n",
       "├─────────────────────────────────┼────────────────────────┼───────────────┤\n",
       "│ conv1d_1 (<span style=\"color: #0087ff; text-decoration-color: #0087ff\">Conv1D</span>)               │ (<span style=\"color: #00d7ff; text-decoration-color: #00d7ff\">None</span>, <span style=\"color: #00af00; text-decoration-color: #00af00\">96</span>, <span style=\"color: #00af00; text-decoration-color: #00af00\">128</span>)        │        <span style=\"color: #00af00; text-decoration-color: #00af00\">10,368</span> │\n",
       "├─────────────────────────────────┼────────────────────────┼───────────────┤\n",
       "│ global_max_pooling1d_1          │ (<span style=\"color: #00d7ff; text-decoration-color: #00d7ff\">None</span>, <span style=\"color: #00af00; text-decoration-color: #00af00\">128</span>)            │             <span style=\"color: #00af00; text-decoration-color: #00af00\">0</span> │\n",
       "│ (<span style=\"color: #0087ff; text-decoration-color: #0087ff\">GlobalMaxPooling1D</span>)            │                        │               │\n",
       "├─────────────────────────────────┼────────────────────────┼───────────────┤\n",
       "│ dense_2 (<span style=\"color: #0087ff; text-decoration-color: #0087ff\">Dense</span>)                 │ (<span style=\"color: #00d7ff; text-decoration-color: #00d7ff\">None</span>, <span style=\"color: #00af00; text-decoration-color: #00af00\">64</span>)             │         <span style=\"color: #00af00; text-decoration-color: #00af00\">8,256</span> │\n",
       "├─────────────────────────────────┼────────────────────────┼───────────────┤\n",
       "│ dropout_1 (<span style=\"color: #0087ff; text-decoration-color: #0087ff\">Dropout</span>)             │ (<span style=\"color: #00d7ff; text-decoration-color: #00d7ff\">None</span>, <span style=\"color: #00af00; text-decoration-color: #00af00\">64</span>)             │             <span style=\"color: #00af00; text-decoration-color: #00af00\">0</span> │\n",
       "├─────────────────────────────────┼────────────────────────┼───────────────┤\n",
       "│ dense_3 (<span style=\"color: #0087ff; text-decoration-color: #0087ff\">Dense</span>)                 │ (<span style=\"color: #00d7ff; text-decoration-color: #00d7ff\">None</span>, <span style=\"color: #00af00; text-decoration-color: #00af00\">2</span>)              │           <span style=\"color: #00af00; text-decoration-color: #00af00\">130</span> │\n",
       "└─────────────────────────────────┴────────────────────────┴───────────────┘\n",
       "</pre>\n"
      ],
      "text/plain": [
       "┏━━━━━━━━━━━━━━━━━━━━━━━━━━━━━━━━━┳━━━━━━━━━━━━━━━━━━━━━━━━┳━━━━━━━━━━━━━━━┓\n",
       "┃\u001b[1m \u001b[0m\u001b[1mLayer (type)                   \u001b[0m\u001b[1m \u001b[0m┃\u001b[1m \u001b[0m\u001b[1mOutput Shape          \u001b[0m\u001b[1m \u001b[0m┃\u001b[1m \u001b[0m\u001b[1m      Param #\u001b[0m\u001b[1m \u001b[0m┃\n",
       "┡━━━━━━━━━━━━━━━━━━━━━━━━━━━━━━━━━╇━━━━━━━━━━━━━━━━━━━━━━━━╇━━━━━━━━━━━━━━━┩\n",
       "│ text_input (\u001b[38;5;33mInputLayer\u001b[0m)         │ (\u001b[38;5;45mNone\u001b[0m)                 │             \u001b[38;5;34m0\u001b[0m │\n",
       "├─────────────────────────────────┼────────────────────────┼───────────────┤\n",
       "│ text_vectorization              │ (\u001b[38;5;45mNone\u001b[0m, \u001b[38;5;34m100\u001b[0m)            │             \u001b[38;5;34m0\u001b[0m │\n",
       "│ (\u001b[38;5;33mTextVectorization\u001b[0m)             │                        │               │\n",
       "├─────────────────────────────────┼────────────────────────┼───────────────┤\n",
       "│ embedding_1 (\u001b[38;5;33mEmbedding\u001b[0m)         │ (\u001b[38;5;45mNone\u001b[0m, \u001b[38;5;34m100\u001b[0m, \u001b[38;5;34m16\u001b[0m)        │       \u001b[38;5;34m160,000\u001b[0m │\n",
       "├─────────────────────────────────┼────────────────────────┼───────────────┤\n",
       "│ conv1d_1 (\u001b[38;5;33mConv1D\u001b[0m)               │ (\u001b[38;5;45mNone\u001b[0m, \u001b[38;5;34m96\u001b[0m, \u001b[38;5;34m128\u001b[0m)        │        \u001b[38;5;34m10,368\u001b[0m │\n",
       "├─────────────────────────────────┼────────────────────────┼───────────────┤\n",
       "│ global_max_pooling1d_1          │ (\u001b[38;5;45mNone\u001b[0m, \u001b[38;5;34m128\u001b[0m)            │             \u001b[38;5;34m0\u001b[0m │\n",
       "│ (\u001b[38;5;33mGlobalMaxPooling1D\u001b[0m)            │                        │               │\n",
       "├─────────────────────────────────┼────────────────────────┼───────────────┤\n",
       "│ dense_2 (\u001b[38;5;33mDense\u001b[0m)                 │ (\u001b[38;5;45mNone\u001b[0m, \u001b[38;5;34m64\u001b[0m)             │         \u001b[38;5;34m8,256\u001b[0m │\n",
       "├─────────────────────────────────┼────────────────────────┼───────────────┤\n",
       "│ dropout_1 (\u001b[38;5;33mDropout\u001b[0m)             │ (\u001b[38;5;45mNone\u001b[0m, \u001b[38;5;34m64\u001b[0m)             │             \u001b[38;5;34m0\u001b[0m │\n",
       "├─────────────────────────────────┼────────────────────────┼───────────────┤\n",
       "│ dense_3 (\u001b[38;5;33mDense\u001b[0m)                 │ (\u001b[38;5;45mNone\u001b[0m, \u001b[38;5;34m2\u001b[0m)              │           \u001b[38;5;34m130\u001b[0m │\n",
       "└─────────────────────────────────┴────────────────────────┴───────────────┘\n"
      ]
     },
     "metadata": {},
     "output_type": "display_data"
    },
    {
     "data": {
      "text/html": [
       "<pre style=\"white-space:pre;overflow-x:auto;line-height:normal;font-family:Menlo,'DejaVu Sans Mono',consolas,'Courier New',monospace\"><span style=\"font-weight: bold\"> Total params: </span><span style=\"color: #00af00; text-decoration-color: #00af00\">178,754</span> (698.26 KB)\n",
       "</pre>\n"
      ],
      "text/plain": [
       "\u001b[1m Total params: \u001b[0m\u001b[38;5;34m178,754\u001b[0m (698.26 KB)\n"
      ]
     },
     "metadata": {},
     "output_type": "display_data"
    },
    {
     "data": {
      "text/html": [
       "<pre style=\"white-space:pre;overflow-x:auto;line-height:normal;font-family:Menlo,'DejaVu Sans Mono',consolas,'Courier New',monospace\"><span style=\"font-weight: bold\"> Trainable params: </span><span style=\"color: #00af00; text-decoration-color: #00af00\">178,754</span> (698.26 KB)\n",
       "</pre>\n"
      ],
      "text/plain": [
       "\u001b[1m Trainable params: \u001b[0m\u001b[38;5;34m178,754\u001b[0m (698.26 KB)\n"
      ]
     },
     "metadata": {},
     "output_type": "display_data"
    },
    {
     "data": {
      "text/html": [
       "<pre style=\"white-space:pre;overflow-x:auto;line-height:normal;font-family:Menlo,'DejaVu Sans Mono',consolas,'Courier New',monospace\"><span style=\"font-weight: bold\"> Non-trainable params: </span><span style=\"color: #00af00; text-decoration-color: #00af00\">0</span> (0.00 B)\n",
       "</pre>\n"
      ],
      "text/plain": [
       "\u001b[1m Non-trainable params: \u001b[0m\u001b[38;5;34m0\u001b[0m (0.00 B)\n"
      ]
     },
     "metadata": {},
     "output_type": "display_data"
    }
   ],
   "source": [
    "model_soft = create_model(use_soft_labels=True)\n",
    "model_soft.summary()"
   ]
  },
  {
   "cell_type": "code",
   "execution_count": 18,
   "id": "59671368-3499-484b-ad8b-d1d391d8fb59",
   "metadata": {},
   "outputs": [
    {
     "name": "stdout",
     "output_type": "stream",
     "text": [
      "Epoch 1/10\n",
      "102/102 - 2s - 24ms/step - accuracy: 0.5328 - loss: 0.6807\n",
      "Epoch 2/10\n",
      "102/102 - 1s - 8ms/step - accuracy: 0.6678 - loss: 0.6196\n",
      "Epoch 3/10\n",
      "102/102 - 1s - 8ms/step - accuracy: 0.8362 - loss: 0.5277\n",
      "Epoch 4/10\n",
      "102/102 - 1s - 8ms/step - accuracy: 0.8960 - loss: 0.4726\n",
      "Epoch 5/10\n",
      "102/102 - 1s - 8ms/step - accuracy: 0.9178 - loss: 0.4493\n",
      "Epoch 6/10\n",
      "102/102 - 1s - 8ms/step - accuracy: 0.9138 - loss: 0.4373\n",
      "Epoch 7/10\n",
      "102/102 - 1s - 8ms/step - accuracy: 0.9245 - loss: 0.4246\n",
      "Epoch 8/10\n",
      "102/102 - 1s - 8ms/step - accuracy: 0.9236 - loss: 0.4147\n",
      "Epoch 9/10\n",
      "102/102 - 1s - 8ms/step - accuracy: 0.9316 - loss: 0.4074\n",
      "Epoch 10/10\n",
      "102/102 - 1s - 8ms/step - accuracy: 0.9294 - loss: 0.4043\n"
     ]
    },
    {
     "data": {
      "text/plain": [
       "<keras.src.callbacks.history.History at 0x16755c380>"
      ]
     },
     "execution_count": 18,
     "metadata": {},
     "output_type": "execute_result"
    }
   ],
   "source": [
    "model_soft.fit(train_text, train_soft_labels, epochs=10, verbose=2)"
   ]
  },
  {
   "cell_type": "code",
   "execution_count": 19,
   "id": "dfbf25d4-5c92-4e52-b1be-eaefaa8d09fc",
   "metadata": {},
   "outputs": [
    {
     "name": "stdout",
     "output_type": "stream",
     "text": [
      "\u001b[1m31/31\u001b[0m \u001b[32m━━━━━━━━━━━━━━━━━━━━\u001b[0m\u001b[37m\u001b[0m \u001b[1m0s\u001b[0m 7ms/step\n",
      "                                                    tweet  \\\n",
      "600001  This is a BS manosphere comment and I’m shocke...   \n",
      "600002  Thats why women have to stay at home raise chi...   \n",
      "600003                                Please be our voice   \n",
      "600004         even after Roe v Wade was overturned Fun s   \n",
      "600005  Seriously girls are pictured with ‘I’m a Styli...   \n",
      "...                                                   ...   \n",
      "600974  This straight up sounds like “you look like a ...   \n",
      "600975  Nathaniel is trying to help me with a new fake...   \n",
      "600976  walkin back from the gym amp an older lady sho...   \n",
      "600977  You look like a whore of Babylon bc that’s the...   \n",
      "600978              You look like a whore Stop projecting   \n",
      "\n",
      "                                        soft_pred  \n",
      "600001  [0.49546578526496887, 0.5045343041419983]  \n",
      "600002  [0.34989121556282043, 0.6501086950302124]  \n",
      "600003   [0.3028181195259094, 0.6971818804740906]  \n",
      "600004  [0.15705890953540802, 0.8429411053657532]  \n",
      "600005   [0.820511519908905, 0.17948848009109497]  \n",
      "...                                           ...  \n",
      "600974  [0.9390566945075989, 0.06094321608543396]  \n",
      "600975  [0.6366736888885498, 0.36332640051841736]  \n",
      "600976   [0.8566333055496216, 0.1433667093515396]  \n",
      "600977  [0.8955535292625427, 0.10444645583629608]  \n",
      "600978  [0.9842038750648499, 0.01579609140753746]  \n",
      "\n",
      "[978 rows x 2 columns]\n"
     ]
    }
   ],
   "source": [
    "test_df = predict_tweets(model_soft, test_df, label_mode='soft')\n",
    "print(test_df[['tweet', 'soft_pred']])"
   ]
  },
  {
   "cell_type": "code",
   "execution_count": 20,
   "id": "bd4819d3-da72-4f4f-81ea-b85deda37ac4",
   "metadata": {},
   "outputs": [
    {
     "name": "stdout",
     "output_type": "stream",
     "text": [
      "Predictions saved to /Users/naranja/Desktop/EXIST/task_1_1/tweet_soft_predictions.csv\n"
     ]
    }
   ],
   "source": [
    "results = save_predictions_to_csv(test_df, output_file='/Users/naranja/Desktop/EXIST/task_1_1/tweet_soft_predictions.csv')"
   ]
  },
  {
   "cell_type": "code",
   "execution_count": 21,
   "id": "96450c53-8821-46ec-a7d9-8beef49e4d8c",
   "metadata": {},
   "outputs": [],
   "source": [
    "####################################################################################################################################"
   ]
  },
  {
   "cell_type": "code",
   "execution_count": 22,
   "id": "901cf73a-73aa-494b-a604-8265de9a4e43",
   "metadata": {},
   "outputs": [],
   "source": [
    "#####################################        MULTI_CLASS TEXT CLASSIFICATION          ##############################################"
   ]
  },
  {
   "cell_type": "code",
   "execution_count": 23,
   "id": "e6a5b6f4-b78c-4375-9d0b-9df5c284bb5e",
   "metadata": {},
   "outputs": [],
   "source": [
    "####################################################################################################################################"
   ]
  },
  {
   "cell_type": "code",
   "execution_count": 24,
   "id": "0c8f5646-8712-4ff4-bbb5-50b517b253db",
   "metadata": {},
   "outputs": [
    {
     "data": {
      "text/plain": [
       "4"
      ]
     },
     "execution_count": 24,
     "metadata": {},
     "output_type": "execute_result"
    }
   ],
   "source": [
    "from sklearn.preprocessing import LabelEncoder\n",
    "\n",
    "all_labels = ['-', 'DIRECT', 'JUDGEMENTAL', 'REPORTED']\n",
    "label_encoder = LabelEncoder()\n",
    "label_encoder.fit(all_labels)\n",
    "num_classes = len(all_labels)\n",
    "num_classes"
   ]
  },
  {
   "cell_type": "code",
   "execution_count": 25,
   "id": "7358fee9-9a73-46cd-9ade-19af15ee0fa7",
   "metadata": {},
   "outputs": [],
   "source": [
    "def get_majority_label(label_list):\n",
    "    return max(set(label_list), key=label_list.count)\n",
    "\n",
    "train_df['labels_task1_2_hard'] = train_df['labels_task1_2'].apply(get_majority_label)\n",
    "train_df['hard_label_encoded'] = label_encoder.transform(train_df['labels_task1_2_hard'])"
   ]
  },
  {
   "cell_type": "code",
   "execution_count": 26,
   "id": "380865aa-7d72-41fe-90f9-70a9eba08a3a",
   "metadata": {},
   "outputs": [],
   "source": [
    "def get_soft_label(label_list):\n",
    "    counts = np.zeros(num_classes)\n",
    "    valid_labels = [label for label in label_list if label in all_labels]  # exclude 'UNKNOWN' or others\n",
    "    if not valid_labels:\n",
    "        return counts  # or you can return uniform distribution if preferred\n",
    "    for label in valid_labels:\n",
    "        idx = label_encoder.transform([label])[0]\n",
    "        counts[idx] += 1\n",
    "    return counts / len(valid_labels)\n",
    "\n",
    "train_df['soft_label'] = train_df['labels_task1_2'].apply(get_soft_label)"
   ]
  },
  {
   "cell_type": "code",
   "execution_count": 27,
   "id": "7b8cdffa-f792-486c-b214-08d5d5ce9d99",
   "metadata": {},
   "outputs": [],
   "source": [
    "import pandas as pd\n",
    "\n",
    "def get_yes_predictions_df(csv_path):\n",
    "    # Load CSV\n",
    "    df = pd.read_csv(csv_path)\n",
    "    filtered_df = df['id']\n",
    "    # Normalize 'Prediction' column (strip spaces and lowercase)\n",
    "    df['Prediction'] = df['Prediction'].astype(str).str.strip().str.lower()\n",
    "    \n",
    "    # Filter for rows where prediction is 'yes'\n",
    "    filtered_df = df[df['Prediction'] == 'yes']\n",
    "    \n",
    "    # Optional: restore original case in 'Prediction' if needed\n",
    "    filtered_df['Prediction'] = 'Yes'\n",
    "    \n",
    "    return filtered_df[['id', 'Tweet', 'Prediction']]"
   ]
  },
  {
   "cell_type": "code",
   "execution_count": 28,
   "id": "5c26facc-a4f7-413d-8b7d-1e90fe881e49",
   "metadata": {},
   "outputs": [],
   "source": [
    "csv_file_train = '/Users/naranja/Desktop/EXIST/task_1_2/training.csv'\n",
    "csv_file_test = '/Users/naranja/Desktop/EXIST/task_1_2/test.csv'\n",
    "train_df.to_csv(csv_file_train, index=False)\n",
    "test_df.to_csv(csv_file_test, index=False)"
   ]
  },
  {
   "cell_type": "code",
   "execution_count": 29,
   "id": "39818ff7-c069-4423-8a44-325549d3c315",
   "metadata": {},
   "outputs": [],
   "source": [
    "train_text = train_df['tweet'].astype(str).to_numpy()\n",
    "hard_labels = train_df['hard_label_encoded'].astype('int32').to_numpy()\n",
    "soft_labels = np.stack(train_df['soft_label'].to_numpy()).astype(np.float32)"
   ]
  },
  {
   "cell_type": "code",
   "execution_count": 30,
   "id": "21632ac8-25d2-4405-8f6f-42440f7bebee",
   "metadata": {},
   "outputs": [],
   "source": [
    "tokenizer = Tokenizer(num_words=1000, oov_token=\"<OOV>\")\n",
    "tokenizer.fit_on_texts(train_df['tweet'])"
   ]
  },
  {
   "cell_type": "code",
   "execution_count": 31,
   "id": "c2d0fa59-5864-40ac-9207-dc2014bae3f4",
   "metadata": {},
   "outputs": [
    {
     "name": "stderr",
     "output_type": "stream",
     "text": [
      "/var/folders/_h/hm7x1kqd4955mvw_gq9y710r0000gn/T/ipykernel_24463/3973056682.py:14: SettingWithCopyWarning: \n",
      "A value is trying to be set on a copy of a slice from a DataFrame.\n",
      "Try using .loc[row_indexer,col_indexer] = value instead\n",
      "\n",
      "See the caveats in the documentation: https://pandas.pydata.org/pandas-docs/stable/user_guide/indexing.html#returning-a-view-versus-a-copy\n",
      "  filtered_df['Prediction'] = 'Yes'\n",
      "/var/folders/_h/hm7x1kqd4955mvw_gq9y710r0000gn/T/ipykernel_24463/3973056682.py:14: SettingWithCopyWarning: \n",
      "A value is trying to be set on a copy of a slice from a DataFrame.\n",
      "Try using .loc[row_indexer,col_indexer] = value instead\n",
      "\n",
      "See the caveats in the documentation: https://pandas.pydata.org/pandas-docs/stable/user_guide/indexing.html#returning-a-view-versus-a-copy\n",
      "  filtered_df['Prediction'] = 'Yes'\n"
     ]
    }
   ],
   "source": [
    "yes_hard_df = get_yes_predictions_df('/Users/naranja/Desktop/EXIST/task_1_1/tweet_hard_predictions.csv')\n",
    "yes_soft_df = get_yes_predictions_df('/Users/naranja/Desktop/EXIST/task_1_1/tweet_soft_predictions.csv')"
   ]
  },
  {
   "cell_type": "code",
   "execution_count": 32,
   "id": "1b2c48b2-aff2-4a7f-8f67-6a841e6a2df9",
   "metadata": {},
   "outputs": [],
   "source": [
    "train_sequences = tokenizer.texts_to_sequences(train_df['tweet'])\n",
    "test_hard_sequences = tokenizer.texts_to_sequences(yes_hard_df['Tweet'])\n",
    "test_soft_sequences = tokenizer.texts_to_sequences(yes_soft_df['Tweet'])"
   ]
  },
  {
   "cell_type": "code",
   "execution_count": 33,
   "id": "3ed7ec34-cbea-48a3-970e-23ea7ce35a33",
   "metadata": {},
   "outputs": [],
   "source": [
    "maxlen = max(len(seq) for seq in train_sequences)\n",
    "train_padded = pad_sequences(train_sequences, padding='post', maxlen=maxlen)\n",
    "test_hard_padded = pad_sequences(test_hard_sequences, padding='post', maxlen=maxlen)\n",
    "test_soft_padded = pad_sequences(test_soft_sequences, padding='post', maxlen=maxlen)"
   ]
  },
  {
   "cell_type": "code",
   "execution_count": 34,
   "id": "fd5e87a0-d80c-4969-a369-37de939193fa",
   "metadata": {},
   "outputs": [],
   "source": [
    "y_train_hard = tf.keras.utils.to_categorical(train_df['hard_label_encoded'], num_classes=num_classes)\n",
    "y_train_soft = np.stack(train_df['soft_label'].values)"
   ]
  },
  {
   "cell_type": "code",
   "execution_count": 35,
   "id": "aa635b37-7a89-42d6-95cd-379b516a2f24",
   "metadata": {},
   "outputs": [],
   "source": [
    "def create_model():\n",
    "    model = tf.keras.Sequential([\n",
    "        tf.keras.layers.Embedding(input_dim=1000, output_dim=16, input_length=maxlen),\n",
    "        tf.keras.layers.GlobalAveragePooling1D(),\n",
    "        tf.keras.layers.Dense(24, activation='relu'),\n",
    "        tf.keras.layers.Dense(num_classes, activation='softmax')\n",
    "    ])\n",
    "    model.compile(loss='categorical_crossentropy', optimizer='adam', metrics=['accuracy'])\n",
    "    \n",
    "    return model"
   ]
  },
  {
   "cell_type": "code",
   "execution_count": 36,
   "id": "0616cd38-7774-47ee-b02c-f9cd38a2fbaf",
   "metadata": {},
   "outputs": [
    {
     "name": "stdout",
     "output_type": "stream",
     "text": [
      "Training model with hard label supervision...\n",
      "Epoch 1/20\n"
     ]
    },
    {
     "name": "stderr",
     "output_type": "stream",
     "text": [
      "/Users/naranja/opt/anaconda3/lib/python3.12/site-packages/keras/src/layers/core/embedding.py:90: UserWarning: Argument `input_length` is deprecated. Just remove it.\n",
      "  warnings.warn(\n"
     ]
    },
    {
     "name": "stdout",
     "output_type": "stream",
     "text": [
      "\u001b[1m102/102\u001b[0m \u001b[32m━━━━━━━━━━━━━━━━━━━━\u001b[0m\u001b[37m\u001b[0m \u001b[1m2s\u001b[0m 4ms/step - accuracy: 0.5970 - loss: 1.2202\n",
      "Epoch 2/20\n",
      "\u001b[1m102/102\u001b[0m \u001b[32m━━━━━━━━━━━━━━━━━━━━\u001b[0m\u001b[37m\u001b[0m \u001b[1m0s\u001b[0m 4ms/step - accuracy: 0.6237 - loss: 0.9824\n",
      "Epoch 3/20\n",
      "\u001b[1m102/102\u001b[0m \u001b[32m━━━━━━━━━━━━━━━━━━━━\u001b[0m\u001b[37m\u001b[0m \u001b[1m1s\u001b[0m 3ms/step - accuracy: 0.6232 - loss: 0.9729\n",
      "Epoch 4/20\n",
      "\u001b[1m102/102\u001b[0m \u001b[32m━━━━━━━━━━━━━━━━━━━━\u001b[0m\u001b[37m\u001b[0m \u001b[1m0s\u001b[0m 3ms/step - accuracy: 0.6376 - loss: 0.9421\n",
      "Epoch 5/20\n",
      "\u001b[1m102/102\u001b[0m \u001b[32m━━━━━━━━━━━━━━━━━━━━\u001b[0m\u001b[37m\u001b[0m \u001b[1m1s\u001b[0m 7ms/step - accuracy: 0.6114 - loss: 0.9466\n",
      "Epoch 6/20\n",
      "\u001b[1m102/102\u001b[0m \u001b[32m━━━━━━━━━━━━━━━━━━━━\u001b[0m\u001b[37m\u001b[0m \u001b[1m1s\u001b[0m 6ms/step - accuracy: 0.6227 - loss: 0.9425\n",
      "Epoch 7/20\n",
      "\u001b[1m102/102\u001b[0m \u001b[32m━━━━━━━━━━━━━━━━━━━━\u001b[0m\u001b[37m\u001b[0m \u001b[1m1s\u001b[0m 5ms/step - accuracy: 0.6274 - loss: 0.9282\n",
      "Epoch 8/20\n",
      "\u001b[1m102/102\u001b[0m \u001b[32m━━━━━━━━━━━━━━━━━━━━\u001b[0m\u001b[37m\u001b[0m \u001b[1m1s\u001b[0m 3ms/step - accuracy: 0.6275 - loss: 0.9198\n",
      "Epoch 9/20\n",
      "\u001b[1m102/102\u001b[0m \u001b[32m━━━━━━━━━━━━━━━━━━━━\u001b[0m\u001b[37m\u001b[0m \u001b[1m0s\u001b[0m 3ms/step - accuracy: 0.6340 - loss: 0.9092\n",
      "Epoch 10/20\n",
      "\u001b[1m102/102\u001b[0m \u001b[32m━━━━━━━━━━━━━━━━━━━━\u001b[0m\u001b[37m\u001b[0m \u001b[1m0s\u001b[0m 3ms/step - accuracy: 0.6456 - loss: 0.8765\n",
      "Epoch 11/20\n",
      "\u001b[1m102/102\u001b[0m \u001b[32m━━━━━━━━━━━━━━━━━━━━\u001b[0m\u001b[37m\u001b[0m \u001b[1m0s\u001b[0m 3ms/step - accuracy: 0.6732 - loss: 0.8350\n",
      "Epoch 12/20\n",
      "\u001b[1m102/102\u001b[0m \u001b[32m━━━━━━━━━━━━━━━━━━━━\u001b[0m\u001b[37m\u001b[0m \u001b[1m0s\u001b[0m 3ms/step - accuracy: 0.6816 - loss: 0.8247\n",
      "Epoch 13/20\n",
      "\u001b[1m102/102\u001b[0m \u001b[32m━━━━━━━━━━━━━━━━━━━━\u001b[0m\u001b[37m\u001b[0m \u001b[1m0s\u001b[0m 4ms/step - accuracy: 0.6804 - loss: 0.8120\n",
      "Epoch 14/20\n",
      "\u001b[1m102/102\u001b[0m \u001b[32m━━━━━━━━━━━━━━━━━━━━\u001b[0m\u001b[37m\u001b[0m \u001b[1m0s\u001b[0m 4ms/step - accuracy: 0.6961 - loss: 0.7815\n",
      "Epoch 15/20\n",
      "\u001b[1m102/102\u001b[0m \u001b[32m━━━━━━━━━━━━━━━━━━━━\u001b[0m\u001b[37m\u001b[0m \u001b[1m0s\u001b[0m 2ms/step - accuracy: 0.7075 - loss: 0.7634\n",
      "Epoch 16/20\n",
      "\u001b[1m102/102\u001b[0m \u001b[32m━━━━━━━━━━━━━━━━━━━━\u001b[0m\u001b[37m\u001b[0m \u001b[1m0s\u001b[0m 2ms/step - accuracy: 0.7008 - loss: 0.7627\n",
      "Epoch 17/20\n",
      "\u001b[1m102/102\u001b[0m \u001b[32m━━━━━━━━━━━━━━━━━━━━\u001b[0m\u001b[37m\u001b[0m \u001b[1m0s\u001b[0m 4ms/step - accuracy: 0.7158 - loss: 0.7533\n",
      "Epoch 18/20\n",
      "\u001b[1m102/102\u001b[0m \u001b[32m━━━━━━━━━━━━━━━━━━━━\u001b[0m\u001b[37m\u001b[0m \u001b[1m0s\u001b[0m 4ms/step - accuracy: 0.7098 - loss: 0.7366\n",
      "Epoch 19/20\n",
      "\u001b[1m102/102\u001b[0m \u001b[32m━━━━━━━━━━━━━━━━━━━━\u001b[0m\u001b[37m\u001b[0m \u001b[1m0s\u001b[0m 4ms/step - accuracy: 0.7213 - loss: 0.7338\n",
      "Epoch 20/20\n",
      "\u001b[1m102/102\u001b[0m \u001b[32m━━━━━━━━━━━━━━━━━━━━\u001b[0m\u001b[37m\u001b[0m \u001b[1m0s\u001b[0m 2ms/step - accuracy: 0.7356 - loss: 0.6982\n"
     ]
    },
    {
     "data": {
      "text/plain": [
       "<keras.src.callbacks.history.History at 0x168158e60>"
      ]
     },
     "execution_count": 36,
     "metadata": {},
     "output_type": "execute_result"
    }
   ],
   "source": [
    "model = create_model()\n",
    "print(\"Training model with hard label supervision...\")\n",
    "model.fit(train_padded, y_train_hard, epochs=20)"
   ]
  },
  {
   "cell_type": "code",
   "execution_count": 37,
   "id": "6d579695-46f9-49f1-8b21-6d2bf74233d0",
   "metadata": {},
   "outputs": [
    {
     "name": "stdout",
     "output_type": "stream",
     "text": [
      "\u001b[1m13/13\u001b[0m \u001b[32m━━━━━━━━━━━━━━━━━━━━\u001b[0m\u001b[37m\u001b[0m \u001b[1m0s\u001b[0m 8ms/step\n"
     ]
    }
   ],
   "source": [
    "predictions = model.predict(test_hard_padded)"
   ]
  },
  {
   "cell_type": "code",
   "execution_count": 38,
   "id": "6e1e3aad-ae68-45e9-ab4b-188ebd5aa500",
   "metadata": {
    "scrolled": true
   },
   "outputs": [
    {
     "name": "stdout",
     "output_type": "stream",
     "text": [
      "                                                 Tweet predicted_hard_label\n",
      "4    Seriously girls are pictured with ‘I’m a Styli...               DIRECT\n",
      "5    not a great look for the French Cycling Federa...                    -\n",
      "10   The complaints of going too far whenever a tra...                    -\n",
      "11   I’m not gonna do it cos the design guy support...                    -\n",
      "12   The fact that some men assault transwomen too ...                    -\n",
      "..                                                 ...                  ...\n",
      "973  This straight up sounds like “you look like a ...               DIRECT\n",
      "974  Nathaniel is trying to help me with a new fake...               DIRECT\n",
      "975  walkin back from the gym amp an older lady sho...               DIRECT\n",
      "976  You look like a whore of Babylon bc that’s the...               DIRECT\n",
      "977              You look like a whore Stop projecting               DIRECT\n",
      "\n",
      "[410 rows x 2 columns]\n"
     ]
    }
   ],
   "source": [
    "# === 9. Convert Predictions to Class Labels ===\n",
    "yes_hard_df['predicted_hard_label'] = label_encoder.inverse_transform(np.argmax(predictions, axis=1))\n",
    "yes_hard_df['predicted_hard_distribution'] = predictions.tolist()\n",
    "\n",
    "# === 10. View Results ===\n",
    "print(yes_hard_df[['Tweet', 'predicted_hard_label']])"
   ]
  },
  {
   "cell_type": "code",
   "execution_count": 39,
   "id": "00eff483-af1f-4d51-85ae-cdcefd7afbec",
   "metadata": {},
   "outputs": [
    {
     "name": "stdout",
     "output_type": "stream",
     "text": [
      "Training model with soft label supervision...\n",
      "Epoch 1/20\n"
     ]
    },
    {
     "name": "stderr",
     "output_type": "stream",
     "text": [
      "/Users/naranja/opt/anaconda3/lib/python3.12/site-packages/keras/src/layers/core/embedding.py:90: UserWarning: Argument `input_length` is deprecated. Just remove it.\n",
      "  warnings.warn(\n"
     ]
    },
    {
     "name": "stdout",
     "output_type": "stream",
     "text": [
      "\u001b[1m102/102\u001b[0m \u001b[32m━━━━━━━━━━━━━━━━━━━━\u001b[0m\u001b[37m\u001b[0m \u001b[1m2s\u001b[0m 2ms/step - accuracy: 0.6697 - loss: 1.2296\n",
      "Epoch 2/20\n",
      "\u001b[1m102/102\u001b[0m \u001b[32m━━━━━━━━━━━━━━━━━━━━\u001b[0m\u001b[37m\u001b[0m \u001b[1m0s\u001b[0m 2ms/step - accuracy: 0.7027 - loss: 1.1050\n",
      "Epoch 3/20\n",
      "\u001b[1m102/102\u001b[0m \u001b[32m━━━━━━━━━━━━━━━━━━━━\u001b[0m\u001b[37m\u001b[0m \u001b[1m0s\u001b[0m 2ms/step - accuracy: 0.7120 - loss: 1.0855\n",
      "Epoch 4/20\n",
      "\u001b[1m102/102\u001b[0m \u001b[32m━━━━━━━━━━━━━━━━━━━━\u001b[0m\u001b[37m\u001b[0m \u001b[1m0s\u001b[0m 2ms/step - accuracy: 0.7069 - loss: 1.0831\n",
      "Epoch 5/20\n",
      "\u001b[1m102/102\u001b[0m \u001b[32m━━━━━━━━━━━━━━━━━━━━\u001b[0m\u001b[37m\u001b[0m \u001b[1m0s\u001b[0m 3ms/step - accuracy: 0.7051 - loss: 1.0710\n",
      "Epoch 6/20\n",
      "\u001b[1m102/102\u001b[0m \u001b[32m━━━━━━━━━━━━━━━━━━━━\u001b[0m\u001b[37m\u001b[0m \u001b[1m1s\u001b[0m 4ms/step - accuracy: 0.7192 - loss: 1.0564\n",
      "Epoch 7/20\n",
      "\u001b[1m102/102\u001b[0m \u001b[32m━━━━━━━━━━━━━━━━━━━━\u001b[0m\u001b[37m\u001b[0m \u001b[1m0s\u001b[0m 2ms/step - accuracy: 0.7166 - loss: 1.0427\n",
      "Epoch 8/20\n",
      "\u001b[1m102/102\u001b[0m \u001b[32m━━━━━━━━━━━━━━━━━━━━\u001b[0m\u001b[37m\u001b[0m \u001b[1m0s\u001b[0m 2ms/step - accuracy: 0.7147 - loss: 1.0432\n",
      "Epoch 9/20\n",
      "\u001b[1m102/102\u001b[0m \u001b[32m━━━━━━━━━━━━━━━━━━━━\u001b[0m\u001b[37m\u001b[0m \u001b[1m0s\u001b[0m 2ms/step - accuracy: 0.7177 - loss: 1.0341\n",
      "Epoch 10/20\n",
      "\u001b[1m102/102\u001b[0m \u001b[32m━━━━━━━━━━━━━━━━━━━━\u001b[0m\u001b[37m\u001b[0m \u001b[1m0s\u001b[0m 2ms/step - accuracy: 0.7232 - loss: 1.0196\n",
      "Epoch 11/20\n",
      "\u001b[1m102/102\u001b[0m \u001b[32m━━━━━━━━━━━━━━━━━━━━\u001b[0m\u001b[37m\u001b[0m \u001b[1m1s\u001b[0m 5ms/step - accuracy: 0.7354 - loss: 1.0064\n",
      "Epoch 12/20\n",
      "\u001b[1m102/102\u001b[0m \u001b[32m━━━━━━━━━━━━━━━━━━━━\u001b[0m\u001b[37m\u001b[0m \u001b[1m1s\u001b[0m 4ms/step - accuracy: 0.7258 - loss: 1.0105\n",
      "Epoch 13/20\n",
      "\u001b[1m102/102\u001b[0m \u001b[32m━━━━━━━━━━━━━━━━━━━━\u001b[0m\u001b[37m\u001b[0m \u001b[1m0s\u001b[0m 2ms/step - accuracy: 0.7235 - loss: 1.0005\n",
      "Epoch 14/20\n",
      "\u001b[1m102/102\u001b[0m \u001b[32m━━━━━━━━━━━━━━━━━━━━\u001b[0m\u001b[37m\u001b[0m \u001b[1m0s\u001b[0m 3ms/step - accuracy: 0.7577 - loss: 0.9661\n",
      "Epoch 15/20\n",
      "\u001b[1m102/102\u001b[0m \u001b[32m━━━━━━━━━━━━━━━━━━━━\u001b[0m\u001b[37m\u001b[0m \u001b[1m0s\u001b[0m 4ms/step - accuracy: 0.7429 - loss: 0.9788\n",
      "Epoch 16/20\n",
      "\u001b[1m102/102\u001b[0m \u001b[32m━━━━━━━━━━━━━━━━━━━━\u001b[0m\u001b[37m\u001b[0m \u001b[1m0s\u001b[0m 2ms/step - accuracy: 0.7431 - loss: 0.9679\n",
      "Epoch 17/20\n",
      "\u001b[1m102/102\u001b[0m \u001b[32m━━━━━━━━━━━━━━━━━━━━\u001b[0m\u001b[37m\u001b[0m \u001b[1m0s\u001b[0m 2ms/step - accuracy: 0.7537 - loss: 0.9516\n",
      "Epoch 18/20\n",
      "\u001b[1m102/102\u001b[0m \u001b[32m━━━━━━━━━━━━━━━━━━━━\u001b[0m\u001b[37m\u001b[0m \u001b[1m0s\u001b[0m 2ms/step - accuracy: 0.7538 - loss: 0.9597\n",
      "Epoch 19/20\n",
      "\u001b[1m102/102\u001b[0m \u001b[32m━━━━━━━━━━━━━━━━━━━━\u001b[0m\u001b[37m\u001b[0m \u001b[1m0s\u001b[0m 3ms/step - accuracy: 0.7653 - loss: 0.9322\n",
      "Epoch 20/20\n",
      "\u001b[1m102/102\u001b[0m \u001b[32m━━━━━━━━━━━━━━━━━━━━\u001b[0m\u001b[37m\u001b[0m \u001b[1m0s\u001b[0m 2ms/step - accuracy: 0.7649 - loss: 0.9402\n"
     ]
    },
    {
     "data": {
      "text/plain": [
       "<keras.src.callbacks.history.History at 0x1685b8fb0>"
      ]
     },
     "execution_count": 39,
     "metadata": {},
     "output_type": "execute_result"
    }
   ],
   "source": [
    "model = create_model()\n",
    "print(\"Training model with soft label supervision...\")\n",
    "model.fit(train_padded, y_train_soft, epochs=20)"
   ]
  },
  {
   "cell_type": "code",
   "execution_count": 40,
   "id": "46f68a25-f6ac-4ac5-9074-e5957462a656",
   "metadata": {},
   "outputs": [
    {
     "name": "stdout",
     "output_type": "stream",
     "text": [
      "\u001b[1m21/21\u001b[0m \u001b[32m━━━━━━━━━━━━━━━━━━━━\u001b[0m\u001b[37m\u001b[0m \u001b[1m0s\u001b[0m 5ms/step\n"
     ]
    }
   ],
   "source": [
    "predictions = model.predict(test_soft_padded)"
   ]
  },
  {
   "cell_type": "code",
   "execution_count": 41,
   "id": "ca642307-7d09-4589-a1bf-343d57427563",
   "metadata": {},
   "outputs": [
    {
     "name": "stdout",
     "output_type": "stream",
     "text": [
      "                                                 Tweet predicted_soft_label\n",
      "0    This is a BS manosphere comment and I’m shocke...                    -\n",
      "1    Thats why women have to stay at home raise chi...          JUDGEMENTAL\n",
      "2                                  Please be our voice                    -\n",
      "3           even after Roe v Wade was overturned Fun s                    -\n",
      "6    Any of yall remember that law and order episod...                    -\n",
      "..                                                 ...                  ...\n",
      "949  usually when i lose in a game i cuss or yell b...                    -\n",
      "950  it does meaning Sal did too much I was so conf...                    -\n",
      "951  I can be in the wrong while driving and still ...                    -\n",
      "952  for christs sakes south park you liked that mo...                    -\n",
      "953  He plays through the whistle and with attitude...                    -\n",
      "\n",
      "[643 rows x 2 columns]\n"
     ]
    }
   ],
   "source": [
    "# === 9. Convert Predictions to Class Labels ===\n",
    "yes_soft_df['predicted_soft_label'] = label_encoder.inverse_transform(np.argmax(predictions, axis=1))\n",
    "yes_soft_df['predicted_soft_distribution'] = predictions.tolist()\n",
    "\n",
    "# === 10. View Results ===\n",
    "print(yes_soft_df[['Tweet', 'predicted_soft_label']])"
   ]
  },
  {
   "cell_type": "code",
   "execution_count": 42,
   "id": "1987d7a5-885a-4877-8c3d-cec3709f78fb",
   "metadata": {},
   "outputs": [],
   "source": [
    "csv_file_train = '/Users/naranja/Desktop/EXIST/task_1_2/YES_hard_test.csv'\n",
    "yes_hard_df.to_csv(csv_file_train, index=False)\n",
    "csv_file_train = '/Users/naranja/Desktop/EXIST/task_1_2/YES_soft_test.csv'\n",
    "yes_soft_df.to_csv(csv_file_train, index=False)"
   ]
  },
  {
   "cell_type": "code",
   "execution_count": 43,
   "id": "61a42f86-caa4-42bb-a0fb-1a01c00e3823",
   "metadata": {},
   "outputs": [],
   "source": [
    "####################################################################################################################################"
   ]
  },
  {
   "cell_type": "code",
   "execution_count": 44,
   "id": "bed507a6-e84c-4a1e-86ef-abfad6dbdc62",
   "metadata": {},
   "outputs": [],
   "source": [
    "#####################################        MULTI_LABEL TEXT CLASSIFICATION          ##############################################"
   ]
  },
  {
   "cell_type": "code",
   "execution_count": 45,
   "id": "8eaa9ee4-22c3-412f-b854-f9992c8c5885",
   "metadata": {},
   "outputs": [],
   "source": [
    "####################################################################################################################################"
   ]
  },
  {
   "cell_type": "code",
   "execution_count": 46,
   "id": "18e3c867-863f-4633-ba37-24116b493ceb",
   "metadata": {},
   "outputs": [],
   "source": [
    "from tensorflow.keras.layers import Input, Embedding, LSTM, Dense, Dropout, Bidirectional\n",
    "from tensorflow.keras.models import Model\n",
    "from tensorflow.keras.callbacks import EarlyStopping, ModelCheckpoint\n",
    "from sklearn.model_selection import train_test_split\n",
    "from sklearn.metrics import classification_report, multilabel_confusion_matrix\n",
    "import matplotlib.pyplot as plt\n",
    "import ast"
   ]
  },
  {
   "cell_type": "code",
   "execution_count": 47,
   "id": "69b08693-51f3-4dc3-8086-e8d18eba11bb",
   "metadata": {},
   "outputs": [],
   "source": [
    "# Constants\n",
    "MAX_VOCAB_SIZE = 10000\n",
    "MAX_SEQUENCE_LENGTH = 100\n",
    "EMBEDDING_DIM = 200\n",
    "EPOCHS = 10"
   ]
  },
  {
   "cell_type": "code",
   "execution_count": 48,
   "id": "76f75c3a-89f4-449a-9569-0128124e33ed",
   "metadata": {},
   "outputs": [],
   "source": [
    "# Define valid labels (note: \"UNKNOWN\" is excluded from prediction targets)\n",
    "VALID_LABELS = ['IDEOLOGICAL-INEQUALITY', 'STEREOTYPING-DOMINANCE', 'OBJECTIFICATION', \n",
    "                'SEXUAL-VIOLENCE', 'MISOGYNY-NON-SEXUAL-VIOLENCE', '-']"
   ]
  },
  {
   "cell_type": "code",
   "execution_count": 49,
   "id": "d4c5aa9f-96b8-4e7c-8ae8-eb44732be988",
   "metadata": {
    "jupyter": {
     "source_hidden": true
    }
   },
   "outputs": [],
   "source": [
    "def load_data(train_file, test_file=None):\n",
    "    \"\"\"Load data from CSV files\"\"\"\n",
    "    train_df = pd.read_csv(train_file)\n",
    "    \n",
    "    if test_file:\n",
    "        test_df = pd.read_csv(test_file)\n",
    "        return train_df, test_df\n",
    "    return train_df, None"
   ]
  },
  {
   "cell_type": "code",
   "execution_count": 50,
   "id": "579d2a47-1dba-4952-b95a-072df3421c6c",
   "metadata": {
    "jupyter": {
     "source_hidden": true
    }
   },
   "outputs": [],
   "source": [
    "def preprocess_labels(labels_series):\n",
    "    \"\"\"\n",
    "    Process labels from multiple annotators (up to 6 per tweet)\n",
    "    - \"-\" is assigned to non-sexist instances\n",
    "    - \"UNKNOWN\" means no label provided (should be excluded from predictions)\n",
    "    \"\"\"\n",
    "    # Initialize multi-hot encoded matrix\n",
    "    multi_hot = np.zeros((len(labels_series), len(VALID_LABELS)))\n",
    "    soft_labels = np.zeros((len(labels_series), len(VALID_LABELS)))\n",
    "    \n",
    "    for i, label_data in enumerate(labels_series):\n",
    "        try:\n",
    "            # Parse the label data to get list of annotations\n",
    "            annotations = []\n",
    "            \n",
    "            if isinstance(label_data, str):\n",
    "                # Try to parse as list (handles various string formats)\n",
    "                try:\n",
    "                    parsed_data = ast.literal_eval(label_data)\n",
    "                    if isinstance(parsed_data, list):\n",
    "                        # Handle nested lists (annotators)\n",
    "                        for item in parsed_data:\n",
    "                            if isinstance(item, list):\n",
    "                                annotations.extend([label for label in item if label != \"UNKNOWN\"])\n",
    "                            elif item != \"UNKNOWN\":\n",
    "                                annotations.append(item)\n",
    "                    elif parsed_data != \"UNKNOWN\":\n",
    "                        annotations.append(parsed_data)\n",
    "                except:\n",
    "                    # Fallback if parsing fails\n",
    "                    if label_data != \"UNKNOWN\":\n",
    "                        annotations = [label_data]\n",
    "            elif not pd.isna(label_data) and label_data != \"UNKNOWN\":\n",
    "                annotations = [str(label_data)]\n",
    "            \n",
    "            # Count valid label occurrences (exclude \"UNKNOWN\")\n",
    "            label_counts = {}\n",
    "            for label in annotations:\n",
    "                if label in VALID_LABELS:\n",
    "                    label_counts[label] = label_counts.get(label, 0) + 1\n",
    "            \n",
    "            # Calculate soft labels (proportions) and set hard labels\n",
    "            if label_counts:\n",
    "                total_valid_annotations = sum(label_counts.values())\n",
    "                for label, count in label_counts.items():\n",
    "                    label_idx = VALID_LABELS.index(label)\n",
    "                    soft_labels[i, label_idx] = count / total_valid_annotations\n",
    "                    multi_hot[i, label_idx] = 1  # Hard label (binary)\n",
    "        \n",
    "        except Exception as e:\n",
    "            print(f\"Error processing label at index {i}: {e}\")\n",
    "            print(f\"Label data: {label_data}\")\n",
    "            \n",
    "    return multi_hot, soft_labels"
   ]
  },
  {
   "cell_type": "code",
   "execution_count": 51,
   "id": "f297b71a-a19e-4603-a6a6-727aad191f94",
   "metadata": {
    "jupyter": {
     "source_hidden": true
    }
   },
   "outputs": [],
   "source": [
    "def prepare_text_data(train_texts, test_texts=None):\n",
    "    \"\"\"Tokenize and pad text data\"\"\"\n",
    "    tokenizer = Tokenizer(num_words=MAX_VOCAB_SIZE, oov_token='<OOV>')\n",
    "    tokenizer.fit_on_texts(train_texts)\n",
    "    \n",
    "    # Process training data\n",
    "    train_sequences = tokenizer.texts_to_sequences(train_texts)\n",
    "    train_padded = pad_sequences(train_sequences, maxlen=MAX_SEQUENCE_LENGTH, padding='post')\n",
    "    \n",
    "    # Process test data if provided\n",
    "    if test_texts is not None:\n",
    "        test_sequences = tokenizer.texts_to_sequences(test_texts)\n",
    "        test_padded = pad_sequences(test_sequences, maxlen=MAX_SEQUENCE_LENGTH, padding='post')\n",
    "        return train_padded, test_padded, tokenizer\n",
    "    \n",
    "    return train_padded, None, tokenizer"
   ]
  },
  {
   "cell_type": "code",
   "execution_count": 52,
   "id": "9aff83bf-5517-421e-859b-d32fb5637aef",
   "metadata": {},
   "outputs": [],
   "source": [
    "def build_model(vocab_size, num_labels):\n",
    "    \"\"\"Build a Bi-LSTM model for multi-label classification\"\"\"\n",
    "    # Input layer\n",
    "    input_layer = Input(shape=(MAX_SEQUENCE_LENGTH,))\n",
    "    \n",
    "    # Embedding layer\n",
    "    embedding_layer = Embedding(input_dim=vocab_size, \n",
    "                                output_dim=EMBEDDING_DIM, \n",
    "                                input_length=MAX_SEQUENCE_LENGTH)(input_layer)\n",
    "    \n",
    "    # Bi-LSTM layers\n",
    "    lstm_layer = Bidirectional(LSTM(128, return_sequences=True))(embedding_layer)\n",
    "    lstm_layer = Bidirectional(LSTM(64))(lstm_layer)\n",
    "    \n",
    "    # Dense layers with dropout\n",
    "    dense_layer = Dense(128, activation='relu')(lstm_layer)\n",
    "    dropout_layer = Dropout(0.5)(dense_layer)\n",
    "    \n",
    "    # Output layer with sigmoid for multi-label classification\n",
    "    output_layer = Dense(num_labels, activation='sigmoid')(dropout_layer)\n",
    "    \n",
    "    # Create model\n",
    "    model = Model(inputs=input_layer, outputs=output_layer)\n",
    "    \n",
    "    # Compile model\n",
    "    model.compile(loss='binary_crossentropy',\n",
    "                  optimizer='adam',\n",
    "                  metrics=['accuracy'])\n",
    "    \n",
    "    return model"
   ]
  },
  {
   "cell_type": "code",
   "execution_count": 53,
   "id": "a247f5ff-9436-4628-8bcb-06400b76416d",
   "metadata": {
    "jupyter": {
     "source_hidden": true
    }
   },
   "outputs": [],
   "source": [
    "def plot_training_history(history):\n",
    "    \"\"\"Plot training history\"\"\"\n",
    "    plt.figure(figsize=(12, 5))\n",
    "    \n",
    "    # Plot training & validation accuracy\n",
    "    plt.subplot(1, 2, 1)\n",
    "    plt.plot(history.history['accuracy'])\n",
    "    plt.title('Model accuracy')\n",
    "    plt.ylabel('Accuracy')\n",
    "    plt.xlabel('Epoch')\n",
    "    plt.legend(['Train'], loc='upper left')\n",
    "    \n",
    "    # Plot training & validation loss\n",
    "    plt.subplot(1, 2, 2)\n",
    "    plt.plot(history.history['loss'])\n",
    "    plt.title('Model loss')\n",
    "    plt.ylabel('Loss')\n",
    "    plt.xlabel('Epoch')\n",
    "    plt.legend(['Train'], loc='upper left')\n",
    "    \n",
    "    plt.tight_layout()\n",
    "    plt.show()"
   ]
  },
  {
   "cell_type": "code",
   "execution_count": 54,
   "id": "b5288c60-0eca-41d7-a2d9-4a427a5db508",
   "metadata": {},
   "outputs": [],
   "source": [
    "def predict_labels(model, X, tokenizer=None, texts=None):\n",
    "    \"\"\"Make predictions on input data\"\"\"\n",
    "    if tokenizer is not None and texts is not None:\n",
    "        # Process text inputs\n",
    "        sequences = tokenizer.texts_to_sequences(texts)\n",
    "        X = pad_sequences(sequences, maxlen=MAX_SEQUENCE_LENGTH, padding='post')\n",
    "    \n",
    "    # Predict probabilities\n",
    "    y_pred_proba = model.predict(X)\n",
    "    \n",
    "    # Convert to binary predictions with threshold 0.5\n",
    "    y_pred = (y_pred_proba > 0.5).astype(int)\n",
    "    \n",
    "    # Ensure at least one label is predicted (choose max probability if no labels above threshold)\n",
    "    for i in range(len(y_pred)):\n",
    "        if np.sum(y_pred[i]) == 0:\n",
    "            max_idx = np.argmax(y_pred_proba[i])\n",
    "            y_pred[i, max_idx] = 1\n",
    "    \n",
    "    return y_pred, y_pred_proba"
   ]
  },
  {
   "cell_type": "code",
   "execution_count": 55,
   "id": "fa426309-1bd2-4bf7-9f87-8ba1c476da0e",
   "metadata": {},
   "outputs": [],
   "source": [
    "def save_predictions(test_df, y_pred, y_pred_proba, output_file=\"predictions.csv\"):\n",
    "    \"\"\"Save predictions to a CSV file\"\"\"\n",
    "    # Create a copy of the test dataframe\n",
    "    results_df = test_df.copy()\n",
    "\n",
    "    # Add predicted hard labels (excluding \"UNKNOWN\" which should never be predicted)\n",
    "    predicted_labels = []\n",
    "    for i, pred in enumerate(y_pred):  # Added index i to the loop variable\n",
    "        row_labels = [VALID_LABELS[j] for j in range(len(VALID_LABELS)) if pred[j] == 1]\n",
    "        # If only \"-\" is predicted and there's a sexist label with probability close to the threshold, include it\n",
    "        if row_labels == [\"-\"] and np.max(y_pred_proba[i, :-1]) > 0.3:  # assuming \"-\" is the last label\n",
    "            next_best_idx = np.argmax(y_pred_proba[i, :-1])\n",
    "            row_labels.append(VALID_LABELS[next_best_idx])\n",
    "            \n",
    "        predicted_labels.append(','.join(row_labels))\n",
    "    \n",
    "    results_df['predicted_labels'] = predicted_labels\n",
    "    \n",
    "    # Add probabilities for each label\n",
    "    for i, label in enumerate(VALID_LABELS):\n",
    "        results_df[f'prob_{label}'] = y_pred_proba[:, i]\n",
    "    \n",
    "    # Save to CSV\n",
    "    results_df.to_csv(output_file, index=False)\n",
    "    print(f\"Predictions saved to {output_file}\")\n",
    "    \n",
    "    return results_df"
   ]
  },
  {
   "cell_type": "code",
   "execution_count": 56,
   "id": "7d4d60b7-1a18-4b45-b43a-c98ef6ddec52",
   "metadata": {},
   "outputs": [
    {
     "name": "stdout",
     "output_type": "stream",
     "text": [
      "Loading data...\n",
      "Processing labels...\n",
      "Using soft labels for training\n",
      "\n",
      "Label distribution in training data:\n",
      "IDEOLOGICAL-INEQUALITY: 1445.0 instances (44.33%)\n",
      "STEREOTYPING-DOMINANCE: 1600.0 instances (49.08%)\n",
      "OBJECTIFICATION: 1302.0 instances (39.94%)\n",
      "SEXUAL-VIOLENCE: 779.0 instances (23.90%)\n",
      "MISOGYNY-NON-SEXUAL-VIOLENCE: 1039.0 instances (31.87%)\n",
      "-: 2938.0 instances (90.12%)\n",
      "Preparing text data...\n",
      "Building model...\n"
     ]
    },
    {
     "name": "stderr",
     "output_type": "stream",
     "text": [
      "/Users/naranja/opt/anaconda3/lib/python3.12/site-packages/keras/src/layers/core/embedding.py:90: UserWarning: Argument `input_length` is deprecated. Just remove it.\n",
      "  warnings.warn(\n"
     ]
    },
    {
     "data": {
      "text/html": [
       "<pre style=\"white-space:pre;overflow-x:auto;line-height:normal;font-family:Menlo,'DejaVu Sans Mono',consolas,'Courier New',monospace\"><span style=\"font-weight: bold\">Model: \"functional_4\"</span>\n",
       "</pre>\n"
      ],
      "text/plain": [
       "\u001b[1mModel: \"functional_4\"\u001b[0m\n"
      ]
     },
     "metadata": {},
     "output_type": "display_data"
    },
    {
     "data": {
      "text/html": [
       "<pre style=\"white-space:pre;overflow-x:auto;line-height:normal;font-family:Menlo,'DejaVu Sans Mono',consolas,'Courier New',monospace\">┏━━━━━━━━━━━━━━━━━━━━━━━━━━━━━━━━━┳━━━━━━━━━━━━━━━━━━━━━━━━┳━━━━━━━━━━━━━━━┓\n",
       "┃<span style=\"font-weight: bold\"> Layer (type)                    </span>┃<span style=\"font-weight: bold\"> Output Shape           </span>┃<span style=\"font-weight: bold\">       Param # </span>┃\n",
       "┡━━━━━━━━━━━━━━━━━━━━━━━━━━━━━━━━━╇━━━━━━━━━━━━━━━━━━━━━━━━╇━━━━━━━━━━━━━━━┩\n",
       "│ input_layer_2 (<span style=\"color: #0087ff; text-decoration-color: #0087ff\">InputLayer</span>)      │ (<span style=\"color: #00d7ff; text-decoration-color: #00d7ff\">None</span>, <span style=\"color: #00af00; text-decoration-color: #00af00\">100</span>)            │             <span style=\"color: #00af00; text-decoration-color: #00af00\">0</span> │\n",
       "├─────────────────────────────────┼────────────────────────┼───────────────┤\n",
       "│ embedding_4 (<span style=\"color: #0087ff; text-decoration-color: #0087ff\">Embedding</span>)         │ (<span style=\"color: #00d7ff; text-decoration-color: #00d7ff\">None</span>, <span style=\"color: #00af00; text-decoration-color: #00af00\">100</span>, <span style=\"color: #00af00; text-decoration-color: #00af00\">200</span>)       │     <span style=\"color: #00af00; text-decoration-color: #00af00\">2,000,000</span> │\n",
       "├─────────────────────────────────┼────────────────────────┼───────────────┤\n",
       "│ bidirectional (<span style=\"color: #0087ff; text-decoration-color: #0087ff\">Bidirectional</span>)   │ (<span style=\"color: #00d7ff; text-decoration-color: #00d7ff\">None</span>, <span style=\"color: #00af00; text-decoration-color: #00af00\">100</span>, <span style=\"color: #00af00; text-decoration-color: #00af00\">256</span>)       │       <span style=\"color: #00af00; text-decoration-color: #00af00\">336,896</span> │\n",
       "├─────────────────────────────────┼────────────────────────┼───────────────┤\n",
       "│ bidirectional_1 (<span style=\"color: #0087ff; text-decoration-color: #0087ff\">Bidirectional</span>) │ (<span style=\"color: #00d7ff; text-decoration-color: #00d7ff\">None</span>, <span style=\"color: #00af00; text-decoration-color: #00af00\">128</span>)            │       <span style=\"color: #00af00; text-decoration-color: #00af00\">164,352</span> │\n",
       "├─────────────────────────────────┼────────────────────────┼───────────────┤\n",
       "│ dense_8 (<span style=\"color: #0087ff; text-decoration-color: #0087ff\">Dense</span>)                 │ (<span style=\"color: #00d7ff; text-decoration-color: #00d7ff\">None</span>, <span style=\"color: #00af00; text-decoration-color: #00af00\">128</span>)            │        <span style=\"color: #00af00; text-decoration-color: #00af00\">16,512</span> │\n",
       "├─────────────────────────────────┼────────────────────────┼───────────────┤\n",
       "│ dropout_2 (<span style=\"color: #0087ff; text-decoration-color: #0087ff\">Dropout</span>)             │ (<span style=\"color: #00d7ff; text-decoration-color: #00d7ff\">None</span>, <span style=\"color: #00af00; text-decoration-color: #00af00\">128</span>)            │             <span style=\"color: #00af00; text-decoration-color: #00af00\">0</span> │\n",
       "├─────────────────────────────────┼────────────────────────┼───────────────┤\n",
       "│ dense_9 (<span style=\"color: #0087ff; text-decoration-color: #0087ff\">Dense</span>)                 │ (<span style=\"color: #00d7ff; text-decoration-color: #00d7ff\">None</span>, <span style=\"color: #00af00; text-decoration-color: #00af00\">6</span>)              │           <span style=\"color: #00af00; text-decoration-color: #00af00\">774</span> │\n",
       "└─────────────────────────────────┴────────────────────────┴───────────────┘\n",
       "</pre>\n"
      ],
      "text/plain": [
       "┏━━━━━━━━━━━━━━━━━━━━━━━━━━━━━━━━━┳━━━━━━━━━━━━━━━━━━━━━━━━┳━━━━━━━━━━━━━━━┓\n",
       "┃\u001b[1m \u001b[0m\u001b[1mLayer (type)                   \u001b[0m\u001b[1m \u001b[0m┃\u001b[1m \u001b[0m\u001b[1mOutput Shape          \u001b[0m\u001b[1m \u001b[0m┃\u001b[1m \u001b[0m\u001b[1m      Param #\u001b[0m\u001b[1m \u001b[0m┃\n",
       "┡━━━━━━━━━━━━━━━━━━━━━━━━━━━━━━━━━╇━━━━━━━━━━━━━━━━━━━━━━━━╇━━━━━━━━━━━━━━━┩\n",
       "│ input_layer_2 (\u001b[38;5;33mInputLayer\u001b[0m)      │ (\u001b[38;5;45mNone\u001b[0m, \u001b[38;5;34m100\u001b[0m)            │             \u001b[38;5;34m0\u001b[0m │\n",
       "├─────────────────────────────────┼────────────────────────┼───────────────┤\n",
       "│ embedding_4 (\u001b[38;5;33mEmbedding\u001b[0m)         │ (\u001b[38;5;45mNone\u001b[0m, \u001b[38;5;34m100\u001b[0m, \u001b[38;5;34m200\u001b[0m)       │     \u001b[38;5;34m2,000,000\u001b[0m │\n",
       "├─────────────────────────────────┼────────────────────────┼───────────────┤\n",
       "│ bidirectional (\u001b[38;5;33mBidirectional\u001b[0m)   │ (\u001b[38;5;45mNone\u001b[0m, \u001b[38;5;34m100\u001b[0m, \u001b[38;5;34m256\u001b[0m)       │       \u001b[38;5;34m336,896\u001b[0m │\n",
       "├─────────────────────────────────┼────────────────────────┼───────────────┤\n",
       "│ bidirectional_1 (\u001b[38;5;33mBidirectional\u001b[0m) │ (\u001b[38;5;45mNone\u001b[0m, \u001b[38;5;34m128\u001b[0m)            │       \u001b[38;5;34m164,352\u001b[0m │\n",
       "├─────────────────────────────────┼────────────────────────┼───────────────┤\n",
       "│ dense_8 (\u001b[38;5;33mDense\u001b[0m)                 │ (\u001b[38;5;45mNone\u001b[0m, \u001b[38;5;34m128\u001b[0m)            │        \u001b[38;5;34m16,512\u001b[0m │\n",
       "├─────────────────────────────────┼────────────────────────┼───────────────┤\n",
       "│ dropout_2 (\u001b[38;5;33mDropout\u001b[0m)             │ (\u001b[38;5;45mNone\u001b[0m, \u001b[38;5;34m128\u001b[0m)            │             \u001b[38;5;34m0\u001b[0m │\n",
       "├─────────────────────────────────┼────────────────────────┼───────────────┤\n",
       "│ dense_9 (\u001b[38;5;33mDense\u001b[0m)                 │ (\u001b[38;5;45mNone\u001b[0m, \u001b[38;5;34m6\u001b[0m)              │           \u001b[38;5;34m774\u001b[0m │\n",
       "└─────────────────────────────────┴────────────────────────┴───────────────┘\n"
      ]
     },
     "metadata": {},
     "output_type": "display_data"
    },
    {
     "data": {
      "text/html": [
       "<pre style=\"white-space:pre;overflow-x:auto;line-height:normal;font-family:Menlo,'DejaVu Sans Mono',consolas,'Courier New',monospace\"><span style=\"font-weight: bold\"> Total params: </span><span style=\"color: #00af00; text-decoration-color: #00af00\">2,518,534</span> (9.61 MB)\n",
       "</pre>\n"
      ],
      "text/plain": [
       "\u001b[1m Total params: \u001b[0m\u001b[38;5;34m2,518,534\u001b[0m (9.61 MB)\n"
      ]
     },
     "metadata": {},
     "output_type": "display_data"
    },
    {
     "data": {
      "text/html": [
       "<pre style=\"white-space:pre;overflow-x:auto;line-height:normal;font-family:Menlo,'DejaVu Sans Mono',consolas,'Courier New',monospace\"><span style=\"font-weight: bold\"> Trainable params: </span><span style=\"color: #00af00; text-decoration-color: #00af00\">2,518,534</span> (9.61 MB)\n",
       "</pre>\n"
      ],
      "text/plain": [
       "\u001b[1m Trainable params: \u001b[0m\u001b[38;5;34m2,518,534\u001b[0m (9.61 MB)\n"
      ]
     },
     "metadata": {},
     "output_type": "display_data"
    },
    {
     "data": {
      "text/html": [
       "<pre style=\"white-space:pre;overflow-x:auto;line-height:normal;font-family:Menlo,'DejaVu Sans Mono',consolas,'Courier New',monospace\"><span style=\"font-weight: bold\"> Non-trainable params: </span><span style=\"color: #00af00; text-decoration-color: #00af00\">0</span> (0.00 B)\n",
       "</pre>\n"
      ],
      "text/plain": [
       "\u001b[1m Non-trainable params: \u001b[0m\u001b[38;5;34m0\u001b[0m (0.00 B)\n"
      ]
     },
     "metadata": {},
     "output_type": "display_data"
    },
    {
     "name": "stdout",
     "output_type": "stream",
     "text": [
      "Training model...\n",
      "Epoch 1/10\n",
      "\u001b[1m102/102\u001b[0m \u001b[32m━━━━━━━━━━━━━━━━━━━━\u001b[0m\u001b[37m\u001b[0m \u001b[1m61s\u001b[0m 508ms/step - accuracy: 0.5341 - loss: 0.4401\n",
      "Epoch 2/10\n"
     ]
    },
    {
     "name": "stderr",
     "output_type": "stream",
     "text": [
      "/Users/naranja/opt/anaconda3/lib/python3.12/site-packages/keras/src/callbacks/early_stopping.py:153: UserWarning: Early stopping conditioned on metric `val_loss` which is not available. Available metrics are: accuracy,loss\n",
      "  current = self.get_monitor_value(logs)\n",
      "/Users/naranja/opt/anaconda3/lib/python3.12/site-packages/keras/src/callbacks/model_checkpoint.py:209: UserWarning: Can save best model only with val_loss available, skipping.\n",
      "  self._save_model(epoch=epoch, batch=None, logs=logs)\n"
     ]
    },
    {
     "name": "stdout",
     "output_type": "stream",
     "text": [
      "\u001b[1m102/102\u001b[0m \u001b[32m━━━━━━━━━━━━━━━━━━━━\u001b[0m\u001b[37m\u001b[0m \u001b[1m51s\u001b[0m 498ms/step - accuracy: 0.6162 - loss: 0.3630\n",
      "Epoch 3/10\n",
      "\u001b[1m102/102\u001b[0m \u001b[32m━━━━━━━━━━━━━━━━━━━━\u001b[0m\u001b[37m\u001b[0m \u001b[1m55s\u001b[0m 539ms/step - accuracy: 0.6543 - loss: 0.3234\n",
      "Epoch 4/10\n",
      "\u001b[1m102/102\u001b[0m \u001b[32m━━━━━━━━━━━━━━━━━━━━\u001b[0m\u001b[37m\u001b[0m \u001b[1m81s\u001b[0m 526ms/step - accuracy: 0.6688 - loss: 0.3063\n",
      "Epoch 5/10\n",
      "\u001b[1m102/102\u001b[0m \u001b[32m━━━━━━━━━━━━━━━━━━━━\u001b[0m\u001b[37m\u001b[0m \u001b[1m49s\u001b[0m 477ms/step - accuracy: 0.6736 - loss: 0.2985\n",
      "Epoch 6/10\n",
      "\u001b[1m102/102\u001b[0m \u001b[32m━━━━━━━━━━━━━━━━━━━━\u001b[0m\u001b[37m\u001b[0m \u001b[1m50s\u001b[0m 489ms/step - accuracy: 0.7148 - loss: 0.2836\n",
      "Epoch 7/10\n",
      "\u001b[1m102/102\u001b[0m \u001b[32m━━━━━━━━━━━━━━━━━━━━\u001b[0m\u001b[37m\u001b[0m \u001b[1m48s\u001b[0m 471ms/step - accuracy: 0.7423 - loss: 0.2771\n",
      "Epoch 8/10\n",
      "\u001b[1m102/102\u001b[0m \u001b[32m━━━━━━━━━━━━━━━━━━━━\u001b[0m\u001b[37m\u001b[0m \u001b[1m46s\u001b[0m 453ms/step - accuracy: 0.7624 - loss: 0.2695\n",
      "Epoch 9/10\n",
      "\u001b[1m102/102\u001b[0m \u001b[32m━━━━━━━━━━━━━━━━━━━━\u001b[0m\u001b[37m\u001b[0m \u001b[1m48s\u001b[0m 474ms/step - accuracy: 0.7710 - loss: 0.2725\n",
      "Epoch 10/10\n",
      "\u001b[1m102/102\u001b[0m \u001b[32m━━━━━━━━━━━━━━━━━━━━\u001b[0m\u001b[37m\u001b[0m \u001b[1m49s\u001b[0m 480ms/step - accuracy: 0.7747 - loss: 0.2648\n"
     ]
    },
    {
     "data": {
      "image/png": "[encoded data removed]",
      "text/plain": [
       "<Figure size 1200x500 with 2 Axes>"
      ]
     },
     "metadata": {},
     "output_type": "display_data"
    },
    {
     "name": "stdout",
     "output_type": "stream",
     "text": [
      "Making predictions on test data...\n",
      "\u001b[1m21/21\u001b[0m \u001b[32m━━━━━━━━━━━━━━━━━━━━\u001b[0m\u001b[37m\u001b[0m \u001b[1m4s\u001b[0m 154ms/step\n",
      "Predictions saved to /Users/naranja/Desktop/EXIST/task_1_3/YES_soft_test.csv\n"
     ]
    }
   ],
   "source": [
    "def main(train_file, test_file=None, use_soft_labels=True):\n",
    "    # Load training and test data\n",
    "    print(\"Loading data...\")\n",
    "    train_df, test_df = load_data(train_file, test_file)\n",
    "         \n",
    "    # Process labels\n",
    "    print(\"Processing labels...\")\n",
    "    train_hard_labels, train_soft_labels = preprocess_labels(train_df['labels_task1_3'])\n",
    "    \n",
    "    # Use soft or hard labels based on parameter\n",
    "    train_labels = train_soft_labels if use_soft_labels else train_hard_labels\n",
    "    label_type = \"soft\" if use_soft_labels else \"hard\"\n",
    "    print(f\"Using {label_type} labels for training\")\n",
    "    \n",
    "    # Print label distribution\n",
    "    print(\"\\nLabel distribution in training data:\")\n",
    "    for i, label in enumerate(VALID_LABELS):\n",
    "        count = np.sum(train_hard_labels[:, i])\n",
    "        print(f\"{label}: {count} instances ({count/len(train_df)*100:.2f}%)\")\n",
    "    \n",
    "    # Prepare text data\n",
    "    print(\"Preparing text data...\")\n",
    "    if test_df is not None:\n",
    "        X_train, X_test, tokenizer = prepare_text_data(train_df['tweet'], yes_soft_df['Tweet'])\n",
    "    else:\n",
    "        X_train, _, tokenizer = prepare_text_data(train_df['tweet'])\n",
    "        X_test = None\n",
    "    \n",
    "    # Build model\n",
    "    print(\"Building model...\")\n",
    "    vocab_size = min(MAX_VOCAB_SIZE, len(tokenizer.word_index) + 1)\n",
    "    model = build_model(vocab_size, len(VALID_LABELS))\n",
    "    model.summary()\n",
    "    \n",
    "    # Train model\n",
    "    print(\"Training model...\")\n",
    "    history = model.fit(\n",
    "        X_train, train_labels,\n",
    "        epochs=EPOCHS,\n",
    "        callbacks=[\n",
    "            tf.keras.callbacks.EarlyStopping(monitor='val_loss', patience=3, restore_best_weights=True),\n",
    "            tf.keras.callbacks.ModelCheckpoint(\"best_model.h5\", monitor='val_loss', save_best_only=True)\n",
    "        ]\n",
    "    )\n",
    "    \n",
    "    # Plot training history\n",
    "    plot_training_history(history)\n",
    "    \n",
    "    # Make predictions on test data if available\n",
    "    if test_df is not None and X_test is not None:\n",
    "        print(\"Making predictions on test data...\")\n",
    "        y_pred, y_pred_proba = predict_labels(model, X_test)\n",
    "        \n",
    "        # Save predictions\n",
    "        results_df = save_predictions(yes_soft_df, y_pred, y_pred_proba, '/Users/naranja/Desktop/EXIST/task_1_3/YES_soft_test.csv')\n",
    "        \n",
    "        #print(\"\\nSample predictions:\")\n",
    "        #for i in range(min(5, len(yes_df))):\n",
    "        #    text = yes_df['Tweet'].iloc[i]\n",
    "        #    pred_labels = results_df['predicted_labels'].iloc[i]\n",
    "        #    print(f\"Text: {text[:100]}...\" if len(text) > 100 else f\"Text: {text}\")\n",
    "        #    print(f\"Predicted: {pred_labels}\")\n",
    "        #    print(\"---\")\n",
    "\n",
    "if __name__ == \"__main__\":\n",
    "    main(\"/Users/naranja/Desktop/EXIST/task_1_1/training.csv\", \"/Users/naranja/Desktop/EXIST/task_1_2/YES_soft_test.csv\", use_soft_labels=True)"
   ]
  },
  {
   "cell_type": "code",
   "execution_count": null,
   "id": "e705160d-15ce-457c-89f9-43900f99342c",
   "metadata": {},
   "outputs": [],
   "source": []
  }
 ],
 "metadata": {
  "kernelspec": {
   "display_name": "Python 3 (ipykernel)",
   "language": "python",
   "name": "python3"
  },
  "language_info": {
   "codemirror_mode": {
    "name": "ipython",
    "version": 3
   },
   "file_extension": ".py",
   "mimetype": "text/x-python",
   "name": "python",
   "nbconvert_exporter": "python",
   "pygments_lexer": "ipython3",
   "version": "3.12.7"
  }
 },
 "nbformat": 4,
 "nbformat_minor": 5
}
